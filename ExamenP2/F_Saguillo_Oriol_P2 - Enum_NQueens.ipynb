{
 "cells": [
  {
   "cell_type": "markdown",
   "metadata": {},
   "source": [
    "<div style=\"padding:30px; color: white; background-color: #0071CD\">\n",
    "<center>\n",
    "<img src=\"img/logoub.jpeg\"></img>\n",
    "<p>\n",
    "<h1>Algorítimica Avançada</h1>\n",
    "<h2>Exámen práctico II - NQueens </h2>\n",
    "</center>\n",
    "</p>\n",
    "</div>"
   ]
  },
  {
   "cell_type": "markdown",
   "metadata": {},
   "source": [
    "<div class=\"alert alert-danger\">\n",
    "<center>\n",
    "  <h1>ATENCIÓN!</h1>\n",
    "  \n",
    "  Para realizar la entrega, hay que subir únicamente este fichero renombrado como: __*grupo*\\_*apellidos*\\_*nombre*_EP2.ipynb__ donde el grupo ha de ser uno de los cuatro de prácticas (A, B, C o F).\n",
    "</center>\n",
    "</div>"
   ]
  },
  {
   "cell_type": "markdown",
   "metadata": {},
   "source": [
    "<div class=\"alert alert-info\">\n",
    "<center>\n",
    "  <h1>Introducción</h1>\n",
    "</center>\n",
    "</div>"
   ]
  },
  {
   "cell_type": "markdown",
   "metadata": {},
   "source": [
    "El objetivo de este examen es solucionar una variante del problema de las N-Reinas que visteis en clase de teoría. En este caso, dado un tablero de $NxN$ buscamos situar el mínimo número de reinas necesarias para que todas las casillas del tablero se encuentren amenazadas por al menos una reina. Recordad que una reina puede atacar en cualquier dirección (horizontal, diagonal y vertical) y a cualquier distancia. En la imagen podéis ver todas las casillas que estarían amenazadas por una reina (en verde) en un tablero de 8x8:\n",
    "<img src='img/quenmove.png' width=150></IMG>\n",
    "Una casilla en la que hay una reina la consideraremos también como bajo amenaza. Una posible solución en un tablero de 4x4 con dos reinas se muestra en la siguiente imagen:\n",
    "<img src='img/quensolve.png' width=150></IMG>"
   ]
  },
  {
   "cell_type": "markdown",
   "metadata": {},
   "source": [
    "Para simplificar el problema se os ofrece la clase `Queens` que contiene las utilidades necesarias para trabajar con el tablero. Para crear un nuevo tablero de dimensión N llamamos simplemente `board = Queens(N)`. Para añadir una reina en una posición determinada $pos = (p_0,p_1)$, podemos emplear la función `new_board = board.add_queen(pos)`. Cada vez que añadimos una reina, la función nos devuelve __una nueva instancia__ de la clase Queens modificada con la nueva reina en la posición deseada.\n",
    "\n",
    "También tenemos varios atributos:\n",
    "<ul>\n",
    "    <li> <mark>board.free</mark> que nos devolverá una lista con las posiciones que no son amenazadas por ninguna reina.</li>\n",
    "    <li> <mark>board.empty</mark> que nos devolverá la lista de posiciones en las que no hay ninguna reina. </li> \n",
    "    <li> <mark>board.occupied</mark> que nos devolverá la lista de posiciones en las que hay reinas. </li>\n",
    "<ul>"
   ]
  },
  {
   "cell_type": "code",
   "execution_count": 1,
   "metadata": {},
   "outputs": [
    {
     "name": "stdout",
     "output_type": "stream",
     "text": [
      "Crea un tablero de 3x3\n",
      "+---+---+---+\n",
      "|   |   |   |\n",
      "+---+---+---+\n",
      "|   |   |   |\n",
      "+---+---+---+\n",
      "|   |   |   |\n",
      "+---+---+---+\n",
      "\n",
      "Pon una reina en (1,0):\n",
      "+---+---+---+\n",
      "|   |   |   |\n",
      "+---+---+---+\n",
      "| Q |   |   |\n",
      "+---+---+---+\n",
      "|   |   |   |\n",
      "+---+---+---+\n",
      "\n",
      "Las posiciones que todavía no están amenazadas son:\n",
      "[(0, 2), (2, 2)]\n",
      "Las posiciones con reians son:\n",
      "[(1, 0)]\n",
      "Las posiciones sin reinas son:\n",
      "[(0, 0), (0, 1), (0, 2), (1, 1), (1, 2), (2, 0), (2, 1), (2, 2)]\n"
     ]
    }
   ],
   "source": [
    "from queens import Queens\n",
    "\n",
    "print(\"Crea un tablero de 3x3\")\n",
    "b1 = Queens(n=3)\n",
    "print(b1)\n",
    "print(\"Pon una reina en (1,0):\")\n",
    "b2 = b1.add_queen((1,0)) # Nótese que b1 != b2\n",
    "print(b2)\n",
    "print(\"Las posiciones que todavía no están amenazadas son:\")\n",
    "print(b2.free)\n",
    "print(\"Las posiciones con reians son:\")\n",
    "print(b2.occupied)\n",
    "print(\"Las posiciones sin reinas son:\")\n",
    "print(b2.empty)"
   ]
  },
  {
   "cell_type": "markdown",
   "metadata": {},
   "source": [
    "Además tenemos la función `board.is_all_under_attack()` que nos indicará si ya hemos acabado (todas las casillas están amenazadas) `True` o todavía no `False`."
   ]
  },
  {
   "cell_type": "code",
   "execution_count": 2,
   "metadata": {},
   "outputs": [
    {
     "name": "stdout",
     "output_type": "stream",
     "text": [
      "El estado de resolución b2 es: False\n",
      "+---+---+---+\n",
      "|   |   |   |\n",
      "+---+---+---+\n",
      "| Q |   |   |\n",
      "+---+---+---+\n",
      "|   |   |   |\n",
      "+---+---+---+\n",
      "\n",
      "El estado de resolución b3 es: True\n",
      "+---+---+---+\n",
      "|   |   |   |\n",
      "+---+---+---+\n",
      "|   | Q |   |\n",
      "+---+---+---+\n",
      "|   |   |   |\n",
      "+---+---+---+\n",
      "\n"
     ]
    }
   ],
   "source": [
    "print(\"El estado de resolución b2 es: %s\" % str(b2.is_all_under_attack()))\n",
    "print(b2)\n",
    "b3 = b1.add_queen((1,1))\n",
    "print(\"El estado de resolución b3 es: %s\" % str(b3.is_all_under_attack()))\n",
    "print(b3)"
   ]
  },
  {
   "cell_type": "markdown",
   "metadata": {},
   "source": [
    "<div class=\"alert alert-info\">\n",
    "<center>\n",
    "  <h1>Examen</h1>\n",
    "</center>"
   ]
  },
  {
   "cell_type": "markdown",
   "metadata": {},
   "source": [
    "\n",
    "<div class=\"alert alert-success\" style=\"width:90%; margin:0 auto;\">\n",
    "\n",
    "  <p>\n",
    "  Se pide implementar una función iterativa que, mediante <b>ramificación y poda</b>, resuelva el problema planteado, es decir, que con el mínimo número de reinas consiga que todas las casillas del tablero estén amenazadas por al menos una de ellas. Se valorará principalmente el uso de un algoritmo que siga la estructura de ramificación y poda, no tanto lo eficientes que resulten las cotas a la hora de podar. \n",
    "    \n",
    "   A la hora de probar vuestros algoritmos es recomendable empezar con tamaños de N pequeños (hasta 6). El número de reinas esperadas para tableros de 1 a 8 son: 1, 1, 1, 2, 3, 3, 4 y 5.\n",
    "  \n",
    "  Solo se corregirá el código contenido en la función con cabecera `attacking` (de la cual no podéis cambiar la definición) y todo el que ésta llame. Es decir, si creáis funciones o clases auxiliares, solo las corregiremos si se emplean dentro de esta función. Además, no puede existir más de una versión de esta función en el notebook (por ejemplo, en celdas distintas).\n",
    "  </p>\n",
    "\n",
    "</div>"
   ]
  },
  {
   "cell_type": "code",
   "execution_count": 1,
   "metadata": {},
   "outputs": [],
   "source": [
    "import numpy as np\n",
    "import copy\n",
    "\n",
    "class Queens:\n",
    "    def __init__(self, n=8):\n",
    "        self._board = np.zeros((n,n))\n",
    "        self._free = np.zeros((n,n))\n",
    "        self.n = n\n",
    "    \n",
    "    @property\n",
    "    def empty(self):\n",
    "        # Devuelve el conjunto de casillas que no tienen reinas\n",
    "        return [(i, j) for i in range(self.n) for j in range(self.n) if self._board[i,j] == 0]\n",
    "    \n",
    "    @property\n",
    "    def occupied(self):\n",
    "        # Devuelve el conjunto de casillas que tienen reinas\n",
    "        return [(i, j) for i in range(self.n) for j in range(self.n) if self._board[i,j] == 1]\n",
    "    \n",
    "    @property\n",
    "    def free(self):\n",
    "        # Devuelve el conjunto de casillas que NO están bajo ataque\n",
    "        return [(i, j) for i in range(self.n) for j in range(self.n) if self._free[i,j] == 0]\n",
    "    \n",
    "    # Devuelve un NUEVO TABLERO con la reina situada en la posición pasada por parametro\n",
    "    def add_queen(self, pos):\n",
    "        new_b = copy.deepcopy(self)\n",
    "        if not (pos in self.empty):\n",
    "            raise Exception(\"Cannot add a queen in (%i, %i)\" % (pos[0], pos[1]))\n",
    "        \n",
    "        new_b._board[pos] = 1\n",
    "        # row \n",
    "        new_b._free[:, pos[1]] = 1\n",
    "        # column\n",
    "        new_b._free[pos[0], :] = 1\n",
    "        # diagonal 1\n",
    "        new_b._free[self.get_diagonal_idx(pos)] = 1\n",
    "        # diagonal 2\n",
    "        new_b._free[self.get_diagonal_rev_idx(pos)] = 1\n",
    "        \n",
    "        return new_b \n",
    "    \n",
    "    # Comprueba si todas las casillas están bajo ataque por al menos una reina\n",
    "    def is_all_under_attack(self):\n",
    "        return len(self.free) == 0\n",
    "    \n",
    "    def get_diagonal_idx(self, pos):\n",
    "        mat = self._board\n",
    "        diag = []\n",
    "        rev = False\n",
    "        if pos[0] < pos[1]:\n",
    "            x, y = pos[0], pos[1]\n",
    "        else:\n",
    "            x, y = pos[1], pos[0]\n",
    "            rev = True\n",
    "        d = abs(x-y)\n",
    "\n",
    "        for i in range(mat.shape[0]-d):\n",
    "            diag.append((i, i+d))\n",
    "\n",
    "        if rev:\n",
    "            diag = [(y, x) for x, y in diag]\n",
    "        return ([x[0] for x in diag], [x[1] for x in diag])\n",
    "\n",
    "    def get_diagonal_rev_idx(self, pos):\n",
    "        mat = self._board\n",
    "        diag = []\n",
    "        rev = False\n",
    "        x, y = mat.shape[0]-1-pos[0], pos[1]\n",
    "        if x > y:\n",
    "            x, y = y, x\n",
    "            rev = True\n",
    "        d = abs(x-y)\n",
    "        for i in range(mat.shape[0]-d):\n",
    "            diag.append((mat.shape[0]-1-i, i+d))\n",
    "        if rev:\n",
    "            diag = [(mat.shape[0]-1-y, mat.shape[0]-1-x) for x, y in diag]\n",
    "\n",
    "        return ([x[0] for x in diag], [x[1] for x in diag])\n",
    "    \n",
    "    def __lt__(self,other):\n",
    "        return len(self.free)<len(other.free)\n",
    "    \n",
    "    def __str__(self):\n",
    "        str_ = \"+\"\n",
    "        for i in self._board[0]:\n",
    "            str_ += \"---+\"\n",
    "        str_ += \"\\n\"\n",
    "        for i in self._board:\n",
    "            str_ += \"|\"\n",
    "            for j in i:\n",
    "                str_ += \"   |\" if j == 0 else \" Q |\"\n",
    "            str_ +=\"\\n+\"\n",
    "            for j in i:\n",
    "                str_ += \"---+\"\n",
    "            str_ +=\"\\n\"\n",
    "        return str_\n"
   ]
  },
  {
   "cell_type": "code",
   "execution_count": 2,
   "metadata": {},
   "outputs": [],
   "source": [
    "import heapq as hq\n",
    "\n",
    "\"\"\"\n",
    "    Debéis implementar vuestra solución con la cabecera attacking, la cual tendrá como entradas:\n",
    "        queens (Queens) --> Tablero sin reinas.\n",
    "    Y devolverá:\n",
    "        queens (Queens) --> Tablero con el mínimo número de reinas situadas de \n",
    "                            manera tal que todo el tablero esté amenazado.\n",
    "        expanded (int)  --> Número de nodos de los cuales producimos hijos posibles.\n",
    "\"\"\"\n",
    "\n",
    "def attacking(queens):\n",
    "    \n",
    "    expanded = 0\n",
    "    \n",
    "    #guardamos nuestro mejor tablero y num de reinas\n",
    "    best_queens = queens\n",
    "    best_numQueens = 0\n",
    "    \n",
    "    #añadimos el tablero no explorado inicial\n",
    "    unexplored = [(queens.free,queens,0)]\n",
    "    \n",
    "    while(len(unexplored)):\n",
    "        \n",
    "        curr_free , curr_board, numQueens = hq.heappop(unexplored)\n",
    "        \n",
    "        if len(curr_free) > best_numQueens: \n",
    "            \n",
    "            if curr_board.is_all_under_attack:\n",
    "                #Puede ser una posible solucion\n",
    "                if numQueens > best_numQueens:\n",
    "                    #Actualizamos nuestra Cota\n",
    "                    best_queens = curr_board\n",
    "                    best_numQueens = numQueens\n",
    "                    \n",
    "            for possible in curr_free:\n",
    "                \n",
    "                new_board = curr_board.add_queen(possible)\n",
    "                new_free = new_board.free\n",
    "                new_numQueens = numQueens\n",
    "                new_numQueens += 1\n",
    "                #Filtramos si nos interesa explorar\n",
    "                \n",
    "                if len(new_free) > numQueens:\n",
    "                     hq.heappush(unexplored,(new_free,new_board,new_numQueens))\n",
    "                        \n",
    "                \n",
    "            expanded += 1\n",
    "    #print(best_numQueens)        \n",
    "    return best_queens,expanded # El tablero solucionado\n"
   ]
  },
  {
   "cell_type": "code",
   "execution_count": 4,
   "metadata": {},
   "outputs": [
    {
     "name": "stdout",
     "output_type": "stream",
     "text": [
      "(<__main__.Queens object at 0x0000018DA9BD08D0>, 9)\n"
     ]
    }
   ],
   "source": [
    "c = Queens(3)\n",
    "print(attacking(c))"
   ]
  },
  {
   "cell_type": "markdown",
   "metadata": {},
   "source": [
    "<div class=\"alert alert-info\">\n",
    "<center>\n",
    "  <h1>Preguntas</h1>\n",
    "</center>\n",
    "</div>"
   ]
  },
  {
   "cell_type": "markdown",
   "metadata": {},
   "source": [
    "### 1. Como has implementado el algoritmo?\n",
    "\n",
    "He implementado el ejercicio usando Ramificacio y Poda como piden, usando como estrucura de datos un heap para ir teniendo los tableros con menor numero de espacios disponibles ya que significaria una posible solucion al problema\n",
    "\n",
    "### 2. Que criterios utilizas para hacer la ramificación y la poda?\n",
    "Mis Criterios para este problema en ramificació i poda han sido que únicamente ir cogiendo los tableros con un numero de reinas menor a los espacios disponibles ya que cuando mas reinas hay por colocar en el tablero y menos espacios libres menos factible sera ver una solucion, esta solucion de ramificacio y poda no sirve para casos pequeños, todo y que los tiros deberian ir por ahi por temas de estadistica.\n",
    "\n",
    "### 3. Realiza un análisis de complejidad del algoritmo\n",
    "La complejidad del algoritmo consiste en analizar todos los caminos posibles en la colocacion de las reinas sumado a cada una de las posibilidades de cada tablero, esto en el fondo nos genera un arbol de backtracking, en el peor caso de todos el algoritmo analizara casi todos los casos posibles, pero la ramificacio i poda esta para ahorrar exploraciones innecesarias, igualmente el peor caso posible seria 2 a la n ya que seria todos los posibles subconjuntos de los tableros para explorar ademas de multiplicar por n que seria lineal dicha exploracion."
   ]
  },
  {
   "cell_type": "markdown",
   "metadata": {},
   "source": [
    "<div class=\"alert alert-info\">\n",
    "<center>\n",
    "  <h1>Entrega</h1>\n",
    "</center>\n",
    "<p>\n",
    "Se habilitará una tarea en el Campus Virtual pasada media hora desde el comienzo del examen. Una vez terminéis, subid el examen (<b>sólo el notebook</b>) a la tarea \"Entrega segundo parcial de pácticas\" con vuestro nombre y el grupo de pácticas al que asistís:\n",
    "</p>\n",
    "<p>\n",
    "```\n",
    "[grupo_practicas]_[apellido]_[nombre]_AA_EP2.ipynb\n",
    "```\n",
    "\n",
    "</p>\n",
    "\n",
    "Donde [grupo_practicas] es uno de entre: A, B, C o F.\n",
    "<p>\n",
    "    Por ejemplo, para un alumno llamado <i>Nombre Genérico</i> perteneciente al <i>grupo Z</i> el nombre del archivo debería ser:\n",
    "</p>\n",
    "<p>\n",
    "```\n",
    "Z_Generico_Nombre_AA_EXP.ipynb\n",
    "```\n",
    "\n",
    "Y <b>NO</b>:\n",
    "<ul>\n",
    "<li>Z00_Generico_Nombre_AA_EXP.zip</li>\n",
    "    \n",
    "<li>ZX_Generico_Nombre_AA_EXP.ipynb</li>\n",
    "\n",
    "<li>Ex1_Generico_Nombre_AA_EXP.rar</li>\n",
    "\n",
    "<li>AA_EXP.ipynb</li>\n",
    "<li> ... cualquier otra cosa</li>\n",
    "</ul>\n",
    "</p>\n",
    "<b>Nota</b>: Recordad la importancia de de mantener el formato facilitado. Nombre de la función, entrada/s y salida/s.\n",
    "</div>"
   ]
  }
 ],
 "metadata": {
  "kernelspec": {
   "display_name": "Python 3",
   "language": "python",
   "name": "python3"
  },
  "language_info": {
   "codemirror_mode": {
    "name": "ipython",
    "version": 3
   },
   "file_extension": ".py",
   "mimetype": "text/x-python",
   "name": "python",
   "nbconvert_exporter": "python",
   "pygments_lexer": "ipython3",
   "version": "3.7.3"
  }
 },
 "nbformat": 4,
 "nbformat_minor": 2
}
