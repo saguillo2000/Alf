{
 "cells": [
  {
   "cell_type": "markdown",
   "metadata": {},
   "source": [
    "<div style=\"padding:30px; color: white; background-color: #0071CD\">\n",
    "<center>\n",
    "<img src=\"img/logoub.jpeg\"></img>\n",
    "<center>\n",
    "<p>\n",
    "<h1>Algorítmica Avanzada</h1>\n",
    "<h2>Práctica 4 - Enumerativos </h2>\n",
    "</center>\n",
    "</p>\n",
    "</div>"
   ]
  },
  {
   "cell_type": "markdown",
   "metadata": {},
   "source": [
    "<div class=\"alert alert-info\">\n",
    "<center>\n",
    "  <h1>Backtracking</h1>\n",
    "</center>\n",
    "</div>"
   ]
  },
  {
   "cell_type": "markdown",
   "metadata": {},
   "source": [
    "\n",
    "<div class=\"alert alert-success\" style=\"width:90%; margin:0 auto;\">\n",
    "  <h2><p>Sudoku</p></h2>\n",
    "<p>\n",
    "En este ejercicio queremos diseñar un \"solucionador\" de sudokus utilizando estrategias de backtracking. Para ello se os da la clase Sudoku que hace las veces de modelo y contiene funciones útiles que os permitirán centraros en el desarrollo del algoritmo.\n",
    "</p><p>\n",
    "El problema del sudoku consiste, basicamente en rellenar un tablero con números del 1 al 9 (ambos incluidos). Para insertar los numeros de forma válida en el tablero se tienen que cumplir tres condiciones:\n",
    "</p>\n",
    "<ul>\n",
    "    <li> El número no se encuentra repetido en la misma fila</li>\n",
    "<li> El número no se encuentra repetido en la misma columna</li>\n",
    "<li> El número no se encuentra repetido en el mismo bloque*</li>\n",
    "</ul>\n",
    "<p>\n",
    "*: Un bloque es cada una de las sub-divisiones 3x3 del tablero.</p>\n",
    "</div>"
   ]
  },
  {
   "cell_type": "markdown",
   "metadata": {},
   "source": [
    "<div class=\"alert alert-danger\" style=\"width:80%; margin:0 auto; padding\">\n",
    "<center><p><h3> Código </h3></p> </center> \n",
    "\n",
    "<p>\n",
    "<h3>INPUT</h3>\n",
    "<ul>\n",
    "<li>s: instancia de la clase Sudoku</li>\n",
    "</ul>\n",
    "<br>\n",
    "<h3>OUTPUT</h3>\n",
    "<ul>\n",
    "    <li>s: misma instancia de la clase Sudoku resuelto</li>\n",
    "    <li>expanded: número de estados explorados hasta encontrar la solución</li>\n",
    "<ul>\n",
    "\n",
    "</p>\n",
    "\n",
    "</div>"
   ]
  },
  {
   "cell_type": "code",
   "execution_count": 161,
   "metadata": {},
   "outputs": [
    {
     "name": "stdout",
     "output_type": "stream",
     "text": [
      "1- Crear un sudoku\n",
      "+-------+-------+-------+\n",
      "| 2     |   8   | 3     |\n",
      "|   6   |   7   |   8 4 |\n",
      "|   3   | 5     | 2   9 |\n",
      "+-------+-------+-------+\n",
      "|       | 1   5 | 4   8 |\n",
      "|       |       |       |\n",
      "| 4   2 | 7   6 |       |\n",
      "+-------+-------+-------+\n",
      "| 3   1 |     7 |   4   |\n",
      "| 7 2   |   4   |   6   |\n",
      "|     4 |   1   |     3 |\n",
      "+-------+-------+-------+\n",
      "\n",
      "2- Obtén los números válidos en (0,1)\n",
      "[1 4 5 7 9]\n",
      "[]\n",
      "3 - Obtén las posiciones vacías\n",
      "[(0, 1), (0, 2), (0, 3), (0, 5), (0, 7), (0, 8), (1, 0), (1, 2), (1, 3), (1, 5), (1, 6), (2, 0), (2, 2), (2, 4), (2, 5), (2, 7), (3, 0), (3, 1), (3, 2), (3, 4), (3, 7), (4, 0), (4, 1), (4, 2), (4, 3), (4, 4), (4, 5), (4, 6), (4, 7), (4, 8), (5, 1), (5, 4), (5, 6), (5, 7), (5, 8), (6, 1), (6, 3), (6, 4), (6, 6), (6, 8), (7, 2), (7, 3), (7, 5), (7, 6), (7, 8), (8, 0), (8, 1), (8, 3), (8, 5), (8, 6), (8, 7)]\n",
      "4 - Añade un 7 a la posición (0,1)\n",
      "+-------+-------+-------+\n",
      "| 2     |   8   | 3     |\n",
      "|   6   |   7   |   8 4 |\n",
      "|   3   | 5     | 2   9 |\n",
      "+-------+-------+-------+\n",
      "|       | 1   5 | 4   8 |\n",
      "|       |       |       |\n",
      "| 4   2 | 7   6 |       |\n",
      "+-------+-------+-------+\n",
      "| 3   1 |     7 |   4   |\n",
      "| 7 2   |   4   |   6   |\n",
      "|     4 |   1   |     3 |\n",
      "+-------+-------+-------+\n",
      "\n",
      "+-------+-------+-------+\n",
      "| 2 7   |   8   | 3     |\n",
      "|   6   |   7   |   8 4 |\n",
      "|   3   | 5     | 2   9 |\n",
      "+-------+-------+-------+\n",
      "|       | 1   5 | 4   8 |\n",
      "|       |       |       |\n",
      "| 4   2 | 7   6 |       |\n",
      "+-------+-------+-------+\n",
      "| 3   1 |     7 |   4   |\n",
      "| 7 2   |   4   |   6   |\n",
      "|     4 |   1   |     3 |\n",
      "+-------+-------+-------+\n",
      "\n",
      "Invalid number!\n"
     ]
    }
   ],
   "source": [
    "from sudoku import Sudoku\n",
    "\n",
    "# Para cargar el sudoku introducimos la ruta al archivo. En la carpeta './sudokus' tenéis un buén número\n",
    "# de ejemplos con los que podéis jugar\n",
    "\n",
    "print(\"1- Crear un sudoku\")\n",
    "s2 = Sudoku('sudoku/s2')\n",
    "print(s2)\n",
    "\n",
    "# Dada una posición definida como una tupla de dos elementos (x,y) en el rango [0,8], podemos obtener los\n",
    "# elementos validos para una posición vacía\n",
    "\n",
    "print(\"2- Obtén los números válidos en (0,1)\")\n",
    "print(s2.get_valid((0,1)))\n",
    "\n",
    "# En caso que se trate de una posición que ya contiene un número devolverá una lista vacía\n",
    "print(s2.get_valid((0,0)))\n",
    "\n",
    "# También podemos obtener la lista de todos los elementos vacios\n",
    "print(\"3 - Obtén las posiciones vacías\")\n",
    "print(s2.get_empty())\n",
    "\n",
    "# Finalmente, nos permite insertar un numero en una posición dada.\n",
    "print(\"4 - Añade un 7 a la posición (0,1)\")\n",
    "s3 = s2.set_number((0,1),7)\n",
    "print(s2)\n",
    "print(s3)\n",
    "\n",
    "# En caso de que no se pueda insertar el numero en esa posición nos devolverá un mensaje de error:\n",
    "s2.set_number((0,1),2)"
   ]
  },
  {
   "cell_type": "code",
   "execution_count": 170,
   "metadata": {},
   "outputs": [],
   "source": [
    "def sudoku_solver(s):\n",
    "    sudoku = solver(s, 0) #Recursion to sudoku with the sudoku and expand\n",
    "    if sudoku:\n",
    "        print(sudoku[1])\n",
    "        return sudoku[0]\n",
    "    return (\"There is no answer to this Sudoku\")\n",
    "    \n",
    "def solver(s, expanded):\n",
    "    \n",
    "    expanded += 1 #Increasing for each recursion\n",
    "    find = s.get_empty()\n",
    "    \n",
    "    if not find: #if there is no more ways to explore return the solution\n",
    "        return s, expanded\n",
    "    else:\n",
    "        row, col = find[0] #Selecting the first row and colum of the possible ones\n",
    "        \n",
    "    for new in range(1,10):#Iterating for each number possible\n",
    "        if new in s.get_valid((row,col)): #if it is in the valid ones\n",
    "            variation = s.set_number((row, col), new)\n",
    "            sudoku = solver(variation, expanded)\n",
    "            expanded = sudoku[1]\n",
    "            if sudoku[0]: #if it is solved return\n",
    "                return sudoku[0], sudoku[1]\n",
    "    return False, expanded     "
   ]
  },
  {
   "cell_type": "code",
   "execution_count": 171,
   "metadata": {},
   "outputs": [
    {
     "name": "stdout",
     "output_type": "stream",
     "text": [
      "19023\n",
      "+-------+-------+-------+\n",
      "| 4 6 2 | 8 3 1 | 9 5 7 |\n",
      "| 7 9 5 | 4 2 6 | 1 8 3 |\n",
      "| 3 8 1 | 7 9 5 | 4 2 6 |\n",
      "+-------+-------+-------+\n",
      "| 1 7 3 | 9 8 4 | 2 6 5 |\n",
      "| 6 5 9 | 3 1 2 | 7 4 8 |\n",
      "| 2 4 8 | 5 6 7 | 3 1 9 |\n",
      "+-------+-------+-------+\n",
      "| 9 2 6 | 1 7 8 | 5 3 4 |\n",
      "| 8 3 4 | 2 5 9 | 6 7 1 |\n",
      "| 5 1 7 | 6 4 3 | 8 9 2 |\n",
      "+-------+-------+-------+\n",
      "\n"
     ]
    }
   ],
   "source": [
    "sudoku = Sudoku('sudoku/s3')\n",
    "sol = sudoku_solver(sudoku)\n",
    "print(sol)"
   ]
  },
  {
   "cell_type": "markdown",
   "metadata": {},
   "source": [
    "En el algoritmo de solución de Backtracking del Sudoku la complejidad es O(n!), ya que en el peor de los casos realizarà todas las llamadas posibles de todas las posiciones para encontrar la solución, siendo asi un algoritmo no muy eficiente però aveces necesario en algunos problemas como este del Sudoku"
   ]
  },
  {
   "cell_type": "markdown",
   "metadata": {},
   "source": [
    "<div class=\"alert alert-info\">\n",
    "<center>\n",
    "  <h1>Branch and bound</h1>\n",
    "</center>\n",
    "</div>"
   ]
  },
  {
   "cell_type": "markdown",
   "metadata": {},
   "source": [
    "<div class=\"alert alert-success\" style=\"width:90%; margin:0 auto;\">\n",
    "  <h2><p>8-puzzle</p></h2>\n",
    "\n",
    "El 8-Puzzle es un conocido puzzle deslizante que consiste en una cuadrícula de elementos numerados donde uno de los elementos no tiene ningún valor. El siguiente código muestra un ejemplo de un tablero resuelto, y un tablero por resolver: "
   ]
  },
  {
   "cell_type": "code",
   "execution_count": 60,
   "metadata": {
    "scrolled": true
   },
   "outputs": [
    {
     "name": "stdout",
     "output_type": "stream",
     "text": [
      "Ejemplo de tablero:\n",
      "+-----------+\n",
      "| 4 | 3 | 1 | \n",
      "+-----------+\n",
      "| 7 |   | 2 | \n",
      "+-----------+\n",
      "| 6 | 8 | 5 | \n",
      "+-----------+\n",
      "\n"
     ]
    }
   ],
   "source": [
    "from npuzzle import NPuzzle\n",
    "\n",
    "board = NPuzzle()\n",
    "board.create_board(moves=100)\n",
    "\n",
    "print (\"Ejemplo de tablero:\")\n",
    "print(board)"
   ]
  },
  {
   "cell_type": "markdown",
   "metadata": {},
   "source": [
    "En este ejercicio queremos resolver de forma automática cualquier 8Puzzle propuesto utilizando __Branch & Bound__. Para simplificar la implementación se os da la clase __NPuzzle__ que os permite realizar las acciones más comunes sobre un tablero."
   ]
  },
  {
   "cell_type": "code",
   "execution_count": 61,
   "metadata": {
    "scrolled": false
   },
   "outputs": [
    {
     "name": "stdout",
     "output_type": "stream",
     "text": [
      "+-----------+\n",
      "| 1 | 2 | 3 | \n",
      "+-----------+\n",
      "| 4 | 5 | 6 | \n",
      "+-----------+\n",
      "| 7 | 8 |   | \n",
      "+-----------+\n",
      "\n",
      "['L', 'U']\n",
      "Tablero despues de realizar el movimiento L\n",
      "+-----------+\n",
      "| 1 | 2 | 3 | \n",
      "+-----------+\n",
      "| 4 | 5 | 6 | \n",
      "+-----------+\n",
      "| 7 |   | 8 | \n",
      "+-----------+\n",
      "\n",
      "La condición de final de juego es: False\n"
     ]
    }
   ],
   "source": [
    "# Crear la clase NPuzzle\n",
    "board = NPuzzle()\n",
    "board.create_board()\n",
    "\n",
    "# Crear un tablero nuevo:\n",
    "print(board)\n",
    "\n",
    "# Mostrar los movimientos posibles en un estado, L=Left, R=Right, U=Up, D=Down\n",
    "am = board.allowed_moves()\n",
    "print(am)\n",
    "# Mover una pieza\n",
    "new_board = board.move(am[0])\n",
    "print (\"Tablero despues de realizar el movimiento\", am[0])\n",
    "print (new_board)\n",
    "\n",
    "# Comprobar el estado (True si está solucionado, False si no lo está)\n",
    "print (\"La condición de final de juego es:\", new_board.state())"
   ]
  },
  {
   "cell_type": "markdown",
   "metadata": {},
   "source": [
    "Se os pide que programéis una función que sea capaz de resolver un 8-Puzzle dada cualquier posible configuración inicial (La función NPuzzle.create_board solo devuelve configuraciones que tengan solución)\n",
    "\n",
    "La implementación del algoritmo ha de ser utilizando ramificación y poda. Para ramificar el árbol de estados utilizaremos como heurística la suma de la distáncia de Manhattan de todas las piezas a su posición objetivo. Esta función se os da implementada de la siguiente forma: **NPuzzle.manhattan_distance(board)**\n",
    "\n",
    "El objetivo del código es encontrar la solución óptima, que en este caso es la que tiene un menor número de pasos. Por lo tanto, para la implementación de la poda, utilizaremos como valor de cota la profundidad."
   ]
  },
  {
   "cell_type": "markdown",
   "metadata": {},
   "source": [
    "<div class=\"alert alert-danger\" style=\"width:80%; margin:0 auto; padding\">\n",
    "<center><p><h3> Código </h3></p> </center> \n",
    "\n",
    "<p>\n",
    "<h3>INPUT</h3>\n",
    "<ul>\n",
    "<li>board: instancia de la clase NPuzzle</li>\n",
    "</ul>\n",
    "<br>\n",
    "<h3>OUTPUT</h3>\n",
    "<ul>\n",
    "    <li>distance: número de movimientos realizados para resolver el puzzle</li>\n",
    "    <li>final_board: misma instancia de la clase NPuzzle resuelto</li>\n",
    "    <li>expanded: número de estados explorados hasta encontrar la solución</li>\n",
    "    <li>moves: lista de movimientos realizados para resolverlo.</li>\n",
    "<ul>\n",
    "\n",
    "</p>\n",
    "\n",
    "</div>"
   ]
  },
  {
   "cell_type": "code",
   "execution_count": 157,
   "metadata": {},
   "outputs": [],
   "source": [
    "%reset -f\n",
    "from npuzzle import NPuzzle\n",
    "def solve_puzzle(board):\n",
    "    \n",
    "    moves = []\n",
    "    expanded = 0\n",
    "\n",
    "    while (not board.state()):\n",
    "\n",
    "        variations = [] #possible variations of boards\n",
    "        \n",
    "        for movement in board.allowed_moves(): \n",
    "            new_board = board.move(movement)\n",
    "            variations.append(new_board)\n",
    "            moves.append(movement)\n",
    "            expanded += 1\n",
    "            \n",
    "        nextBoard = variations[0] #Controling possible case that this variaton is the minimum\n",
    "        for minManh in variations: #Searching the minimum distance by ManhatanDistance\n",
    "            if (NPuzzle.manhattan_distance(nextBoard) > NPuzzle.manhattan_distance(minManh)):#If appears new minimum distance replace\n",
    "                nextBoard = minManh\n",
    "                \n",
    "        board = nextBoard #Reloading the new board\n",
    "    \n",
    "    return len(moves),expanded, board,  moves"
   ]
  },
  {
   "cell_type": "code",
   "execution_count": 158,
   "metadata": {},
   "outputs": [
    {
     "name": "stdout",
     "output_type": "stream",
     "text": [
      "+----------------------------------+\n",
      "|  1 |  2 |  3 |  4 |  5 |  6 |  7 | \n",
      "+----------------------------------+\n",
      "|  8 |  9 | 10 | 11 | 12 | 13 | 14 | \n",
      "+----------------------------------+\n",
      "| 15 | 16 | 17 | 18 | 19 | 20 | 21 | \n",
      "+----------------------------------+\n",
      "| 22 | 23 | 24 | 25 | 26 | 27 | 28 | \n",
      "+----------------------------------+\n",
      "| 29 | 30 | 31 | 32 | 33 | 34 | 35 | \n",
      "+----------------------------------+\n",
      "| 36 | 37 | 39 |    | 40 | 41 | 42 | \n",
      "+----------------------------------+\n",
      "| 43 | 44 | 38 | 45 | 46 | 47 | 48 | \n",
      "+----------------------------------+\n",
      "\n",
      "Solved with 20 moves:  ['L', 'R', 'U', 'D', 'L', 'R', 'U', 'D', 'L', 'R', 'U', 'L', 'R', 'U', 'L', 'R', 'U', 'L', 'R', 'U']\n",
      "Final board after exploring 20 states:\n",
      "+----------------------------------+\n",
      "|  1 |  2 |  3 |  4 |  5 |  6 |  7 | \n",
      "+----------------------------------+\n",
      "|  8 |  9 | 10 | 11 | 12 | 13 | 14 | \n",
      "+----------------------------------+\n",
      "| 15 | 16 | 17 | 18 | 19 | 20 | 21 | \n",
      "+----------------------------------+\n",
      "| 22 | 23 | 24 | 25 | 26 | 27 | 28 | \n",
      "+----------------------------------+\n",
      "| 29 | 30 | 31 | 32 | 33 | 34 | 35 | \n",
      "+----------------------------------+\n",
      "| 36 | 37 | 38 | 39 | 40 | 41 | 42 | \n",
      "+----------------------------------+\n",
      "| 43 | 44 | 45 | 46 | 47 | 48 |    | \n",
      "+----------------------------------+\n",
      "\n"
     ]
    }
   ],
   "source": [
    "# TEST #\n",
    "board = NPuzzle()\n",
    "board.create_board(moves=14, n=7)\n",
    "print(board)\n",
    "distance, expanded, final_board, moves = solve_puzzle(board)\n",
    "print (\"Solved with %i moves: \" %distance,moves) #, moves\n",
    "print (\"Final board after exploring %i states:\" %expanded)\n",
    "print (final_board)"
   ]
  },
  {
   "cell_type": "markdown",
   "metadata": {},
   "source": [
    "En el problema de los puzzles al ser una variacón la estrategia de Backtracking como es el Branch and Pound, el peor caso serà O(n!) siendo asi como explicado antes que se hagan todas las llamadas posibles, aunque en este caso al tener un filtro, las cotas y este caso la distancia de Manhatan el algoritmo serà màs eficiente en el caso medio pero el peor siempre serà todas las llamadas posibles i provar todas las combinaciones hasta llegar a la solución vàlida"
   ]
  },
  {
   "cell_type": "markdown",
   "metadata": {},
   "source": [
    "<div class=\"alert alert-info\">\n",
    "<center>\n",
    "  <h1>Entrega</h1>\n",
    "</center>\n",
    "<p>\n",
    "La entrega de esta práctica se podrá realizar en el campus virtual hasta el día <b>22 de Diciembre a las 23:55</b>. En la tarea que se habilitará en el campus deberéis colgar <b>únicamente este notebook</b> con el nombre:\n",
    "</p>\n",
    "<p>\n",
    "```\n",
    "[grupo]_[apellido]_[nombre]_4-Enum.ipynb\n",
    "```\n",
    "\n",
    "</p>\n",
    "<p>\n",
    "    Por ejemplo, para un alumno llamado <i>Nombre Genérico</i> perteneciente al <i>grupo Z</i> el nombre del archivo debería ser:\n",
    "</p>\n",
    "<p>\n",
    "```\n",
    "Z_Generico_Nombre_4-Enum.ipynb\n",
    "```\n",
    "\n",
    "Y <b>NO</b>:\n",
    "<ul>\n",
    "<li>Z00_Generico_Nombre_4-Enum.zip</li>\n",
    "    \n",
    "<li>ZX_Generico_Nombre_4-Enum.ipynb</li>\n",
    "\n",
    "<li>Lab2_Generico_Nombre_4-Enum.rar</li>\n",
    "\n",
    "<li>3-PD.ipynb</li>\n",
    "<li> ... literalmente cualquier otra cosa que no sea el nombre que sí hay que ponerle </li>\n",
    "</ul>\n",
    "</p>\n",
    "<p>\n",
    "\n",
    "\n",
    "Es fundamental que el código esté bién comentado y con un análisis de complejidad exhaustivo del algoritmo. La importancia de poner nombre correcto al archivo debería ser directamente proporcional a lo contentos que queráis que los profesores de prácticas corrijan.<b> No adherirse al formato en el nombre del archivo así como entregar otro tipo de archivo o varios archivos, conllevará a la no corrección de vuestra práctica.</b>\n",
    "</p>\n",
    "</div>"
   ]
  },
  {
   "cell_type": "code",
   "execution_count": null,
   "metadata": {},
   "outputs": [],
   "source": []
  }
 ],
 "metadata": {
  "kernelspec": {
   "display_name": "Python 3",
   "language": "python",
   "name": "python3"
  },
  "language_info": {
   "codemirror_mode": {
    "name": "ipython",
    "version": 3
   },
   "file_extension": ".py",
   "mimetype": "text/x-python",
   "name": "python",
   "nbconvert_exporter": "python",
   "pygments_lexer": "ipython3",
   "version": "3.7.3"
  }
 },
 "nbformat": 4,
 "nbformat_minor": 1
}
