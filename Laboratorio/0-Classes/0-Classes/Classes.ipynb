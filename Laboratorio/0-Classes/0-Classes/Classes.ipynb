{
 "cells": [
  {
   "cell_type": "markdown",
   "metadata": {},
   "source": [
    "<div style=\"padding:30px; color: white; background-color: #0071CD\">\n",
    "<center>\n",
    "<img src=\"img/logoub.jpeg\"></img>\n",
    "<center>\n",
    "<p>\n",
    "<h1>Algorítmica Avanzada</h1>\n",
    "<h2>Práctica 0 - Object Oriented Programming in Pyhthon</h2>\n",
    "</center>\n",
    "</p>\n",
    "</div>"
   ]
  },
  {
   "cell_type": "markdown",
   "metadata": {},
   "source": [
    "<div class=\"alert alert-danger\" style=\"margin:0 auto;\">\n",
    "<center><p><h3> DISCLAIMER: PYTHON IS NOT JAVA! </h3></p></center> \n",
    "\n",
    "Es importante recordar varias cosas antes de empezar a hacer Object Oriented Programming con Python:\n",
    "<ul>\n",
    "<li>__Underscore notation__: En Python se utiliza *underscore notation* para definir variables y métodos y *CamelCase notation* para las clases; es decir \n",
    "<ul><li>*MyClass*</li><li>*my_method*</li><li>*my_var* </li></li></ul></li>\n",
    "<li>__Scope__: En Python todas las variables son públicas, no existe el concepto *protected* y *private*. En las buenas prácticas se recomienda que las variables que se suponen privadas lleven un \\_ previo al nombre de la variable, es decir: \n",
    "<ul>\n",
    "<li>\\_private\\_var</li>\n",
    "<li>public\\_var</li>\n",
    "</ul>\n",
    "Análogamente, en los métodos privados se recomienda que el método empieze y acabe con \\_ \n",
    "<ul>\n",
    "<li>\\_my\\_private\\_method\\_()</li>\n",
    "<li><italic>my\\_public\\_method()</italic></li></ul>\n",
    "</div>\n",
    "\n"
   ]
  },
  {
   "cell_type": "markdown",
   "metadata": {},
   "source": [
    "## Recordando conceptos básicos... (Python 3.6)\n",
    "Las tres estructuras básicas de Python son __listas__, __tuplas__ y __diccionarios__. Admiten ser rellenadas con cualquier tipo de dato.\n"
   ]
  },
  {
   "cell_type": "code",
   "execution_count": null,
   "metadata": {},
   "outputs": [],
   "source": [
    "mylist = [1, 2, \"watermelon\", [\"whatever\"]]\n",
    "mytuple = (1, 2, 3, \"watermelon\", [\"whatever\"])\n",
    "mydict = {\"key1\": 1, \"key2\": [1,2,3]}"
   ]
  },
  {
   "cell_type": "markdown",
   "metadata": {},
   "source": [
    "Los accesos a tuplas y listas pueden ser por índice o usando slice"
   ]
  },
  {
   "cell_type": "code",
   "execution_count": null,
   "metadata": {},
   "outputs": [],
   "source": [
    "mylist[2]\n",
    "print(mylist[0:2])\n",
    "print(mylist[:-1])"
   ]
  },
  {
   "cell_type": "markdown",
   "metadata": {},
   "source": [
    "Y hay que recordar que las tuplas no son mutables!"
   ]
  },
  {
   "cell_type": "code",
   "execution_count": null,
   "metadata": {},
   "outputs": [],
   "source": [
    "mytuple[2] = 3"
   ]
  },
  {
   "cell_type": "markdown",
   "metadata": {},
   "source": [
    "Mientras que las listas y los diccionarios sí que lo son."
   ]
  },
  {
   "cell_type": "code",
   "execution_count": null,
   "metadata": {},
   "outputs": [],
   "source": [
    "mylist[2] = \"abc\"\n",
    "mydict[\"key3\"] = \"cba\"\n",
    "print(mylist)\n",
    "print(mydict)"
   ]
  },
  {
   "cell_type": "markdown",
   "metadata": {},
   "source": [
    "También hay que recordar que los objetos se relacionan por referencia"
   ]
  },
  {
   "cell_type": "code",
   "execution_count": null,
   "metadata": {},
   "outputs": [],
   "source": [
    "a = [1,2,3,4]\n",
    "mydict = {\"key1\": a, \"key2\": a}\n",
    "print(mydict)\n",
    "a.append(5)\n",
    "print(mydict)"
   ]
  },
  {
   "cell_type": "markdown",
   "metadata": {},
   "source": [
    "Por último recordar una de las características más fuertes de Python, lo que se denomina list comprehension y nos permite generar listas dinámicamente y en una sola línea de código"
   ]
  },
  {
   "cell_type": "code",
   "execution_count": 5,
   "metadata": {},
   "outputs": [
    {
     "name": "stdout",
     "output_type": "stream",
     "text": [
      "[0, 1, 2, 3, 4, 5, 6, 7, 8, 9]\n",
      "[5, 6, 7, 8, 9]\n",
      "{5: [], 6: [], 7: [], 8: [], 9: []}\n",
      "{5: [5, 6, 7, 8, 9], 6: [6, 7, 8, 9], 7: [7, 8, 9], 8: [8, 9], 9: [9]}\n"
     ]
    }
   ],
   "source": [
    "alist = [x for x in range(10)]\n",
    "print(alist)\n",
    "blist = [x for x in alist if x > 4]\n",
    "print(blist)\n",
    "adict = {x: [] for x in blist}\n",
    "print(adict)\n",
    "bdict = {x: [y for y in range (x, 10)] for x in blist}\n",
    "print(bdict)"
   ]
  },
  {
   "cell_type": "markdown",
   "metadata": {},
   "source": [
    "<div class=\"alert alert-danger\">\n",
    "<h1>Problema 1</h1>\n",
    "<p><strong>\n",
    "Implementa una función, utilizando list comprehension, que dada una variable $limit$ y una variable $mult$ te devuelva  todos los multiplos de $mult$ en el rango $limit$.\n",
    "<br><br>\n",
    "<i>myfunc(10, 2) -> [2,4,6,8,10]</i>\n",
    "</strong></p>\n",
    "</div>"
   ]
  },
  {
   "cell_type": "code",
   "execution_count": 2,
   "metadata": {},
   "outputs": [
    {
     "data": {
      "text/plain": [
       "[0, 2, 4, 6, 8, 10]"
      ]
     },
     "execution_count": 2,
     "metadata": {},
     "output_type": "execute_result"
    }
   ],
   "source": [
    "def myfunc1(limit, mult):\n",
    "    lista = [x for x in range(limit+1) if x%mult==0 ]\n",
    "    return lista"
   ]
  },
  {
   "cell_type": "code",
   "execution_count": null,
   "metadata": {},
   "outputs": [],
   "source": [
    "myfunc1(10,2)"
   ]
  },
  {
   "cell_type": "markdown",
   "metadata": {},
   "source": [
    "<div class=\"alert alert-danger\">\n",
    "<h1>Problema 2</h1>\n",
    "<p><strong>\n",
    "Implementa una función, utilizando list comprehension, que dada una variable $limit$, una variable $mult$ y una variable $exc$ te devuelva  todos los multiplos de $mult$ en el rango $limit$ excepto los que sean también múltiplos de $exc$.\n",
    "<br><br>\n",
    "\n",
    "<i>myfunc(10, 2, 4) -> [2,6,10]</i>\n",
    "</strong></p>\n",
    "</div>"
   ]
  },
  {
   "cell_type": "code",
   "execution_count": 4,
   "metadata": {},
   "outputs": [
    {
     "data": {
      "text/plain": [
       "[2, 6, 10]"
      ]
     },
     "execution_count": 4,
     "metadata": {},
     "output_type": "execute_result"
    }
   ],
   "source": [
    "def myfunc2(limit, mult, exc):\n",
    "    lista = [x for x in range(limit+1) if x%mult==0 and x%exc!=0]\n",
    "    return lista"
   ]
  },
  {
   "cell_type": "code",
   "execution_count": null,
   "metadata": {},
   "outputs": [],
   "source": [
    "myfunc2(10,2,4)"
   ]
  },
  {
   "cell_type": "markdown",
   "metadata": {},
   "source": [
    "# Object Oriented Programming"
   ]
  },
  {
   "cell_type": "markdown",
   "metadata": {},
   "source": [
    "Primero veamos como se crea una clase en Python. En el siguiente ejemplo vemos un objeto simple con el constructor `__init__` y un método `__str__` que tiene el mismo comportamiento que el `toString()` de Java.\n",
    "\n",
    "Es importante ver cómo siempre que referenciamos un atributo nos referimos a él precedido por `self`. Esto determina que la variable se declara y trabaja a nivel de clase."
   ]
  },
  {
   "cell_type": "code",
   "execution_count": null,
   "metadata": {},
   "outputs": [],
   "source": [
    "\"\"\"\n",
    "Esta clase guarda un nombre propio \n",
    "\"\"\"\n",
    "class Klass:\n",
    "    # Constructor\n",
    "    def __init__(self, name):\n",
    "        self.name = name\n",
    "    \n",
    "    # toString\n",
    "    def __str__(self):\n",
    "        return \"Hola \" + self.name\n",
    "        \n",
    "klass = Klass(\"John\")\n",
    "print(klass)"
   ]
  },
  {
   "cell_type": "markdown",
   "metadata": {},
   "source": [
    "Una particularidad de los objetos en Python es que podemos definir un método que se comporte como un atributo utilizando el decorador `@property`. Esto es muy útil ya que nos permite crear máscaras para los valores internos y nos permite que la representación.\n",
    "\n",
    "Es una buena práctica utilizar este método para dar visibilidad a los atributos desde el exterior, en lugar de poner a la vista la representación interna. Mediante este método podemos controlar los accesos que se hacen al objeto."
   ]
  },
  {
   "cell_type": "code",
   "execution_count": null,
   "metadata": {},
   "outputs": [],
   "source": [
    "class Klass:\n",
    "    def __init__(self):\n",
    "        self._value = {1:\"aa\", 21:\"bb\", 31:\"cc\"}\n",
    "        \n",
    "    @property\n",
    "    def val(self):\n",
    "        return self._value\n",
    "    \n",
    "kls = Klass()\n",
    "kls.val[1]\n",
    "# Equivalente a kls._value[1]"
   ]
  },
  {
   "cell_type": "markdown",
   "metadata": {},
   "source": [
    "De esta forma, Python nos ofrece una forma de crear correctamente los Setters y Getters de una propiedad del objeto."
   ]
  },
  {
   "cell_type": "code",
   "execution_count": null,
   "metadata": {},
   "outputs": [],
   "source": [
    "class PositiveValues:\n",
    "    def __init__(self):\n",
    "        self._value = 0\n",
    "        \n",
    "    @property\n",
    "    def val(self):\n",
    "        return self._value\n",
    "    \n",
    "    # Mientras indiquemos que es un setter de una \n",
    "    # property concreta podemos ponerle cualquier nombre\n",
    "    @val.setter\n",
    "    def pedro(self, value):\n",
    "        if value > 0:\n",
    "            self._value = value\n",
    "        \n",
    "pv = PositiveValues()\n",
    "print(pv.val)\n",
    "pv.pedro = 8\n",
    "print(pv.val)\n",
    "pv.pedro = -3\n",
    "print(pv.val)"
   ]
  },
  {
   "cell_type": "markdown",
   "metadata": {},
   "source": [
    "# Class Inheritance"
   ]
  },
  {
   "cell_type": "markdown",
   "metadata": {},
   "source": [
    "Como cualquier lenguaje de programación que se precie, Python soporta la heréncia de clases y la multiherencia. No profundizaremos en este tema, sólo se incluye por completitud."
   ]
  },
  {
   "cell_type": "code",
   "execution_count": null,
   "metadata": {},
   "outputs": [],
   "source": [
    "class Person:\n",
    "    # Los atributos de la clase se incluyen siempre bajo el 'self'\n",
    "    # equivalente al 'this' en Java. No es necesario declararlos todos en el constructor\n",
    "    # siempre que garanticemos que el orden de ejecución pasará siempre por\n",
    "    # la declaración de la variable antes de cualquier uso que se haga de la misma.\n",
    "    @property\n",
    "    def name(self):\n",
    "        return self._name\n",
    "    \n",
    "    @property\n",
    "    def surname(self):\n",
    "        return self._surname\n",
    "\n",
    "    @property\n",
    "    def full_name(self):\n",
    "        return self._name + \" \" + self._surname\n",
    "        \n",
    "        \n",
    "class Employee(Person):\n",
    "    def __init__(self, uid, name, surname):\n",
    "        self._name = name\n",
    "        self._surname = surname\n",
    "        self._uid = uid\n",
    "        \n",
    "    @property\n",
    "    def uid(self):\n",
    "        return self._uid\n",
    "    \n",
    "    @uid.setter\n",
    "    def uid(self, val):\n",
    "        print(\"Asignando valor al UID\")\n",
    "        self._uid = val\n",
    "        \n",
    "a = Employee(1123456, \"John\", \"Doe\")\n",
    "print(a.full_name)\n",
    "print(a.uid)"
   ]
  },
  {
   "cell_type": "markdown",
   "metadata": {},
   "source": [
    "También admite sobreescritura de métodos en las subclases"
   ]
  },
  {
   "cell_type": "code",
   "execution_count": null,
   "metadata": {},
   "outputs": [],
   "source": [
    "class SuperClass:\n",
    "    def my_substraction_method(self, a, b):\n",
    "        return a-b\n",
    "        \n",
    "    def my_addition_method(self, a, b):\n",
    "        return a+b\n",
    "    \n",
    "class SubClass(SuperClass):\n",
    "    def my_addition_method(self, a, b):\n",
    "        return (a+b)/100.\n",
    "    \n",
    "    \n",
    "parent = SuperClass()\n",
    "print(parent.my_substraction_method(10, 2))\n",
    "print(parent.my_addition_method(10, 2))\n",
    "\n",
    "child = SubClass()\n",
    "print(child.my_substraction_method(10, 2))\n",
    "print(child.my_addition_method(10, 2))\n"
   ]
  },
  {
   "cell_type": "markdown",
   "metadata": {},
   "source": [
    "Y por supuesto, multiheréncia."
   ]
  },
  {
   "cell_type": "code",
   "execution_count": null,
   "metadata": {},
   "outputs": [],
   "source": [
    "class First:\n",
    "    def add(self, a, b):\n",
    "        return a+b\n",
    "        \n",
    "class Second:\n",
    "    def substract(self, a, b):\n",
    "        return a - b\n",
    "\n",
    "class Third(First, Second):\n",
    "    pass\n",
    "        \n",
    "print(Third().add(1,2))\n",
    "print(Third().substract(1,2))"
   ]
  },
  {
   "cell_type": "markdown",
   "metadata": {},
   "source": [
    "Por último, una pequeña aclaración sobre el orden de resolución de métodos. Cuando dos superclases disponen del mismo método, cual se ejecuta?"
   ]
  },
  {
   "cell_type": "code",
   "execution_count": null,
   "metadata": {},
   "outputs": [],
   "source": [
    "class First:\n",
    "    def add(self, a, b):\n",
    "        return a+b\n",
    "        \n",
    "class Second:\n",
    "    def add(self, a, b):\n",
    "        return a - b\n",
    "\n",
    "class Third(First, Second):\n",
    "    pass\n",
    "        \n",
    "print(Third().add(1,2))"
   ]
  },
  {
   "cell_type": "markdown",
   "metadata": {},
   "source": [
    "En el caso anterior es trivial, pero se pueden dar situaciones en las que no es tan obvio que forma de resolver los métodos se utiliza. En tiempo de compilación Python añade a la clase el atributo **\\_\\_mro\\_\\_** (Method Resolution Order) que nos indica en que orden se irán a buscar los métodos."
   ]
  },
  {
   "cell_type": "code",
   "execution_count": null,
   "metadata": {},
   "outputs": [],
   "source": [
    "Third.__mro__"
   ]
  },
  {
   "cell_type": "markdown",
   "metadata": {},
   "source": [
    "<div class=\"alert alert-info\">\n",
    "<center>\n",
    "  <h1>Grafos</h1>\n",
    "</center>\n",
    "</div>"
   ]
  },
  {
   "cell_type": "markdown",
   "metadata": {},
   "source": [
    "Un grafo es un conjunto de objetos llamados vértices o nodos unidos por enlaces llamados aristas o arcos, que permiten representar relaciones binarias entre elementos de un conjunto.\n",
    "\n",
    "Típicamente, un grafo se representa gráficamente como un conjunto de puntos (vértices o nodos) unidos por líneas (aristas).\n",
    "\n",
    "Desde un punto de vista práctico, los grafos permiten estudiar las interrelaciones entre unidades que interactúan unas con otras. Por ejemplo, una red de computadoras puede representarse y estudiarse mediante un grafo, en el cual los vértices representan terminales y las aristas representan conexiones (las cuales, a su vez, pueden ser cables o conexiones inalámbricas). \n",
    "\n",
    "_(from Wikipedia)_\n",
    "\n",
    "![alt text](https://upload.wikimedia.org/wikipedia/commons/thumb/8/86/6n-graf-clique.svg/220px-6n-graf-clique.svg.png \"Graph\")\n",
    "\n",
    "En esta introducción a los grafos pretendemos diseñar nuestra propia librería de programación de grafos. Esta librería contendrá la clase **Graph** que tendremos que programar siguiendo unas pautas marcadas en el enunciado de la práctica."
   ]
  },
  {
   "cell_type": "markdown",
   "metadata": {},
   "source": [
    "<div class=\"alert alert-info\">\n",
    "<center>\n",
    "  <h1>Contenido</h1>\n",
    "  </center><p>\n",
    "</div>"
   ]
  },
  {
   "cell_type": "markdown",
   "metadata": {},
   "source": [
    "<div class=\"alert alert-success\" style=\"width:90%; margin:0 auto;\">\n",
    "  <h2><p>1- Graph</p></h2>\n",
    "  \n",
    "  <p>\n",
    "      Para representar un grafo necesitaremos vértices y aristas, ambos pueden contener atributos. Por ejemplo, debemos de poder añadir para un vértice $k$ el atributo $color$ y para una arista $(k,p)$ el atributo $length$. En este caso la arista $(k,p)$ es aquella que va del vértice $k$ al vértice $p$.\n",
    "      <br>\n",
    "      <ul> \n",
    "      <li>__Graph.node__: (@property) Devuelve un diccionario {$key$, $value$} donde $key$ es un nodo y $value$ son los atributos del nodo.</li>\n",
    "      <li>__Graph.edge__: (@property) Devuelve un diccionario {$key$, $value$} donde $key$ es un nodo y $value$ es un diccionario {$key2$, $value2$} donde $key2$ es un nodo y $value2$ son los atributos de la arista ($key$, $key2$).</li>\n",
    "      <li>__Graph.nodes()__: Devuelve una lista con todos los nodos ($node1$, $node2$, ..., $nodeN$)</li>\n",
    "      <li>__Graph.edges()__: Devuelve una lista con todas las aristas (($node1$, $node2$), ($node2$, $node3$), ..., ($nodeM$, $nodeN$))</li>\n",
    "      <li>__Graph.add_node($node$, $attr\\_dict=None$)__: Añade un nodo al grafo, el parámetro opcional attr\\_dict nos permitirá darle características al nodo. Si el nodo $node$ ya existe, se actualizará el diccionario de características existente con $attr\\_dict$</li>\n",
    "      <li>__Graph.add_edge($node1$, $node2$, $attr\\_dict=None$)__: Añade una arista al grafo, el parámetro opcional attr\\_dict nos permitirá darle características a la arista. Si la arista ($node1, node2$) ya existe, se actualizará el diccionario de características existente con $attr\\_dict$. Si alguno de los dos nodos no existe, se creará de forma transparente.</li>\n",
    "      <li>__Graph.add_nodes($nodeList$, $attr\\_dict=None$)__: Añade una lista de nodos al grafo y les asigna a todos las propiedades $attr\\_dict$. Si alguno de los nodos ya existe se actualizarán sus caracteristicas con $attr\\_dict$.</li>\n",
    "      <li>__Graph.add_edges($edgeList$, $attr\\_dict=None$)__: Añade una lista de aristas al grafo y les asigna a todos las propiedades $attr\\_dict$. Si alguno de los vertices ya existe se actualizarán sus caracteristicas con $attr\\_dict$. Si alguno de los nodos no existe, se creará con el diccionario de atributos vacio.</li>\n",
    "                  </ul>\n",
    "      </p>\n",
    "      </div>"
   ]
  },
  {
   "cell_type": "code",
   "execution_count": 21,
   "metadata": {},
   "outputs": [],
   "source": [
    "class Graph:\n",
    "    def __init__(self):\n",
    "        # Inicializamos diccionarios de nodos y aristas\n",
    "        self._nodes = dict()\n",
    "        self._edges = dict()\n",
    "    \n",
    "    @property\n",
    "    def node(self):\n",
    "        return self._nodes\n",
    "    \n",
    "    @property\n",
    "    def edge(self):\n",
    "        return self._edges\n",
    "        \n",
    "    def nodes(self):\n",
    "        return list(self._nodes.keys()) #Retornamos en forma de lista los nodos que son las keys\n",
    "    \n",
    "    def edges(self):\n",
    "        c = []\n",
    "        for i in self._edges:\n",
    "            for j in self._edges[i]:\n",
    "                if(j>i):\n",
    "                    c.append((i,j),)\n",
    "        return c   \n",
    "        \n",
    "    def add_node(self, node, attr_dict=None):\n",
    "        a = {}\n",
    "        if(attr_dict is not None):\n",
    "            a = attr_dict\n",
    "        if(node in self._nodes):\n",
    "            self._nodes[node] = a\n",
    "        else:\n",
    "            self._nodes.setdefault(node,a)\n",
    "    def add_edge(self, node1, node2, attr_dict=None):\n",
    "        \n",
    "        #Si no existen en el diccionario se añaden\n",
    "        if(node1 or node2 not in self._nodes):\n",
    "            if(node1 and node2 not in self._nodes):\n",
    "                self.add_node(node1)\n",
    "                self.add_node(node2)\n",
    "            elif(node1 not in self._nodes):\n",
    "                self.add_node(node1)\n",
    "            else:\n",
    "                self.add_node(node2)\n",
    "                \n",
    "        a = {}\n",
    "        if (attr_dict is not None):\n",
    "            a = attr_dict\n",
    "        \n",
    "        #Si no se encuentran en el dict\n",
    "        if(node1 or node2 not in self._edges):\n",
    "            if (node1 and node2 not in self._edges):\n",
    "                    self._edges.setdefault(node1,{node2 : a})\n",
    "                    self._edges.setdefault(node2,{node1 : a})\n",
    "            elif(node1 not in self._edges):\n",
    "                    self._edges.setdefault(node1,{node2 : a})\n",
    "            else:\n",
    "                    self._edges.setdefault(node2,{node1 : a})\n",
    "             \n",
    "        #Si existen en el diccionario de edges     \n",
    "        if(node1 or node2 in self._edges):\n",
    "            if(node1 and node2 in self._edges):\n",
    "                self._edges[node1][node2] = a\n",
    "                self._edges[node2][node1] = a\n",
    "            elif(node1 in self._edges):\n",
    "                self._edges[node1].setdefault(node1,a)\n",
    "            else:\n",
    "                self._edges[node2].setdefault(node2,a)\n",
    "                    \n",
    "        #{1: {2: {'size': 10}}, 2: {1: {'size': 10}}}\n",
    "        \n",
    "    def add_nodes_from(self, node_list, attr_dict=None):\n",
    "        \n",
    "        for x in (node_list):\n",
    "            self.add_node(x,attr_dict)\n",
    "                \n",
    "    def add_edges_from(self, edge_list, attr_dict=None):\n",
    "        \n",
    "        for x in range(len(edge_list)):\n",
    "            self.add_edge(edge_list[x][0],edge_list[x][1],attr_dict)\n",
    "                "
   ]
  },
  {
   "cell_type": "code",
   "execution_count": 22,
   "metadata": {},
   "outputs": [
    {
     "name": "stdout",
     "output_type": "stream",
     "text": [
      "{1: {}}\n",
      "{1: {}, 2: {'position': 20}}\n",
      "{1: {}, 2: {}}\n",
      "{1: {}, 2: {}}\n",
      "{1: {}, 2: {}, 3: {}}\n",
      "{1: {}}\n",
      "{1: {}, 2: {}}\n",
      "{1: {}, 2: {}}\n",
      "{1: {}, 2: {}, 3: {}}\n",
      "{1: {}, 2: {}, 3: {'length': 100}}\n",
      "{1: {}, 2: {}, 3: {'length': 100}, 4: {'length': 100}}\n",
      "{1: {}}\n",
      "{1: {}, 2: {}}\n",
      "{1: {}, 2: {}}\n",
      "{1: {}, 2: {}, 3: {}}\n",
      "All test passed!\n"
     ]
    }
   ],
   "source": [
    "# Graph.node, Graph.add_node(), Graph.nodes()\n",
    "try:\n",
    "    G = Graph()\n",
    "    G.add_node(1)\n",
    "    assert G.node == {1: {}}\n",
    "    G.add_node(2, attr_dict={\"position\": 20})\n",
    "    assert G.node == {1: {}, 2: {'position': 20}}\n",
    "    assert G.node[2] == {'position': 20}\n",
    "    assert G.nodes() == [1, 2]\n",
    "\n",
    "    # Graph.edge, Graph.add_edge(), Graph.edges()\n",
    "    G.add_edge(1,2, attr_dict={\"size\": 10})\n",
    "    assert G.edge == {1: {2: {'size': 10}}, 2: {1: {'size': 10}}}\n",
    "    assert G.edge[1][2] == {'size': 10}\n",
    "    assert G.edge[2][1] == {'size': 10}\n",
    "    G.add_edge(2,3)\n",
    "    assert G.edges() == [(1, 2), (2, 3)]\n",
    "    assert G.edge == {1: {2: {'size': 10}}, 2: {1: {'size': 10}, 3: {}}, 3: {2: {}}}\n",
    "\n",
    "    # Graph.add_nodes(), Graph.add_edges()\n",
    "    G = Graph()\n",
    "    G.add_nodes_from([1,2])\n",
    "    assert G.nodes() == [1, 2]\n",
    "    G.add_nodes_from([2,3])\n",
    "    assert G.nodes() == [1, 2, 3]\n",
    "    G.add_nodes_from([3,4], attr_dict={\"length\":100})\n",
    "    assert G.node == {1: {}, 2: {}, 3: {'length': 100}, 4: {'length': 100}}\n",
    "    G = Graph()\n",
    "    G.add_edges_from(((1,2), (2,3)), attr_dict={\"width\": 100})\n",
    "    assert G.nodes() == [1,2,3]\n",
    "    assert G.edges() == [(1, 2), (2, 3)]\n",
    "    assert G.edge[1][2] == {'width': 100}\n",
    "    print(\"All test passed!\")\n",
    "except AssertionError:\n",
    "    import sys\n",
    "    _, _, tb = sys.exc_info()\n",
    "    traceback.print_tb(tb) # Fixed format"
   ]
  },
  {
   "cell_type": "markdown",
   "metadata": {},
   "source": [
    "<div class=\"alert alert-success\" style=\"width:90%; margin:0 auto;\">\n",
    "  <h2><p>2- Graph</p></h2>\n",
    "  \n",
    "  <p>\n",
    "      Ahora que ya tenemos los elementos principales vamos a añadir a nuestro grafo algunas funciones que nos ayudarán a desarrollar las siguientes prácticas:\n",
    "      <br>\n",
    "      <ul> \n",
    "      <li>__Graph.degree($node$__: Devuelve el grado del nodo $node$.</li>\n",
    "      <li>__Graph.neighbors($node$)__: Devuelve una lista con los vecinos del nodo $node$.</li>\n",
    "      <li>__Graph.__getitem__($node$)__: Devuelve un diccionario {$key$, $value$} donde $key$ son los nodos adyacentes a $node$ y $value$ el diccionario de atributos de la arista.</li>\n",
    "      <li>__Graph.__len__()__: Retorna el numero de nodos que tiene el grafo</li>\n",
    "      <li>__Graph.remove_edge($node1$, $node2$)__: Borra la arista del gráfo. </li>\n",
    "      <li>__Graph.remove_node($node$)__: Borra el vértice del grafo y todas las aristas que pasen a través de él.</li>\n",
    "      <li>__Graph.remove_edge_from($edgelist$)__: Borra la lista de aristas del grafo. </li>\n",
    "      <li>__Graph.remove_node_from($nodelist$)__: Borra el la lista de vértices del grafo y todas las aristas que pasen a través de él.</li>\n",
    "                  </ul>\n",
    "      </p>\n",
    "      </div>"
   ]
  },
  {
   "cell_type": "code",
   "execution_count": 53,
   "metadata": {},
   "outputs": [],
   "source": [
    "# Añadir los métodos del ejercicio 1\n",
    "class Graph:\n",
    "    def __init__(self):\n",
    "        # Inicializamos diccionarios de nodos y aristas\n",
    "        self._nodes = dict()\n",
    "        self._edges = dict()\n",
    "    \n",
    "    @property\n",
    "    def node(self):\n",
    "        return self._nodes\n",
    "    \n",
    "    @property\n",
    "    def edge(self):\n",
    "        return self._edges\n",
    "        \n",
    "    def nodes(self):\n",
    "        return list(self._nodes.keys()) #Retornamos en forma de lista los nodos que son las keys\n",
    "    \n",
    "    def edges(self):\n",
    "        c = []\n",
    "        for i in self._edges:\n",
    "            for j in self._edges[i]:\n",
    "                if(j>i):\n",
    "                    c.append((i,j),)\n",
    "        return c   \n",
    "        \n",
    "    def add_node(self, node, attr_dict=None):\n",
    "        a = {}\n",
    "        if(attr_dict is not None):\n",
    "            a = attr_dict\n",
    "        if(node in self._nodes):\n",
    "            self._nodes[node] = a\n",
    "        else:\n",
    "            self._nodes.setdefault(node,a)\n",
    "    def add_edge(self, node1, node2, attr_dict=None):\n",
    "        \n",
    "        #Si no existen en el diccionario se añaden\n",
    "        if(node1 or node2 not in self._nodes):\n",
    "            if(node1 and node2 not in self._nodes):\n",
    "                self.add_node(node1)\n",
    "                self.add_node(node2)\n",
    "            elif(node1 not in self._nodes):\n",
    "                self.add_node(node1)\n",
    "            else:\n",
    "                self.add_node(node2)\n",
    "                \n",
    "        a = {}\n",
    "        if (attr_dict is not None):\n",
    "            a = attr_dict\n",
    "        \n",
    "        #Si no se encuentran en el dict\n",
    "        if(node1 or node2 not in self._edges):\n",
    "            if (node1 and node2 not in self._edges):\n",
    "                    self._edges.setdefault(node1,{node2 : a})\n",
    "                    self._edges.setdefault(node2,{node1 : a})\n",
    "            elif(node1 not in self._edges):\n",
    "                    self._edges.setdefault(node1,{node2 : a})\n",
    "            else:\n",
    "                    self._edges.setdefault(node2,{node1 : a})\n",
    "             \n",
    "        #Si existen en el diccionario de edges     \n",
    "        if(node1 or node2 in self._edges):\n",
    "            if(node1 and node2 in self._edges):\n",
    "                self._edges[node1][node2] = a\n",
    "                self._edges[node2][node1] = a\n",
    "            elif(node1 in self._edges):\n",
    "                self._edges[node1].setdefault(node1,a)\n",
    "            else:\n",
    "                self._edges[node2].setdefault(node2,a)\n",
    "                    \n",
    "        #{1: {2: {'size': 10}}, 2: {1: {'size': 10}}}\n",
    "        \n",
    "    def add_nodes_from(self, node_list, attr_dict=None):\n",
    "        \n",
    "        for x in (node_list):\n",
    "            self.add_node(x,attr_dict)\n",
    "                \n",
    "    def add_edges_from(self, edge_list, attr_dict=None):\n",
    "        \n",
    "        for x in range(len(edge_list)):\n",
    "            self.add_edge(edge_list[x][0],edge_list[x][1],attr_dict)\n",
    "                \n",
    "    def degree(self,node):\n",
    "        \n",
    "        return len(self._edges[node])\n",
    "    \n",
    "    def __getitem__(self, node):\n",
    "        \n",
    "        return (self._edges[node])\n",
    "    \n",
    "    def __len__(self):\n",
    "        #longitud del dict\n",
    "        return len(self._nodes.keys())\n",
    "    \n",
    "    def neighbors(self, node):\n",
    "        #Aristas nodos conectados\n",
    "        return list(self._edges[node].keys())\n",
    "    \n",
    "    def remove_node(self, node1):\n",
    "        if(node1 in self._nodes):\n",
    "            del self._nodes[node1]\n",
    "        if(node1 in self._edges):\n",
    "            del self._edges[node1]\n",
    "            for i in self._edges:\n",
    "                if(node1 in self._edges[i]):\n",
    "                    del self._edges[i][node1]\n",
    "            \n",
    "    def remove_edge(self, node1, node2):\n",
    "        #Elimina conexion\n",
    "        if node1 in self._edges[node2]:\n",
    "            del self._edges[node2][node1]\n",
    "        if node2 in self._edges[node1]:\n",
    "            del self._edges[node1][node2]\n",
    "    \n",
    "    def remove_nodes_from(self, node_list):\n",
    "        \n",
    "        for x in (node_list):\n",
    "            self.remove_node(x)\n",
    "    \n",
    "    def remove_edges_from(self, edge_list):\n",
    "        \n",
    "        for x in range(len(edge_list)):\n",
    "            self.remove_edge(edge_list[x][0],edge_list[x][1])   "
   ]
  },
  {
   "cell_type": "code",
   "execution_count": 54,
   "metadata": {
    "scrolled": true
   },
   "outputs": [
    {
     "name": "stdout",
     "output_type": "stream",
     "text": [
      "All test passed!\n"
     ]
    }
   ],
   "source": [
    "import sys\n",
    "import traceback\n",
    "try:\n",
    "    G = Graph()\n",
    "    G.add_edges_from(((1,2), (2,3), (2,4)))\n",
    "    assert G.degree(2) == 3\n",
    "    assert G.degree(1) == 1\n",
    "    assert G[2] == {1: {}, 3: {}, 4: {}}\n",
    "    assert len(G) == 4\n",
    "    assert G.neighbors(1) == [2]\n",
    "    assert G.neighbors(2) == [1,3,4]\n",
    "    G.remove_node(1)\n",
    "    assert G.node == {2: {}, 3: {}, 4: {}}\n",
    "    assert G.edge == {2: {3: {}, 4: {}}, 3: {2: {}}, 4: {2: {}}}\n",
    "    G.remove_edge(2,3)\n",
    "    assert G.edge == {2: {4: {}}, 3: {}, 4: {2: {}}}\n",
    "    assert G.node == {2: {}, 3: {}, 4: {}}\n",
    "    assert G.neighbors(2) == [4]\n",
    "    G.remove_edges_from(((2,4), (4,3)))\n",
    "    assert G.edge == {2: {}, 3: {}, 4: {}}\n",
    "    assert G.node == {2: {}, 3: {}, 4: {}}\n",
    "    G.remove_nodes_from((2,3))\n",
    "    assert G.edge == {4: {}}\n",
    "    assert G.node == {4: {}}\n",
    "    assert G.neighbors(4) == []\n",
    "    assert len(G) == 1\n",
    "    assert G.degree(4) == 0\n",
    "    \n",
    "    print(\"All test passed!\")\n",
    "except AssertionError:\n",
    "    _, _, tb = sys.exc_info()\n",
    "    traceback.print_tb(tb) # Fixed format"
   ]
  },
  {
   "cell_type": "code",
   "execution_count": null,
   "metadata": {},
   "outputs": [],
   "source": []
  }
 ],
 "metadata": {
  "kernelspec": {
   "display_name": "Python 3",
   "language": "python",
   "name": "python3"
  },
  "language_info": {
   "codemirror_mode": {
    "name": "ipython",
    "version": 3
   },
   "file_extension": ".py",
   "mimetype": "text/x-python",
   "name": "python",
   "nbconvert_exporter": "python",
   "pygments_lexer": "ipython3",
   "version": "3.7.3"
  }
 },
 "nbformat": 4,
 "nbformat_minor": 1
}
