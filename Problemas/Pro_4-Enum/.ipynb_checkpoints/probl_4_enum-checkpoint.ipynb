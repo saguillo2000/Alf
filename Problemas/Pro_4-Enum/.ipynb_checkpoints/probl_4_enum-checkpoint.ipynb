{
 "cells": [
  {
   "cell_type": "markdown",
   "metadata": {},
   "source": [
    "<div style=\"padding:30px; color: white; background-color: #0071CD\">\n",
    "<center>\n",
    "    <img src=\"img/logoub.jpeg\"></img>\n",
    "<p>\n",
    "<h1>Algorítmica Avanzada</h1>\n",
    "<h2>Problemas Enumerativos</h2>\n",
    "</center>\n",
    "</p>\n",
    "</div>"
   ]
  },
  {
   "cell_type": "markdown",
   "metadata": {},
   "source": [
    "<div class=\"alert alert-info\">\n",
    "<center>\n",
    "  <h1>Backtracking</h1>\n",
    "</center>\n",
    "</div>"
   ]
  },
  {
   "cell_type": "markdown",
   "metadata": {},
   "source": [
    "<div class=\"alert alert-success\" style=\"width:90%; margin:0 auto;\">\n",
    "<h2><p>0. Cartas</p></h2>\n",
    "<p>\n",
    "Supongamos que tenemos un conjunto de parejas de cartas del mismo valor. En particular, tenemos parejas de cartas hasta N. Por ejemplo, para $N=3$ tendríamos una pareja de 1s, una de 2s y una de 3s (un total de 6 cartas). Lo que queremos es encontrar la manera de ordenarlas para que entre las dos cartas de valor $n_i$ haya exactamente $n_i$ cartas. En el ejemplo con $N=3$ tendríamos la siguiente solución:\n",
    "</p>\n",
    "<center> <b>   3 - 1 - 2 - 1- 3 - 2 </b></center>\n",
    "<p>\n",
    "Podemos observar que entre los 3 hay tres cartas, entre los 2 hay dos y entre los 1 solo hay una. Dependiendo del tamaño de N el problema podría no tener solución. Por ejemplo $N=5$ o $N=6$. Se pide la implementación de un algoritmo que, mediante backtracking, devuelva una lista con la configuración encontrada dado un valor N. En caso de no haber solución, debe devolver una lista vacía.\n",
    "</p> <p>\n",
    "Es importante destacar que tendréis que prestar especial atención a la complejidad de vuestra solución, dado que el problema crece de forma no polinómica y para un valor $N>12$ podría tardar horas. Hay diferentes aproximaciones para resolverlo. Bien hecho, $N=12$ debería tardar escasos segundos. Si haces varias versiones, puedes entregarlas junto con la comparativa de complejidad correspondiente.</p>\n",
    "</div>"
   ]
  },
  {
   "cell_type": "code",
   "execution_count": 8,
   "metadata": {},
   "outputs": [],
   "source": [
    "'''\n",
    "Implementa aquí tu solución. Debe devolver una lista con las cartas ordenadas tal y como se especifica\n",
    "en el enunciado o None en caso de no existir solución para la entrada dada.\n",
    "'''\n",
    "def deck(n):\n",
    "    baraja = []\n",
    "    for i in range(n):\n",
    "        baraja.append(i+1)\n",
    "        baraja.append(i+1)\n",
    "    \n",
    "    baraja = deckrecursive(baraja,n,1)\n",
    "    return baraja\n",
    "\n",
    "def deckrecurisve(baraja,n,numca):\n",
    "    for i in range(len(baraja)):\n",
    "        if(baraja[i] != baraja[2*i]):\n",
    "            \n",
    "    return []\n",
    "    "
   ]
  },
  {
   "cell_type": "code",
   "execution_count": 9,
   "metadata": {},
   "outputs": [
    {
     "name": "stdout",
     "output_type": "stream",
     "text": [
      "[1, 1]\n",
      "Sol 1:  1\n",
      "[1, 1, 2, 2]\n",
      "Sol 2:  1\n",
      "[1, 1, 2, 2, 3, 3]\n",
      "Sol 3:  1\n",
      "[1, 1, 2, 2, 3, 3, 4, 4]\n",
      "Sol 4:  1\n",
      "[1, 1, 2, 2, 3, 3, 4, 4, 5, 5]\n",
      "Sol 5:  1\n",
      "[1, 1, 2, 2, 3, 3, 4, 4, 5, 5, 6, 6]\n",
      "Sol 6:  1\n",
      "[1, 1, 2, 2, 3, 3, 4, 4, 5, 5, 6, 6, 7, 7]\n",
      "Sol 7:  1\n",
      "[1, 1, 2, 2, 3, 3, 4, 4, 5, 5, 6, 6, 7, 7, 8, 8]\n",
      "Sol 8:  1\n",
      "[1, 1, 2, 2, 3, 3, 4, 4, 5, 5, 6, 6, 7, 7, 8, 8, 9, 9]\n",
      "Sol 9:  1\n",
      "[1, 1, 2, 2, 3, 3, 4, 4, 5, 5, 6, 6, 7, 7, 8, 8, 9, 9, 10, 10]\n",
      "Sol 10:  1\n",
      "[1, 1, 2, 2, 3, 3, 4, 4, 5, 5, 6, 6, 7, 7, 8, 8, 9, 9, 10, 10, 11, 11]\n",
      "Sol 11:  1\n",
      "[1, 1, 2, 2, 3, 3, 4, 4, 5, 5, 6, 6, 7, 7, 8, 8, 9, 9, 10, 10, 11, 11, 12, 12]\n",
      "Sol 12:  1\n",
      "[1, 1, 2, 2, 3, 3, 4, 4, 5, 5, 6, 6, 7, 7, 8, 8, 9, 9, 10, 10, 11, 11, 12, 12, 13, 13]\n",
      "Sol 13:  1\n",
      "[1, 1, 2, 2, 3, 3, 4, 4, 5, 5, 6, 6, 7, 7, 8, 8, 9, 9, 10, 10, 11, 11, 12, 12, 13, 13, 14, 14]\n",
      "Sol 14:  1\n",
      "[1, 1, 2, 2, 3, 3, 4, 4, 5, 5, 6, 6, 7, 7, 8, 8, 9, 9, 10, 10, 11, 11, 12, 12, 13, 13, 14, 14, 15, 15]\n",
      "Sol 15:  1\n",
      "[1, 1, 2, 2, 3, 3, 4, 4, 5, 5, 6, 6, 7, 7, 8, 8, 9, 9, 10, 10, 11, 11, 12, 12, 13, 13, 14, 14, 15, 15, 16, 16]\n",
      "Sol 16:  1\n",
      "[1, 1, 2, 2, 3, 3, 4, 4, 5, 5, 6, 6, 7, 7, 8, 8, 9, 9, 10, 10, 11, 11, 12, 12, 13, 13, 14, 14, 15, 15, 16, 16, 17, 17]\n",
      "Sol 17:  1\n",
      "[1, 1, 2, 2, 3, 3, 4, 4, 5, 5, 6, 6, 7, 7, 8, 8, 9, 9, 10, 10, 11, 11, 12, 12, 13, 13, 14, 14, 15, 15, 16, 16, 17, 17, 18, 18]\n",
      "Sol 18:  1\n",
      "[1, 1, 2, 2, 3, 3, 4, 4, 5, 5, 6, 6, 7, 7, 8, 8, 9, 9, 10, 10, 11, 11, 12, 12, 13, 13, 14, 14, 15, 15, 16, 16, 17, 17, 18, 18, 19, 19]\n",
      "Sol 19:  1\n"
     ]
    }
   ],
   "source": [
    "for n in range(1,20):\n",
    "    sol = deck(n)\n",
    "    if sol:\n",
    "        print(\"Sol \"+str(n)+\": \",\"-\".join(map(str,sol)))\n",
    "    else:\n",
    "        print(\"Sol \"+str(n)+\": NO ENCONTRADA\")"
   ]
  },
  {
   "cell_type": "markdown",
   "metadata": {},
   "source": [
    "## Analiza el coste de tu/s implementación/es:"
   ]
  },
  {
   "cell_type": "markdown",
   "metadata": {},
   "source": [
    "#### Aquí tu respuesta"
   ]
  },
  {
   "cell_type": "markdown",
   "metadata": {},
   "source": [
    "<div class=\"alert alert-info\">\n",
    "<center>\n",
    "  <h1>Ramificación y poda</h1>\n",
    "</center>\n",
    "</div>"
   ]
  },
  {
   "cell_type": "markdown",
   "metadata": {},
   "source": [
    "\n",
    "<div class=\"alert alert-success\" style=\"width:90%; margin:0 auto;\">\n",
    "  <h2><p>1. Mochila</p></h2>\n",
    "  \n",
    "   <p> En esta primera sección trabajaremos con el problema de la mochila que ya vimos en problemas Greedy y PD. Refrequemos un poco (por si aún no lo tenéis claro):\n",
    "</p>\n",
    "    Nos encontramos en una habitación en la que hay $N$ objetos con pesos $w_1, w_2, w_3 ... w_N$ y tenemos una mochila que puede soportar una carga máxima de $W$. En este caso se pide que realicéis una implementación de Ramificación y Poda para resolver el problema de la mochila con valor:\n",
    "<br><br>\n",
    " **mochila_valor:** Cada objeto tendrá asignado un valor $v_1, v_2, v_3 ... v_N$. Buscamos llenar la mochila maximizando el valor total de la mochila pero sin superar la capacidad máxima. Es decir queremos encontrar la combinación de objetos $b$ tal que $\\arg_{b} \\max{\\sum_{i=0}^{N}{v_i · b_i}}$ con la condición de que $\\sum_{i=0}^{N}{(w_i · b_i)}\\leq W$.\n",
    "     <br><br>\n",
    "Trabajaremos únicamente con la versión de la mochila en la que tenemos una cantidad limitada $c_1, c_2, c_3 ... c_N$ de objetos.</div>\n"
   ]
  },
  {
   "cell_type": "code",
   "execution_count": 6,
   "metadata": {},
   "outputs": [],
   "source": [
    "import random as rd\n",
    "\n",
    "# Genera un conjunto de objetos de prueba en forma de una lista de listas, \n",
    "# cada una de las cuales representa un elemento [peso,valor,cantidad]\n",
    "def random_objects():\n",
    "    objects = [[p,v,c] for p,v,c in zip(rd.sample(range(1, 50), k=10), rd.sample(range(1, 100), k=10),rd.sample(range(1, 15), k=10))]\n",
    "    return objects"
   ]
  },
  {
   "cell_type": "code",
   "execution_count": 10,
   "metadata": {},
   "outputs": [],
   "source": [
    "''' \n",
    "Implementa aquí la solución de Ramificación y poda que resuelve el problema de la mochila\n",
    "@input: (D) Lista de listas con la forma [peso,valor,cantidad] representando los objetos que podemos escoger.\n",
    "        (W) Entero que representa la capacidad de la mochila.\n",
    "@output: Lista de listas con la forma [peso,valor,cantidad] representando los objetos escogidos.\n",
    "'''\n",
    "def knapsack_branch(D,W):\n",
    "    items=[]\n",
    "    valor = 0\n",
    "    peso_final=0\n",
    "    pending=[]    \n",
    "    cota_max = 9999999999  # al principio defino la cota maxima como un numero muy grande\n",
    "    \n",
    "    visto=[]\n",
    "    # primero ordenamos el diccionario de elementos en una lista de tuplas. El criterio para ordenarlos es la relacion\n",
    "    # peso/valor, cuanto mas valgan y menos pesen mas pequeño sera ese numero y mas posibilidades habra de meterlo en la mochila\n",
    "    # nos queda una lista de tuplas (peso,valor,cantidad)\n",
    "    lista_ordenada = sorted(list(elements.values()),key=lambda ratio:float(ratio[0]/ratio[1]))\n",
    "    \n",
    "    # ahora creamos la variable donde se guardara el nombre del elemento en el que estamos ahora mismo\n",
    "    # con el metodo get_element encuentro el nombre en el diccionario elements que corresponde a la tupla\n",
    "    # que hay en la primer posicion de lista_ordenada, en este caso: match\n",
    "    nombre=[get_element(elements,lista_ordenada[0])]\n",
    "    \n",
    "    # añadimos a pending una tupla con el peso, valor, cantidad y nombre del primer elemento \n",
    "    pending.append((lista_ordenada[0][0],lista_ordenada[0][1],lista_ordenada[0][2],nombre))\n",
    "    \n",
    "    while pending:\n",
    "        # mientras pending tenga elementos, quitamos el primero de ellos, es decir, la mejor opcion para poner en la mochila\n",
    "        peso,valor_act,cantidad,nombre=pending.pop(0)\n",
    "        \n",
    "        # si su relacion peso/valor es mayor que la cota maxima y su valor es menor que el valor total, significa que\n",
    "        # esa solucion no es valida, podemos podar y continuar con la siguiente iteracion\n",
    "        if float((peso/valor_act))>cota_max and valor>valor_act:\n",
    "            continue\n",
    "\n",
    "        # ahora queremos encontrar los candidatos a ser los siguientes elementos, crearemos un diccionario para meterlos\n",
    "        posibles_elements={}\n",
    "        for x in elements.values():  # para cada elemento del diccionario inicial\n",
    "            cantidad=0               # como hay varios de cada elemento, debemos mirar cuantos elementos de ese tipo hay\n",
    "            for e in nombre:         # ya colocados en la mochila\n",
    "                if e==get_element(elements,x):\n",
    "                    cantidad+=1\n",
    "            # si el peso que ya teniamos mas el peso del nuevo elemento es menor que el peso maximo que puede llevar\n",
    "            # la mochila, y la cantidad de objetos de ese tipo que hay en la mochila es menor que de los disponibles,\n",
    "            # entonces ese objeto es un posible elemento, y lo añadimos\n",
    "            if x[0]+peso<=total_weight and cantidad<elements[get_element(elements,x)][2]:\n",
    "                # la clave es su nombre, el cual obtenemos con el get_element, y su valor la tupla (peso,valor,cantidad)\n",
    "                posibles_elements[get_element(elements,(x))]=(x)\n",
    "        \n",
    "        # en caso de que posibles_elements este vacio, significa que no hay mas posibles elementos y por lo tanto hemos\n",
    "        # encontrado una solucion, asi que actualizamos los valores, como la cota, los items, el valor... y seguimos buscando\n",
    "        if not posibles_elements:\n",
    "            if valor_act>valor:\n",
    "                cota_max=float(peso/valor_act)\n",
    "                items = nombre\n",
    "                valor = valor_act\n",
    "                peso_final = peso\n",
    "            continue\n",
    "        \n",
    "        # ahora, por cada posible valor, debemos añadirlo a pending\n",
    "        for x in posibles_elements.values():\n",
    "            # creamos el child_nombre, es decir, una lista donde estaran los nombres de los objetos que vaya poniendo\n",
    "            child_nombre=(nombre.copy())\n",
    "            # añadimos los que ya teníamos y el nuevo\n",
    "            child_nombre.append(get_element(posibles_elements,x))\n",
    "            cantidad=0\n",
    "            for e in nombre:\n",
    "                if e==get_element(elements,x):  # de nuevo vemos cuantos objetos de ese tipo hay en la mochila\n",
    "                    cantidad+=1\n",
    "            if child_nombre not in visto and cantidad<elements[get_element(elements,x)][2]: # si no estan visitados y hay menos\n",
    "                pending.append((x[0]+peso,x[1]+valor_act,x[2],child_nombre))                # de los permitidos, entonces\n",
    "                visto.append(child_nombre)                                                  # podemos añadirlo al pending,\n",
    "                                                                                            # y lo metemos en vistos\n",
    "        \n",
    "        # de nuevo, ordenamos el pending segun su relacion peso/valor, y volvemos al inicio del bucle\n",
    "        pending = sorted(pending,key=lambda ratio:float(ratio[0]/ratio[1]))\n",
    "\n",
    "    return (items, valor, peso_final)\n",
    "\n",
    "# este metodo recibe un diccionario y una tupla, coge la lista de valores del diccionario y coge el index que le corresponde\n",
    "# a la tupla que manda. Entonces, retorna la key del diccionario que tiene ese index. Lo uso para conseguir el nombre del\n",
    "# objeto en el que estoy usando la tupla (peso,valor,cantidad)\n",
    "def get_element(elementos,tupla):\n",
    "    return list(elementos.keys())[list(elementos.values()).index(tupla)]\n"
   ]
  },
  {
   "cell_type": "code",
   "execution_count": 11,
   "metadata": {},
   "outputs": [
    {
     "name": "stdout",
     "output_type": "stream",
     "text": [
      "D [[47, 52, 12], [35, 32, 8], [46, 16, 9], [4, 90, 14], [41, 10, 7], [1, 86, 1], [30, 45, 6], [29, 35, 11], [40, 43, 2], [39, 46, 13]]\n"
     ]
    },
    {
     "ename": "NameError",
     "evalue": "name 'elements' is not defined",
     "output_type": "error",
     "traceback": [
      "\u001b[1;31m---------------------------------------------------------------------------\u001b[0m",
      "\u001b[1;31mNameError\u001b[0m                                 Traceback (most recent call last)",
      "\u001b[1;32m<ipython-input-11-0293c6cb1c09>\u001b[0m in \u001b[0;36m<module>\u001b[1;34m\u001b[0m\n\u001b[0;32m      3\u001b[0m \u001b[0mprint\u001b[0m\u001b[1;33m(\u001b[0m\u001b[1;34m\"D\"\u001b[0m\u001b[1;33m,\u001b[0m\u001b[0mD\u001b[0m\u001b[1;33m)\u001b[0m\u001b[1;33m\u001b[0m\u001b[1;33m\u001b[0m\u001b[0m\n\u001b[0;32m      4\u001b[0m \u001b[0mW\u001b[0m \u001b[1;33m=\u001b[0m \u001b[1;36m150\u001b[0m\u001b[1;33m\u001b[0m\u001b[1;33m\u001b[0m\u001b[0m\n\u001b[1;32m----> 5\u001b[1;33m \u001b[0mprint\u001b[0m\u001b[1;33m(\u001b[0m\u001b[0mknapsack_branch\u001b[0m\u001b[1;33m(\u001b[0m\u001b[0mD\u001b[0m\u001b[1;33m,\u001b[0m\u001b[0mW\u001b[0m\u001b[1;33m)\u001b[0m\u001b[1;33m)\u001b[0m\u001b[1;33m\u001b[0m\u001b[1;33m\u001b[0m\u001b[0m\n\u001b[0m",
      "\u001b[1;32m<ipython-input-10-36a2733c3cc5>\u001b[0m in \u001b[0;36mknapsack_branch\u001b[1;34m(D, W)\u001b[0m\n\u001b[0;32m     16\u001b[0m     \u001b[1;31m# peso/valor, cuanto mas valgan y menos pesen mas pequeño sera ese numero y mas posibilidades habra de meterlo en la mochila\u001b[0m\u001b[1;33m\u001b[0m\u001b[1;33m\u001b[0m\u001b[1;33m\u001b[0m\u001b[0m\n\u001b[0;32m     17\u001b[0m     \u001b[1;31m# nos queda una lista de tuplas (peso,valor,cantidad)\u001b[0m\u001b[1;33m\u001b[0m\u001b[1;33m\u001b[0m\u001b[1;33m\u001b[0m\u001b[0m\n\u001b[1;32m---> 18\u001b[1;33m     \u001b[0mlista_ordenada\u001b[0m \u001b[1;33m=\u001b[0m \u001b[0msorted\u001b[0m\u001b[1;33m(\u001b[0m\u001b[0mlist\u001b[0m\u001b[1;33m(\u001b[0m\u001b[0melements\u001b[0m\u001b[1;33m.\u001b[0m\u001b[0mvalues\u001b[0m\u001b[1;33m(\u001b[0m\u001b[1;33m)\u001b[0m\u001b[1;33m)\u001b[0m\u001b[1;33m,\u001b[0m\u001b[0mkey\u001b[0m\u001b[1;33m=\u001b[0m\u001b[1;32mlambda\u001b[0m \u001b[0mratio\u001b[0m\u001b[1;33m:\u001b[0m\u001b[0mfloat\u001b[0m\u001b[1;33m(\u001b[0m\u001b[0mratio\u001b[0m\u001b[1;33m[\u001b[0m\u001b[1;36m0\u001b[0m\u001b[1;33m]\u001b[0m\u001b[1;33m/\u001b[0m\u001b[0mratio\u001b[0m\u001b[1;33m[\u001b[0m\u001b[1;36m1\u001b[0m\u001b[1;33m]\u001b[0m\u001b[1;33m)\u001b[0m\u001b[1;33m)\u001b[0m\u001b[1;33m\u001b[0m\u001b[1;33m\u001b[0m\u001b[0m\n\u001b[0m\u001b[0;32m     19\u001b[0m \u001b[1;33m\u001b[0m\u001b[0m\n\u001b[0;32m     20\u001b[0m     \u001b[1;31m# ahora creamos la variable donde se guardara el nombre del elemento en el que estamos ahora mismo\u001b[0m\u001b[1;33m\u001b[0m\u001b[1;33m\u001b[0m\u001b[1;33m\u001b[0m\u001b[0m\n",
      "\u001b[1;31mNameError\u001b[0m: name 'elements' is not defined"
     ]
    }
   ],
   "source": [
    "#rd.seed(0) # fijando el seed obtenemos siempre la misma mochila\n",
    "D = random_objects()\n",
    "print(\"D\",D)\n",
    "W = 150\n",
    "print(knapsack_branch(D,W))"
   ]
  },
  {
   "cell_type": "markdown",
   "metadata": {},
   "source": [
    "### Analiza el coste de tu implementación. Comparalo además con el coste de las implementaciones greedy y dinámica. Compara también la optimalidad de la solución en los tres casos."
   ]
  },
  {
   "cell_type": "markdown",
   "metadata": {},
   "source": [
    "#### Aquí tu respuesta"
   ]
  },
  {
   "cell_type": "markdown",
   "metadata": {},
   "source": [
    "\n",
    "<div class=\"alert alert-success\" style=\"width:90%; margin:0 auto;\">\n",
    "  <h2><p>2 - Orden de Ensamblaje</p></h2>\n",
    "  \n",
    "  <div class=\"row\">\n",
    "  <div>\n",
    "  <p style=\"text-align: justify; padding-right: 30px\">\n",
    "La construcción de un artefacto requiere ensamblar $M$ piezas que identiﬁcamos con números entre $1$ y $M$. El coste de ensamblar la pieza $i$ depende del número de piezas ya ensambladas. Los costes, que son valores positivos, se nos proporcionan en una matriz $C$. La celda $c_{ij}$ es el coste de ensamblar la pieza $i$ cuando ya se han ensamblado $j$ piezas. Deseamos calcular el orden de ensamblado de menor coste total, entendido éste como la suma del coste de ensamblaje de cada una de las piezas. \n",
    "  Implementa mediante ramificación y poda una solución a este problema con tal de encontrar el listado ordenado de piezas cuyo coste total de ensamblaje sea mínimo.\n",
    "  </p>\n",
    "  </div>\n",
    "    </div>\n"
   ]
  },
  {
   "cell_type": "markdown",
   "metadata": {},
   "source": [
    "<div class=\"alert alert-danger\" style=\"width:80%; margin:0 auto; padding\">\n",
    "<center><p><h3> Código </h3></p> </center> \n",
    "\n",
    "<p>\n",
    "<h3>INPUT</h3>\n",
    "<ul>\n",
    "<li>C: Matriz de costes de tamaño $M\\times M$, donde M es el número de piezas. El elemento $i,j$ de la matriz representa el coste de ensamblaje para la pieza $i$ tras haber colocado $j$ piezas. \n",
    "</li>\n",
    "</ul>\n",
    "<br>\n",
    "<h3>OUTPUT</h3>\n",
    "Lista de números de $1$ a $M$ ordenados de forma que el coste total de ensamblaje sea mínimo. Ej: [5, 3, 2, 4, 1]\n",
    "</p>\n",
    "\n",
    "</div>"
   ]
  },
  {
   "cell_type": "code",
   "execution_count": 1,
   "metadata": {},
   "outputs": [],
   "source": [
    "def branch_ensemble(C):\n",
    "    \"\"\"\n",
    "    Función que obtiene el orden óptimo de las piezas tal que el coste total es mínimo.\n",
    "    Args:\n",
    "        - C: matriz de costes M x M\n",
    "    \"\"\"\n",
    "    path = []\n",
    "    \n",
    "    # dict visited per a evitar repeticions\n",
    "    visited = {}\n",
    "    for i in C.keys():\n",
    "        visited[i] = False\n",
    "    \n",
    "    expanded = 0 # comptador de nodes explorats\n",
    "    \n",
    "    # ordenem la llista de nodes seguents per millorar l'eficiencia    \n",
    "    pieces_in_order = [key for key in C.keys()]\n",
    "    pieces_in_order.sort(key=lambda i: C[i][0])\n",
    "    \n",
    "    best_path = [] # path millor solucio total trobada\n",
    "    best_cost = float('inf') # COTA \n",
    "    \n",
    "    \n",
    "    \"\"\"  I T E R A C I O   I   C R I D A   R E C U R S I V A\n",
    "    \n",
    "    Visitem totes les peces, seguint el model de ramificacio i poda, usant una pila implicita: \n",
    "    \"\"\"\n",
    "    \n",
    "    for piece in pieces_in_order:\n",
    "        \n",
    "        # l'afegim a la solucio\n",
    "        visited[piece] = True\n",
    "        path.append(piece)\n",
    "        \n",
    "        # visitem node\n",
    "        new_path, new_cost, expanded = branch_bound_rec(C, piece, best_cost, 0, path, 0, visited, expanded)\n",
    "        \n",
    "        # el treiem de la solucio\n",
    "        path.pop()\n",
    "        visited[piece] = False\n",
    "        \n",
    "        # Actualitzem la millor solucio:\n",
    "        if new_cost < best_cost:\n",
    "            best_path = new_path\n",
    "            best_cost = new_cost\n",
    "    \n",
    "    return best_path, best_cost, expanded\n",
    "\n",
    "def branch_bound_rec(C, i, partial_cost, current_cost, path, n, visited, expanded):\n",
    "\n",
    "    \"\"\"  I N I C I A L I T Z A C I O   V A R I A B L E S   P A R C I A L S  \"\"\"\n",
    "    # millor solucio parcial\n",
    "    best_path = []\n",
    "    # variable per a comprobar si es fulla\n",
    "    not_visited = 0 \n",
    "    \n",
    "    \"\"\"  C O M P R O V A C I O   C O T A  \"\"\"\n",
    "    # calculem nou cost\n",
    "    current_cost += C[i][n]\n",
    "    # si passa de la cota\n",
    "    if current_cost > partial_cost:\n",
    "        return best_path[:], float('inf'), expanded\n",
    "    \n",
    "    \n",
    "    # +1 expanded\n",
    "    expanded +=1\n",
    "    \n",
    "    # ordenem la llista de nodes seguents per millorar l'eficiencia \n",
    "    pieces_in_order = [key for key in C.keys()]\n",
    "    pieces_in_order.sort(key=lambda i: C[i][n])\n",
    "    \n",
    "    \n",
    "    \"\"\"  I T E R A C I O   I   C R I D A   R E C U R S I V A  \"\"\"\n",
    "    \n",
    "    # per totes les peces no visitades:\n",
    "    for piece in pieces_in_order:\n",
    "        if visited[piece] == False:\n",
    "            # hi ha nodes no visitats = aquest node no es fulla\n",
    "            not_visited +=1\n",
    "            \n",
    "            # l'afegim a la solucio\n",
    "            visited[piece] = True\n",
    "            path.append(piece)\n",
    "            \n",
    "            # visitem node\n",
    "            new_path, new_cost, expanded = branch_bound_rec(C, piece, partial_cost, current_cost, path, n+1, visited, expanded)\n",
    "            \n",
    "            # el treiem de la solucio\n",
    "            path.pop()\n",
    "            visited[piece] = False\n",
    "            \n",
    "            # actualitzem millor solucio parcial\n",
    "            if new_cost < partial_cost:\n",
    "                best_path = new_path\n",
    "                partial_cost = new_cost\n",
    "    \n",
    "    # si es fulla, ha passat la cota, retornem la solucio\n",
    "    if not_visited < 1:\n",
    "        return path[:], current_cost, expanded\n",
    "\n",
    "    # si no es fulla, retornem la solucio obtinguda per recursivitat\n",
    "    return best_path[:], partial_cost, expanded\n",
    "    \n",
    "    return items"
   ]
  },
  {
   "cell_type": "code",
   "execution_count": 2,
   "metadata": {
    "scrolled": true
   },
   "outputs": [
    {
     "name": "stdout",
     "output_type": "stream",
     "text": [
      "([5, 0, 7, 1, 3, 4, 9, 2, 8, 6], 38.548636742735646, 8238)\n"
     ]
    }
   ],
   "source": [
    "from random import uniform\n",
    "\n",
    "M = 10 # Número de piezas\n",
    "# Matriz de costes generada aleatoriamente\n",
    "C = {}\n",
    "for i in range(M):\n",
    "    C[i] = {}\n",
    "    for j in range(M):\n",
    "        C[i][j] = uniform(1, 25)\n",
    "\n",
    "solucion = branch_ensemble(C)\n",
    "print(solucion)"
   ]
  },
  {
   "cell_type": "markdown",
   "metadata": {},
   "source": [
    "### En esta sección debéis responder a las preguntas siguientes:\n",
    "#### 1. Explica cómo has realizado tu implementación, enfatizando en la heurística empleada.\n",
    "#### 2. Análisis de complejidad de la implementación"
   ]
  },
  {
   "cell_type": "markdown",
   "metadata": {
    "collapsed": true
   },
   "source": [
    "#### Escribe aquí tus respuestas"
   ]
  }
 ],
 "metadata": {
  "kernelspec": {
   "display_name": "Python 3",
   "language": "python",
   "name": "python3"
  },
  "language_info": {
   "codemirror_mode": {
    "name": "ipython",
    "version": 3
   },
   "file_extension": ".py",
   "mimetype": "text/x-python",
   "name": "python",
   "nbconvert_exporter": "python",
   "pygments_lexer": "ipython3",
   "version": "3.7.3"
  }
 },
 "nbformat": 4,
 "nbformat_minor": 1
}
