{
 "cells": [
  {
   "cell_type": "markdown",
   "metadata": {},
   "source": [
    "<div style=\"padding:30px; color: white; background-color: #0071CD\">\n",
    "<center>\n",
    "<img src=\"img/logoub.jpeg\">\n",
    "<center>\n",
    "<p>\n",
    "<h1>Algorítmica Avanzada</h1>\n",
    "<h2>Problemas 1.C - Grafos </h2>\n",
    "</center>\n",
    "</p>\n",
    "</div>"
   ]
  },
  {
   "cell_type": "markdown",
   "metadata": {},
   "source": [
    "\n",
    "<div class=\"alert alert-success\" style=\"width:90%; margin:0 auto;\">\n",
    "  <h2><p>0 - Detección de ciclos</p></h2>\n",
    "  \n",
    "  <p>\n",
    "  En este ejercicio deberéis implementar un algoritmo capaz de detectar si un grafo cualquiera contiene ciclos.\n",
    "  </p>\n"
   ]
  },
  {
   "cell_type": "markdown",
   "metadata": {},
   "source": [
    "<div class=\"alert alert-danger\" style=\"width:80%; margin:0 auto; padding\">\n",
    "<center><p><h3> Código </h3></p> </center> \n",
    "\n",
    "<p>\n",
    "<h3>INPUT</h3>\n",
    "<ul>\n",
    "<li>__G__: Este es el grafo que utilizaremos para buscar ciclos.</li>\n",
    "</ul>\n",
    "<br>\n",
    "<h3>OUTPUT</h3>\n",
    "<ul>\n",
    "<li>__ _'TF'_ __: Booleano indicando si el grafo de entrada contiene algún ciclo.</li>\n",
    "<ul>\n",
    "\n",
    "</p>\n",
    "\n",
    "</div>"
   ]
  },
  {
   "cell_type": "code",
   "execution_count": 6,
   "metadata": {},
   "outputs": [],
   "source": [
    "from queue import Queue\n",
    "def cycles(G):\n",
    "    #Aplicar DFS o BFS y cuando se encuentre un nodo en visitado significarà que habrà un ciclo\n",
    "    TF = False\n",
    "    explorado = []\n",
    "    a = []\n",
    "    q = Queue()\n",
    "    q.put(0)\n",
    "    \n",
    "    while not q.empty():\n",
    "        nodo = q.get() # Obtener la ultima posicion\n",
    "        a.append(nodo)\n",
    "        \n",
    "        if(nodo not in explorado):\n",
    "            explorado.append(nodo)\n",
    "            \n",
    "        for neighbour in G.neighbors(nodo):\n",
    "            if neighbour not in explorado :\n",
    "                q.put(neighbour)\n",
    "                explorado.append(neighbour)\n",
    "                print(neighbour,nodo)\n",
    "            elif neighbour not in a:\n",
    "                TF = True\n",
    "    \n",
    "    \n",
    "    return TF"
   ]
  },
  {
   "cell_type": "code",
   "execution_count": 7,
   "metadata": {
    "scrolled": true
   },
   "outputs": [
    {
     "name": "stdout",
     "output_type": "stream",
     "text": [
      "[0, 1, 2, 3, 4]\n",
      "[(0, 1), (1, 2), (1, 4), (2, 3)]\n",
      "0\n",
      "1 0\n",
      "1\n",
      "2 1\n",
      "4 1\n",
      "2\n",
      "3 2\n",
      "4\n",
      "3\n"
     ]
    },
    {
     "data": {
      "text/plain": [
       "False"
      ]
     },
     "execution_count": 7,
     "metadata": {},
     "output_type": "execute_result"
    },
    {
     "data": {
      "image/png": "[encoded data removed]",
      "text/plain": [
       "<Figure size 432x288 with 1 Axes>"
      ]
     },
     "metadata": {},
     "output_type": "display_data"
    }
   ],
   "source": [
    "%matplotlib inline\n",
    "import networkx as nx\n",
    "G = nx.generators.barabasi_albert_graph(5, 1)\n",
    "print(G.nodes())\n",
    "print(G.edges())\n",
    "nx.draw_circular(G, with_labels=True)\n",
    "cycles(G)"
   ]
  },
  {
   "cell_type": "markdown",
   "metadata": {},
   "source": [
    "<div class=\"alert alert-success\" style=\"width:90%; margin:0 auto;\">\n",
    "  <h2><p>1 - Circuito Euleriano</p></h2>\n",
    "  <p>\n",
    "  Se define como circuito euleriano aquel que pasa por todas las aristas de un grafo una única vez y que acaba en el mismo lugar en el que empieza. El problema de los caminos eulerianos fué la base de toda la teoría de grafos y fué postulado por Lehonard Euler en el famoso problema de __los siete puentes de Königsberg__. En este problema Euler se preguntaba si podía acabar en el mismo sitio tras cruzar todos los puentes una sola vez.\n",
    "  </p>\n",
    "  <img src=\"img/konigsberg.jpg\"></img>\n",
    "  <p>\n",
    "  En este ejercicio se os propone implementar un algoritmo que, dado un grafo _G_ encuentre un camino euleriano.\n",
    "  </p>"
   ]
  },
  {
   "cell_type": "markdown",
   "metadata": {},
   "source": [
    "<div class=\"alert alert-danger\" style=\"width:80%; margin:0 auto; padding\">\n",
    "<center><p><h3> Código </h3></p> </center> \n",
    "\n",
    "<p>\n",
    "<h3>INPUT</h3>\n",
    "<ul>\n",
    "<li>__G__: Objeto de tipo grafo sobre el cual queremos encontrar el circuito Euleriano.</li>\n",
    "</ul>\n",
    "<br>\n",
    "<h3>OUTPUT</h3>\n",
    "<ul>\n",
    "<li>__ _nodelist_ __: Una lista de nodos ordenados que formarían el circuito.</li>\n",
    "<ul>\n",
    "\n",
    "</p>\n",
    "\n",
    "</div>"
   ]
  },
  {
   "cell_type": "code",
   "execution_count": 8,
   "metadata": {},
   "outputs": [],
   "source": [
    "def euler(G):\n",
    "    \n",
    "    nodelist = list()\n",
    "    graph = G.copy()\n",
    "    \n",
    "    start = list(G.nodes)[0]\n",
    "    nodelist.append(start)\n",
    "\n",
    "    while len(graph.edges) > 0:\n",
    "        actual = nodelist[-1]\n",
    "        for edge in graph.edges:\n",
    "            if actual in edge:\n",
    "                if edge[0] == actual:\n",
    "                    actual = edge[1]\n",
    "                elif edge[1] == actual:\n",
    "                    actual = edge[0]\n",
    "                else:\n",
    "                    return \"Graf no euleria\"\n",
    "\n",
    "                graph.remove_edge(*edge)\n",
    "                nodelist.append(actual)\n",
    "                break\n",
    "    return nodelist"
   ]
  },
  {
   "cell_type": "markdown",
   "metadata": {},
   "source": [
    "<div class=\"alert alert-warning\">\n",
    "<h1>Pregunta</h1>\n",
    "<p><strong>\n",
    "¿Qué condiciones se deben de cumplir para que un grafo cualquiera contenga un camino euleriano? Demuéstralo.\n",
    "</strong></p>\n",
    "</div>\n",
    "Si todos los vertices son de grado par o si el numero de vertices de grado impar son pares.\n",
    " "
   ]
  },
  {
   "cell_type": "markdown",
   "metadata": {},
   "source": [
    "<div class=\"alert alert-warning\">\n",
    "<h1>Extra</h1>\n",
    "<p><strong>\n",
    "Además de circuitos Eulerianos, definimos caminos Eulerianos aquellos que recorren todas las aristas de un grafo sin repetirlas, pero no termina en el mismo nodo que empieza. Modifica el algoritmo anterior para que sea capaz de detectar si el grafo contiene un ciclo o un camino Euleriano, y devuelva la lista de nodos ordenados que componen dicho ciclo o camino. Tened en cuenta que son casos excluyentes.\n",
    "</strong></p>\n",
    "</div>"
   ]
  },
  {
   "cell_type": "code",
   "execution_count": 1,
   "metadata": {},
   "outputs": [],
   "source": [
    "from random import choice\n",
    "\n",
    "def euler_path(G):\n",
    "    # Check if has euler cycle or path\n",
    "    odd = []\n",
    "    kind = ''\n",
    "    for node in G.nodes:\n",
    "        if G.degree(node) % 2: odd.append(node)\n",
    "        if len(odd) > 2: break\n",
    "    if len(odd) == 0: kind = 'cycle'\n",
    "    elif len(odd) == 2: kind = 'path'\n",
    "    else: return [], None\n",
    "   \n",
    "    # Visited EDGES\n",
    "    visited = set()\n",
    "   \n",
    "    cycles = []\n",
    "    if kind == 'cycle': # Random starting node\n",
    "        path = [choice(list(G))]\n",
    "    elif kind == 'path': # start at node with odd degree\n",
    "        path = [choice(odd)]\n",
    "    while len(visited) != len(G.edges):\n",
    "        node = path[-1]\n",
    "        neighs = list(G.neighbors(node))\n",
    "        already_visited = 0\n",
    "        for neigh in neighs:\n",
    "            edge = tuple(sorted([node, neigh]))\n",
    "            # Pick unvisited edge\n",
    "            if edge not in visited:\n",
    "                path.append(neigh)\n",
    "                visited.add(edge)\n",
    "                break\n",
    "            else:\n",
    "                # Count how many neighs have already been visited\n",
    "                already_visited += 1\n",
    "               \n",
    "        # No more edges from this node, we're trapped!! D:\n",
    "        if len(neighs) == already_visited:\n",
    "            cycles.append(path)\n",
    "            # search next node on path\n",
    "            for node in path:\n",
    "                # All neighbours of the node\n",
    "                edges = set([tuple(sorted([node, n])) for n in G.neighbors(node)])\n",
    "                # Intersect edges with visited\n",
    "                unvisited = edges - visited\n",
    "                if unvisited: # If any edge \"survived\" the intersection, we still 've got edges to visit\n",
    "                    path = [node]\n",
    "                    break\n",
    "                   \n",
    "    # Reconstruct path from cycles\n",
    "    if kind == 'cycle': path = []\n",
    "    for c in cycles:\n",
    "        if not path: path = c # first\n",
    "        else:\n",
    "            idx = path.index(c[0])\n",
    "            path = path[:idx] + c + path[idx+1:]\n",
    "    return path, kind"
   ]
  },
  {
   "cell_type": "code",
   "execution_count": null,
   "metadata": {},
   "outputs": [],
   "source": []
  }
 ],
 "metadata": {
  "kernelspec": {
   "display_name": "Python 3",
   "language": "python",
   "name": "python3"
  },
  "language_info": {
   "codemirror_mode": {
    "name": "ipython",
    "version": 3
   },
   "file_extension": ".py",
   "mimetype": "text/x-python",
   "name": "python",
   "nbconvert_exporter": "python",
   "pygments_lexer": "ipython3",
   "version": "3.7.3"
  }
 },
 "nbformat": 4,
 "nbformat_minor": 2
}
