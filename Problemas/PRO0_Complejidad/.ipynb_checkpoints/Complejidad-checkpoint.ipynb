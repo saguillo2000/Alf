{
 "cells": [
  {
   "cell_type": "markdown",
   "metadata": {},
   "source": [
    "<div style=\"padding:30px; color: white; background-color: #0071CD\">\n",
    "<center>\n",
    "<img src=\"img/logoub.jpeg\"></img>\n",
    "<center>\n",
    "<p>\n",
    "<h1>Algorítmica Avanzada</h1>\n",
    "<h2>Problemas 0 - Notación asintótica </h2>\n",
    "</center>\n",
    "</p>\n",
    "</div>"
   ]
  },
  {
   "cell_type": "markdown",
   "metadata": {},
   "source": [
    "## Notación"
   ]
  },
  {
   "cell_type": "markdown",
   "metadata": {},
   "source": [
    "A lo largo de este notebook veremos los conceptos básicos de notación asintótica que nos servirán para definir la complejidad de nuestros algoritmos.\n",
    "\n",
    "Para ello utilizaremos los siguientes símbolos\n",
    "\n",
    "- $\\Theta$ (Theta)\n",
    "- $O$, $o$ (Omicron)\n",
    "- $\\Omega$ (Omega)\n"
   ]
  },
  {
   "cell_type": "markdown",
   "metadata": {},
   "source": [
    "Pero, cómo definimos la complejidad de un algoritmo? Tienen los siguientes tres algoritmos la misma complejidad?"
   ]
  },
  {
   "cell_type": "code",
   "execution_count": null,
   "metadata": {},
   "outputs": [],
   "source": [
    "def alga(i):\n",
    "    return i    #O(1)\n",
    "    \n",
    "def algb(i):     \n",
    "    total = 0    \n",
    "    for m in i:  \n",
    "        total+=m  \n",
    "    return total   #O(n)\n",
    "\n",
    "def algc(i):\n",
    "    total=0\n",
    "    for m in i:\n",
    "        for j in i:\n",
    "            total+=m+j\n",
    "    return total   #O(n^2)\n",
    "            \n",
    "            \n",
    "import random\n",
    "\n",
    "# Crea una lista de valores aleatorios\n",
    "_list = random.sample(range(30), 4)\n",
    "\n",
    "\n",
    "print(alga(_list))\n",
    "print(algb(_list))\n",
    "print(algc(_list))"
   ]
  },
  {
   "cell_type": "markdown",
   "metadata": {},
   "source": [
    "Comprobemos el tiempo de ejecución de cada uno de los algoritmos"
   ]
  },
  {
   "cell_type": "code",
   "execution_count": null,
   "metadata": {},
   "outputs": [],
   "source": [
    "%timeit alga(_list)\n",
    "%timeit algb(_list)\n",
    "%timeit algc(_list)"
   ]
  },
  {
   "cell_type": "markdown",
   "metadata": {},
   "source": [
    "<div class=\"alert alert-warning\">\n",
    "<h1>Pregunta 1</h1>\n",
    "<p><strong>\n",
    "Qué complejidad tienen las funciones _alga_, _algb_ y _algc_ notándolas como $\\Theta, O, \\Omega$?\n",
    "</strong></p>\n",
    "<p>\n",
    "Recordatorio:\n",
    "<ul>\n",
    "<li>$o(n)$: Crecimiento menor a $n$</li>\n",
    "<li>$O(n)$: Crecimiento menor o igual a $n$</li>\n",
    "<li>$\\Theta(n)$: Crecimiento igual a $n$</li>\n",
    "<li>$\\Omega(n)$: Crecimiento igual o superior a $n$</li>\n",
    "</ul>\n",
    "</p>\n",
    "</div>"
   ]
  },
  {
   "cell_type": "markdown",
   "metadata": {},
   "source": []
  },
  {
   "cell_type": "code",
   "execution_count": null,
   "metadata": {},
   "outputs": [],
   "source": [
    "def sumapares(lista, listb):\n",
    "    listc = []\n",
    "    for x in lista:\n",
    "        for y in listb:\n",
    "            listc.append(x+y)\n",
    "    return listc\n",
    "\n",
    "sumapares([1,2,3],[4,5,6])"
   ]
  },
  {
   "cell_type": "markdown",
   "metadata": {},
   "source": [
    "<div class=\"alert alert-warning\">\n",
    "<h1>Pregunta 2</h1>\n",
    "<p><strong>\n",
    "Qué complejidad tiene la función $sumapares$?\n",
    "</strong></p>\n",
    "</div>"
   ]
  },
  {
   "cell_type": "markdown",
   "metadata": {},
   "source": []
  },
  {
   "cell_type": "markdown",
   "metadata": {},
   "source": [
    "## Orden de magnitud\n",
    "\n",
    "Normalmente las operaciones de coste constante $O(1)$ las menospreciamos y analizamos la complejidad en base al orden de magnitud, por lo que una función cuya complejidad exacta fuere $O(3x^2+6)$ la denotarmemos como $O(3x^2)$."
   ]
  },
  {
   "cell_type": "markdown",
   "metadata": {},
   "source": [
    "<div class=\"alert alert-danger\">\n",
    "<h1>Problema 1</h1>\n",
    "<p><strong>\n",
    "Implementa algoritmos que tengan las complejidades siguientes: <ul><li>$O(1)$</li><li>$O(n)$</li><li>$O(n^2)$</li><li>$O(log(n))$</li><li>$O(2^n)$</li><li>$O(n!)$</li></ul>\n",
    "\n",
    "</strong></p>\n",
    "<p><b>Nota: </b> Puedes cambiar la declaración de las funciones si lo consideras necesario.</p>\n",
    "</div>"
   ]
  },
  {
   "cell_type": "code",
   "execution_count": null,
   "metadata": {},
   "outputs": [],
   "source": [
    "def o(a):\n",
    "    print(a)\n",
    "    pass"
   ]
  },
  {
   "cell_type": "code",
   "execution_count": null,
   "metadata": {},
   "outputs": [],
   "source": [
    "def on(a):\n",
    "    for m in a:\n",
    "        print (a)\n",
    "    pass"
   ]
  },
  {
   "cell_type": "code",
   "execution_count": null,
   "metadata": {},
   "outputs": [],
   "source": [
    "def onsquare(a):\n",
    "    for m in a:\n",
    "        for j in a:\n",
    "            print(m+j)    \n",
    "    pass"
   ]
  },
  {
   "cell_type": "code",
   "execution_count": null,
   "metadata": {
    "scrolled": true
   },
   "outputs": [],
   "source": [
    "def ologn(a,b):\n",
    "    #Consideramos que a es el número a buscar i b la lista ordenada para una cerca binària\n",
    "    j = len(b)//2\n",
    "    if (b[j] == a):\n",
    "        return True\n",
    "    if(len(b)==1):\n",
    "        return False\n",
    "    if(b[j]<a):\n",
    "        c =b[j:] \n",
    "        return ologn(a,c)\n",
    "    if(b[j]>a):\n",
    "        c = b[:j]{}\n",
    "        return ologn(a,c)\n",
    "        \n",
    "lista = [2,3,4]        \n",
    "ologn(6,lista)    "
   ]
  },
  {
   "cell_type": "code",
   "execution_count": 2,
   "metadata": {},
   "outputs": [
    {
     "data": {
      "text/plain": [
       "[[], [1], [2], [1, 2], [3], [1, 3], [2, 3], [1, 2, 3]]"
      ]
     },
     "execution_count": 2,
     "metadata": {},
     "output_type": "execute_result"
    }
   ],
   "source": [
    "def oexpn(a):\n",
    "    #Subconjuntos de lista a\n",
    "    sets = []\n",
    "    for i in range(1 << len(a)):\n",
    "        subset = [a[bit] for bit in range(len(a)) if is_bit_set(i, bit)]\n",
    "        sets.append(subset)\n",
    "    return sets\n",
    "\n",
    "def is_bit_set(num, bit):\n",
    "    \n",
    "    return num & (1 << bit) > 0\n",
    "\n",
    "oexpn([1,2,3])\n"
   ]
  },
  {
   "cell_type": "code",
   "execution_count": 39,
   "metadata": {},
   "outputs": [
    {
     "name": "stdout",
     "output_type": "stream",
     "text": [
      "ABCD\n",
      "ABDC\n",
      "ACBD\n",
      "ACDB\n",
      "ADCB\n",
      "ADBC\n",
      "BACD\n",
      "BADC\n",
      "BCAD\n",
      "BCDA\n",
      "BDCA\n",
      "BDAC\n",
      "CBAD\n",
      "CBDA\n",
      "CABD\n",
      "CADB\n",
      "CDAB\n",
      "CDBA\n",
      "DBCA\n",
      "DBAC\n",
      "DCBA\n",
      "DCAB\n",
      "DACB\n",
      "DABC\n"
     ]
    }
   ],
   "source": [
    "def onfact(a):\n",
    "    return permutations(a, 0)\n",
    "\n",
    "def permutations(string, paso):\n",
    "    if paso == len(string):\n",
    "        print(\"\".join(string))\n",
    "        \n",
    "    for i in range(paso, len(string)):\n",
    "        string_copia = [car for car in string]\n",
    "        string_copia[paso], string_copia[i] = string_copia[i], string_copia[paso]\n",
    "        permutations(string_copia, paso + 1)\n",
    "\n",
    "onfact('ABCD')"
   ]
  },
  {
   "cell_type": "markdown",
   "metadata": {},
   "source": [
    "<div class=\"alert alert-warning\">\n",
    "<h1>Pregunta 3</h1>\n",
    "<p><strong>\n",
    "Evalua la complejidad exacta de cada uno de los algoritmos anteriores\n",
    "</strong></p>\n",
    "</div>"
   ]
  },
  {
   "cell_type": "markdown",
   "metadata": {},
   "source": []
  },
  {
   "cell_type": "markdown",
   "metadata": {},
   "source": [
    "## Un ejemplo gráfico..."
   ]
  },
  {
   "cell_type": "code",
   "execution_count": null,
   "metadata": {},
   "outputs": [],
   "source": [
    "# En este apartado mostramos las gráficas de las diferentes funciones\n",
    "import matplotlib.pyplot as plt\n",
    "import numpy as np\n",
    "\n",
    "%matplotlib inline\n",
    "\n",
    "lin = np.linspace(0.1,10,100)\n",
    "plt.figure(figsize=(10,6))\n",
    "plt.title('Complejidades lineales y logaritmicas')\n",
    "plt.plot(np.log(lin),label='O(log(n))')\n",
    "plt.plot(lin*np.log(lin),label='O(n*log(n))')\n",
    "plt.plot(lin, linewidth=2, label='O(n)')\n",
    "plt.legend()\n",
    "plt.plot()\n",
    "plt.ylim(-1,10)\n",
    "plt.xticks([])\n",
    "plt.draw()"
   ]
  },
  {
   "cell_type": "code",
   "execution_count": null,
   "metadata": {},
   "outputs": [],
   "source": [
    "import matplotlib.pyplot as plt\n",
    "import numpy as np\n",
    "\n",
    "%matplotlib inline\n",
    "\n",
    "lin = np.linspace(0.1,20,500)\n",
    "plt.figure(figsize=(10,6))\n",
    "plt.title('Complejidades potenciales y exponenciales')\n",
    "plt.plot(lin**3,label='O(n^3)')\n",
    "plt.plot(lin**2,label='O(n^2)')\n",
    "plt.plot(2**lin, label='O(2^n)')\n",
    "plt.legend()\n",
    "plt.plot()\n",
    "plt.ylim(-1,5000)\n",
    "plt.xticks([])\n",
    "plt.draw()"
   ]
  },
  {
   "cell_type": "markdown",
   "metadata": {},
   "source": [
    "<div class=\"alert alert-danger\">\n",
    "<h1>Problema 2</h1>\n",
    "<p><strong>\n",
    "Implementa un algoritmo de ordenación que tenga complejidad $O(n^2)$\n",
    "</strong></p>\n",
    "</div>"
   ]
  },
  {
   "cell_type": "code",
   "execution_count": 1,
   "metadata": {},
   "outputs": [
    {
     "data": {
      "text/plain": [
       "[1, 2, 3, 123]"
      ]
     },
     "execution_count": 1,
     "metadata": {},
     "output_type": "execute_result"
    }
   ],
   "source": [
    "def ordenacion1(lista):\n",
    "    n = len(lista)\n",
    "    #Bubble sort, complejidad n^2\n",
    "    for i in range(n):\n",
    "        for j in range(0, n-i-1):\n",
    "            if lista[j] > lista[j+1]:\n",
    "                lista[j], lista[j+1] = lista[j+1], lista[j]\n",
    "                \n",
    "    return lista\n",
    "ordenacion1([1,123,3,2])"
   ]
  },
  {
   "cell_type": "markdown",
   "metadata": {},
   "source": [
    "<div class=\"alert alert-danger\">\n",
    "<h1>Problema 3</h1>\n",
    "<p><strong>\n",
    "    Implementa un algoritmo de ordenación que tenga complejidad $O(n\\log(n))$\n",
    "</strong></p>\n",
    "</div>"
   ]
  },
  {
   "cell_type": "code",
   "execution_count": 10,
   "metadata": {},
   "outputs": [
    {
     "data": {
      "text/plain": [
       "[2, 4, 6, 7, 8]"
      ]
     },
     "execution_count": 10,
     "metadata": {},
     "output_type": "execute_result"
    }
   ],
   "source": [
    "def ordenacion2(list):\n",
    "    #MergeSort\n",
    "    if len(list) < 2:\n",
    "        return list\n",
    "    else:\n",
    "        middle = len(list) // 2\n",
    "        left = ordenacion2(list[:middle])\n",
    "        right = ordenacion2(list[middle:])\n",
    "    return merge(left, right)\n",
    "\n",
    "def merge(left, right):\n",
    "    result = [ ]\n",
    "    i ,j = 0, 0\n",
    "    while(i < len(left) and j < len(right)):\n",
    "        if (left[i] <= right[j]):\n",
    "            result.append(left[i])\n",
    "            i = i + 1\n",
    "        else:\n",
    "            result.append(right[j])\n",
    "            j = j + 1\n",
    "    result += left[i:]\n",
    "    result += right[j:]\n",
    "    return result\n",
    "\n",
    "ordenacion2([2,8,7,6,4])"
   ]
  },
  {
   "cell_type": "markdown",
   "metadata": {},
   "source": [
    "<h3>Pon a prueba tus algoritmos</h3>\n",
    "<p>\n",
    "    El siguiente bloque de código ejecutará y medirá el coste de los dos algoritmos de ordenación que acabas de implementar. Las pruebas se harán para listas de tamaño creciente de longitud de 1 a #num_tests (por defecto 1000). Puede tardar un poco, si no termina puedes bajar la cantidad de tests. Si está todo bien deberías poder observar un coste creciente cuadrático en el caso $O(n^2)$ y un crecimiento logarítmico escaso en el caso de $O(n\\log(n))$.\n",
    "</p>"
   ]
  },
  {
   "cell_type": "code",
   "execution_count": null,
   "metadata": {},
   "outputs": [],
   "source": [
    "from utils import generate_corpus\n",
    "import time\n",
    "import matplotlib.pyplot as plt\n",
    "import numpy as np\n",
    "\n",
    "%matplotlib inline\n",
    "\n",
    "num_tests = 1000\n",
    "\n",
    "all_lists = generate_corpus(num_tests)\n",
    "time_costs_ordenacion1 = [0]*num_tests\n",
    "time_costs_ordenacion2 = [0]*num_tests\n",
    "\n",
    "for test in range(num_tests):\n",
    "    # Test ordenacion1\n",
    "    start_time = time.time()\n",
    "    ordenacion1(all_lists[test])\n",
    "    time_costs_ordenacion1[test] = (time.time() - start_time)\n",
    "    \n",
    "    # Test ordenacion2\n",
    "    start_time = time.time()\n",
    "    ordenacion2(all_lists[test])\n",
    "    time_costs_ordenacion2[test] = (time.time() - start_time) \n",
    "\n",
    "plt.figure(figsize=(10,6))\n",
    "plt.title('Comparativa costes ordenacion')\n",
    "plt.plot(time_costs_ordenacion1,label='O(n^2)')\n",
    "plt.plot(time_costs_ordenacion2,label='O(nlog(n))')\n",
    "plt.legend()\n",
    "plt.plot()\n",
    "plt.draw()"
   ]
  },
  {
   "cell_type": "markdown",
   "metadata": {},
   "source": [
    "## Algoritmos recursivos: Master Theorem\n",
    "\n",
    "El teorema master ayuda a definir las complejidades de los algoritmos que utilizan estratégias Divide and Conquer. Dicho de otra forma, nos ayuda a analizar la complejidad para los algoritmos recursivos.\n",
    "\n",
    "Siendo $T(n)$ la complejidad del algoritmo, $f(n)$ la complejidad del caso base, $a$ el número de subproblemas a cada nivel de recursión y $b$ el factor por el que dividimos la entrada, denotamos la complejidad de un algoritmo recursivo como:\n",
    "\n",
    "$$\n",
    "T(n) = aT\\big(\\frac{n}{b}\\big)+f(n)\n",
    "$$\n",
    "\n",
    "Si notamos la función $f(x)$ en base a su complejidad de la forma $O(n^d)$ obtenemos:\n",
    "\n",
    "$$\n",
    "T(n) = aT\\big(\\frac{n}{b}\\big)+O(n)\n",
    "$$\n",
    "\n",
    "Y según el teorema masters podemos afirmar que:\n",
    "\n",
    "\\begin{equation*}\n",
    "T(n)=O(n^d) \\quad \\textrm{if}\\: d>log_b a\\\\\n",
    "T(n)=O(n^d\\log n) \\quad \\textrm{if}\\: d=log_b a\\\\\n",
    "T(n)=O(n^{\\log_b{a}}) \\quad \\textrm{if}\\: d<log_b a\n",
    "\\end{equation*}"
   ]
  },
  {
   "cell_type": "markdown",
   "metadata": {},
   "source": [
    "<div class=\"alert alert-warning\">\n",
    "<h1>Pregunta 4</h1>\n",
    "<p><strong>\n",
    "Analiza la complejidad en la siguiente función:\n",
    "</strong></p>\n",
    "</div>"
   ]
  },
  {
   "cell_type": "code",
   "execution_count": null,
   "metadata": {},
   "outputs": [],
   "source": [
    "def reverse2n(lista):\n",
    "    if len(lista) == 2:\n",
    "        return [lista[1], lista[0]]\n",
    "    else:\n",
    "        p = int(len(lista)/2)\n",
    "        return reverse2n(lista[p:]) + reverse2n(lista[:p])\n",
    "\n",
    "reverse2n([1,2,3,5,8,10,4,6])    \n",
    "\n",
    "#a = 2, b = 2, d = 0\n",
    "#O(n)"
   ]
  },
  {
   "cell_type": "markdown",
   "metadata": {
    "collapsed": true
   },
   "source": [
    "<div class=\"alert alert-success\">\n",
    "<h1>Extra 1</h1>\n",
    "<p><strong>\n",
    "Implementa dos algoritmos que busquen un nombre concreto en un listín telefónico y devuelvan su número. Uno con coste $O(n)$ y otro con $O(\\log n)$. En caso de no encontrar el nombre, devolver -1.\n",
    "</strong></p>\n",
    "</div>"
   ]
  },
  {
   "cell_type": "code",
   "execution_count": 36,
   "metadata": {},
   "outputs": [],
   "source": [
    "def search(listin,name):\n",
    "    for i in range (len(listin)):\n",
    "        if(name == listin[i][0]):\n",
    "            return listin[i][1]\n",
    "    return False\n",
    "\n",
    "def search_log(lista,num):\n",
    "    return seahelp(lista,0,num)\n",
    "    \n",
    "def seahelp(lista,i,num):\n",
    "    q = len(lista)//2\n",
    "    car =ord(num[i])#i nos indicara la posicion del caracter en caso de que vayan coincidiendo\n",
    "    nombre = ord(lista[q][0][i])\n",
    "    if(len(lista)==1 and lista[0][0]!=num):\n",
    "        return False\n",
    "    if(lista[q][0]==num):\n",
    "        return lista[q][1]\n",
    "    if(car<nombre):\n",
    "        return seahelp(lista[0:q],0,num)\n",
    "    if(car>nombre):\n",
    "        return seahelp(lista[q:],0,num)\n",
    "    if(car==nombre):\n",
    "        return seahelp(lista,i+1,num)"
   ]
  },
  {
   "cell_type": "code",
   "execution_count": 37,
   "metadata": {},
   "outputs": [
    {
     "name": "stdout",
     "output_type": "stream",
     "text": [
      "True\n",
      "True\n"
     ]
    }
   ],
   "source": [
    "listin = [('Abdon', 938906293), ('Alejo', 935198770), ('Anna', 931621906), ('Arturo', 938806195), ('Baldomero', 930964092), ('Benjamin', 934354128), ('Cayetano', 931005100), ('Clotilde', 932242962), ('Eduardo', 934005954), ('Eugenio', 931748905), ('Fabian', 938021389), ('Fermin', 939101910), ('Fernando', 940649340), ('Guillermo', 934387595), ('Jacobo', 934210458), ('Josep', 940820109), ('Leonor', 930434129), ('Lucrecia', 934411771), ('Manuel', 933697107), ('Marcelino', 936305412), ('Mohamed', 930600723), ('Nicolas', 936020020), ('Oscar', 940094360), ('Petronila', 936016855), ('Reinaldo', 939455199), ('Rodrigo', 937957205), ('Ruben', 938853772), ('Simeon', 938687016), ('Simeon', 931726372), ('Tarsicio', 934346208), ('Victorino', 939555230)]\n",
    "print(search(listin,'Petronila')==936016855)\n",
    "print(search_log(listin,'Jacobo')==934210458)"
   ]
  },
  {
   "cell_type": "markdown",
   "metadata": {},
   "source": [
    "<div class=\"alert alert-success\">\n",
    "<h1>Extra 2</h1>\n",
    "<p><strong>\n",
    "Implementa el calculo de la serie de fibonacci para un número en concreto de forma recursiva y analiza su complejidad.\n",
    "</strong></p>\n",
    "</div>"
   ]
  },
  {
   "cell_type": "code",
   "execution_count": 34,
   "metadata": {},
   "outputs": [
    {
     "name": "stdout",
     "output_type": "stream",
     "text": [
      "1\n",
      "1\n",
      "2\n",
      "3\n",
      "5\n",
      "8\n",
      "13\n",
      "21\n",
      "34\n",
      "55\n"
     ]
    }
   ],
   "source": [
    "def fiborec(n):\n",
    "    return fibo(1,1,n,0)\n",
    "def fibo(a,b,n,c):\n",
    "    if(n==1):\n",
    "        return 1\n",
    "    if(n==c):\n",
    "        return a+b\n",
    "    if(c==0 or c==1):\n",
    "        print(1)\n",
    "        fibo(a,b,n,c+1)\n",
    "    else:\n",
    "        print(a+b)\n",
    "        fibo(b,a+b,n,c+1)\n",
    "\n",
    "fiborec(10)"
   ]
  },
  {
   "cell_type": "code",
   "execution_count": null,
   "metadata": {},
   "outputs": [],
   "source": []
  }
 ],
 "metadata": {
  "kernelspec": {
   "display_name": "Python 3",
   "language": "python",
   "name": "python3"
  },
  "language_info": {
   "codemirror_mode": {
    "name": "ipython",
    "version": 3
   },
   "file_extension": ".py",
   "mimetype": "text/x-python",
   "name": "python",
   "nbconvert_exporter": "python",
   "pygments_lexer": "ipython3",
   "version": "3.7.3"
  }
 },
 "nbformat": 4,
 "nbformat_minor": 1
}
