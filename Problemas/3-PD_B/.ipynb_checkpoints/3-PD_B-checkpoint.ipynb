{
 "cells": [
  {
   "cell_type": "markdown",
   "metadata": {},
   "source": [
    "<div style=\"padding:30px; color: white; background-color: #0071CD\">\n",
    "<center>\n",
    "<img src=\"img/logoub.jpeg\">\n",
    "<center>\n",
    "<p>\n",
    "<h1>Algorítmica Avanzada</h1>\n",
    "<h2>Problemas 3.B - Programación Dinámica </h2>\n",
    "</center>\n",
    "</p>\n",
    "</div>"
   ]
  },
  {
   "cell_type": "markdown",
   "metadata": {},
   "source": [
    "<div class=\"alert alert-danger\" style=\"width:95%; margin:0 auto; padding\">\n",
    "A la hora de crear las matrices de programación dinámica podéis emplear diversas estructuras de datos. La lista de listas puede ser una buena opción, pero existen librerías como NumPy que hacen una mejor gestión de las matrices.\n",
    "\n",
    "Podéis consultar aquí la documentación: https://docs.scipy.org/doc/numpy/reference/"
   ]
  },
  {
   "cell_type": "markdown",
   "metadata": {},
   "source": [
    "<div class=\"alert alert-success\" style=\"width:90%; margin:0 auto;\">\n",
    "\n",
    "  <h2><p>3 - Distancia de edición</p></h2>\n",
    "  \n",
    "  <p> Dadas dos cadenas S1 y S2, este algoritmo trata de encontrar la \"distancia\" entre ellas. Basamos la distancia en el número de transformaciones necesarias para convertir la cadena S1 en la cadena S2 (o viceversa). Se consideran tres transformaciones distintas: inserción, eliminación y sustitución. Los costes de cada operación serán parámetros de la función.</p>\n",
    "  \n",
    "  <img src='img/min_Edit_Distance_DP_Table.png' width=\"50%\">\n",
    "  \n",
    "Además, se os pide que reconstruyáis el conjunto de operaciones que realizar sobre la primera palabra (<i>relevant</i>) para convertirla en la segunda (<i>elephant</i>). En el ejemplo de la imagen (donde los costes de las operaciones es 1 para todas):\n",
    "<ul>\n",
    "    <li> Eliminar 'R' en la posición 0.           $('D','R',0)$</li>\n",
    "    <li> Insertar 'P' en la posición 4.           $('I','P',4)$</li>\n",
    "    <li> Substituir 'V' por 'H' en la posición 5.            $('R',('V', 'H'),4)$ </li>\n",
    "    <li> ........ El coste total de edición es: 3 </li>\n",
    "</ul>\n",
    "\n",
    "** Nota: Vuestro algoritmo podría encontrar otro conjunto de operaciones distinto a este pero con el mismo coste de edición."
   ]
  },
  {
   "cell_type": "code",
   "execution_count": null,
   "metadata": {},
   "outputs": [],
   "source": [
    "'''\n",
    "Implementa aquí el algoritmo de distancia de edición\n",
    "'''\n",
    "def distancia_edicion(s1,s2,ci=2,cd=2,cr=1):\n",
    "    pass"
   ]
  },
  {
   "cell_type": "code",
   "execution_count": null,
   "metadata": {},
   "outputs": [],
   "source": [
    "print(distancia_edicion('relevant','elephant'))\n",
    "print(distancia_edicion('surgery', 'survey'))\n",
    "print(distancia_edicion('abcde', 'vwxyz'))"
   ]
  },
  {
   "cell_type": "markdown",
   "metadata": {},
   "source": [
    "<div class=\"alert alert-warning\" style=\"width:80%; margin:0 auto; padding\">\n",
    "<center><p><h3> Cuestiones</h3></p> </center> </div>"
   ]
  },
  {
   "cell_type": "markdown",
   "metadata": {},
   "source": [
    "<ul>\n",
    "    <li>Analiza la complejidad del algoritmo.</li>\n",
    "</ul>"
   ]
  },
  {
   "cell_type": "markdown",
   "metadata": {},
   "source": [
    "<div class=\"alert alert-success\" style=\"width:90%; margin:0 auto;\">\n",
    "\n",
    "  <h2><p>4 - Torres de Hanoi</p></h2>\n",
    "  \n",
    "  <p>Se plantea un escenario con 3 torres y una serie de discos de diferentes tamaños. Buscamos mover todos los discos de una torre origen a otra destino empleando la torre intermedia como soporte. Siempre deberán cumplirse las siguientes condiciones:\n",
    "<ul>\n",
    "    <li> Solo podemos mover un disco a cada vez. </li>\n",
    "    <li> Un movimiento de disco consiste en coger el disco superior de una de las torres y colocarlo en la cima de otra de las torres. </li>\n",
    "    <li> Un disco nunca podrá estar sobre otro disco de menor tamaño. </li>\n",
    "</ul>\n",
    "\n",
    "Podéis ver aquí un ejemplo animado de Hanoi con 4 discos en la que queremos mover todos los discos desde la torre izquierda a la derecha.\n",
    "<center><img src=\"img/hanoi.gif\"></center>\n",
    "\n",
    "Para más ejemplos y experimentación, tenéis disponible el juego online: https://www.mathsisfun.com/games/towerofhanoi.html\n",
    "    \n",
    "Se os pide que implementéis la solución de Programación Dinámica al problema de las torres de Hanoi para calcular el número mínimo de movimientos necesarios para mover $D$ discos de la torre $t_o$ a la torre $t_d$.\n",
    "\n",
    "Además, se os pide que devolváis una lista de tuplas con la forma $(t_i,t_j)$ que simboliza mover el disco que se encuentra más arriba de la torre $i$ a la cima de la torre $j$.\n",
    "Por ejemplo, para 3 discos, los movimientos serían:\n",
    "[(0, 2), (0, 1), (2, 1), (0, 2), (1, 0), (1, 2), (0, 2)]\n",
    "</p>\n",
    "  "
   ]
  },
  {
   "cell_type": "code",
   "execution_count": null,
   "metadata": {},
   "outputs": [],
   "source": [
    "def dynamic_hanoi(D,t0=0,t1=2):\n",
    "    pass"
   ]
  },
  {
   "cell_type": "code",
   "execution_count": null,
   "metadata": {},
   "outputs": [],
   "source": [
    "# Prueba tu algoritmo\n",
    "# Mover n discos debería resultar en (2^n -1) movimientos\n",
    "\n",
    "print(dynamic_hanoi(3))\n",
    "print(dynamic_hanoi(4))\n",
    "print(dynamic_hanoi(5))\n",
    "print(dynamic_hanoi(6))\n",
    "print(dynamic_hanoi(7))"
   ]
  },
  {
   "cell_type": "markdown",
   "metadata": {},
   "source": [
    "<div class=\"alert alert-warning\" style=\"width:80%; margin:0 auto; padding\">\n",
    "<center><p><h3> Cuestiones</h3></p> </center> </div>"
   ]
  },
  {
   "cell_type": "markdown",
   "metadata": {},
   "source": [
    "<ul>\n",
    "    <li>Analiza la complejidad del algoritmo.</li>\n",
    "</ul>"
   ]
  }
 ],
 "metadata": {
  "kernelspec": {
   "display_name": "Python 3",
   "language": "python",
   "name": "python3"
  },
  "language_info": {
   "codemirror_mode": {
    "name": "ipython",
    "version": 3
   },
   "file_extension": ".py",
   "mimetype": "text/x-python",
   "name": "python",
   "nbconvert_exporter": "python",
   "pygments_lexer": "ipython3",
   "version": "3.7.3"
  }
 },
 "nbformat": 4,
 "nbformat_minor": 2
}
