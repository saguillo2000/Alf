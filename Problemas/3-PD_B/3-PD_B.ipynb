{
 "cells": [
  {
   "cell_type": "markdown",
   "metadata": {},
   "source": [
    "<div style=\"padding:30px; color: white; background-color: #0071CD\">\n",
    "<center>\n",
    "<img src=\"img/logoub.jpeg\">\n",
    "<center>\n",
    "<p>\n",
    "<h1>Algorítmica Avanzada</h1>\n",
    "<h2>Problemas 3.B - Programación Dinámica </h2>\n",
    "</center>\n",
    "</p>\n",
    "</div>"
   ]
  },
  {
   "cell_type": "markdown",
   "metadata": {},
   "source": [
    "<div class=\"alert alert-danger\" style=\"width:95%; margin:0 auto; padding\">\n",
    "A la hora de crear las matrices de programación dinámica podéis emplear diversas estructuras de datos. La lista de listas puede ser una buena opción, pero existen librerías como NumPy que hacen una mejor gestión de las matrices.\n",
    "\n",
    "Podéis consultar aquí la documentación: https://docs.scipy.org/doc/numpy/reference/"
   ]
  },
  {
   "cell_type": "markdown",
   "metadata": {},
   "source": [
    "<div class=\"alert alert-success\" style=\"width:90%; margin:0 auto;\">\n",
    "\n",
    "  <h2><p>3 - Distancia de edición</p></h2>\n",
    "  \n",
    "  <p> Dadas dos cadenas S1 y S2, este algoritmo trata de encontrar la \"distancia\" entre ellas. Basamos la distancia en el número de transformaciones necesarias para convertir la cadena S1 en la cadena S2 (o viceversa). Se consideran tres transformaciones distintas: inserción, eliminación y sustitución. Los costes de cada operación serán parámetros de la función.</p>\n",
    "  \n",
    "  <img src='img/min_Edit_Distance_DP_Table.png' width=\"50%\">\n",
    "  \n",
    "Además, se os pide que reconstruyáis el conjunto de operaciones que realizar sobre la primera palabra (<i>relevant</i>) para convertirla en la segunda (<i>elephant</i>). En el ejemplo de la imagen (donde los costes de las operaciones es 1 para todas):\n",
    "<ul>\n",
    "    <li> Eliminar 'R' en la posición 0.           $('D','R',0)$</li>\n",
    "    <li> Insertar 'P' en la posición 4.           $('I','P',4)$</li>\n",
    "    <li> Substituir 'V' por 'H' en la posición 5.            $('R',('V', 'H'),4)$ </li>\n",
    "    <li> ........ El coste total de edición es: 3 </li>\n",
    "</ul>\n",
    "\n",
    "** Nota: Vuestro algoritmo podría encontrar otro conjunto de operaciones distinto a este pero con el mismo coste de edición."
   ]
  },
  {
   "cell_type": "code",
   "execution_count": 1,
   "metadata": {},
   "outputs": [],
   "source": [
    "import numpy as np\n",
    "'''\n",
    "Implementa aquí el algoritmo de distancia de edición\n",
    "'''\n",
    "def distancia_edicion(s1,s2,ci=2,cd=2,cr=1):# ci = insretion cost, cd = delete cost, cr = replacement cost\n",
    "    \n",
    "    m = np.zeros((len(s1)+1,len(s2)+1))\n",
    "    \n",
    "    for i in range(0,len(s1)+1):\n",
    "        m[i][0] = i*ci\n",
    "    for j in range(0,len(s2)+1):\n",
    "        m[0][j] = j*ci\n",
    "        \n",
    "    for i in range(1,len(s1)+1):\n",
    "        for j in range(1,len(s2)+1):\n",
    "            if(s1[i-1] == s2[j-1]):\n",
    "                m[i][j] = m[i-1][j-1] #No habra edicion, misma letra\n",
    "            else:\n",
    "                m[i][j] = min(m[i-1,j]+cd,m[i,j-1]+ci,m[i-1,j-1]+cr) #3 posiciones adyacentes\n",
    "    \n",
    "    return m"
   ]
  },
  {
   "cell_type": "code",
   "execution_count": 9,
   "metadata": {},
   "outputs": [
    {
     "name": "stdout",
     "output_type": "stream",
     "text": [
      "[[ 0.  2.  4.  6.  8. 10. 12. 14. 16.]\n",
      " [ 2.  1.  3.  5.  7.  9. 11. 13. 15.]\n",
      " [ 4.  2.  2.  3.  5.  7.  9. 11. 13.]\n",
      " [ 6.  4.  2.  3.  4.  6.  8. 10. 12.]\n",
      " [ 8.  6.  4.  2.  4.  5.  7.  9. 11.]\n",
      " [10.  8.  6.  4.  3.  5.  6.  8. 10.]\n",
      " [12. 10.  8.  6.  5.  4.  5.  7.  9.]\n",
      " [14. 12. 10.  8.  7.  6.  5.  5.  7.]\n",
      " [16. 14. 12. 10.  9.  8.  7.  6.  5.]]\n",
      "[[ 0.  2.  4.  6.  8. 10. 12.]\n",
      " [ 2.  0.  2.  4.  6.  8. 10.]\n",
      " [ 4.  2.  0.  2.  4.  6.  8.]\n",
      " [ 6.  4.  2.  0.  2.  4.  6.]\n",
      " [ 8.  6.  4.  2.  1.  3.  5.]\n",
      " [10.  8.  6.  4.  3.  1.  3.]\n",
      " [12. 10.  8.  6.  5.  3.  2.]\n",
      " [14. 12. 10.  8.  7.  5.  3.]]\n",
      "[[ 0.  2.  4.  6.  8. 10.]\n",
      " [ 2.  1.  3.  5.  7.  9.]\n",
      " [ 4.  3.  2.  4.  6.  8.]\n",
      " [ 6.  5.  4.  3.  5.  7.]\n",
      " [ 8.  7.  6.  5.  4.  6.]\n",
      " [10.  9.  8.  7.  6.  5.]]\n",
      "[[ 0.  2.  4.  6.  8. 10.]\n",
      " [ 2.  1.  3.  5.  7.  9.]\n",
      " [ 4.  3.  2.  3.  5.  7.]\n",
      " [ 6.  5.  4.  3.  4.  6.]\n",
      " [ 8.  7.  6.  5.  4.  5.]\n",
      " [10.  9.  8.  7.  5.  5.]\n",
      " [12. 11. 10.  9.  7.  6.]\n",
      " [14. 13. 12. 11.  9.  8.]\n",
      " [16. 15. 13. 13. 11.  9.]]\n"
     ]
    }
   ],
   "source": [
    "print(distancia_edicion('relevant','elephant'))\n",
    "print(distancia_edicion('surgery', 'survey'))\n",
    "print(distancia_edicion('abcde', 'vwxyz'))\n",
    "print(distancia_edicion('cristina', 'marta'))"
   ]
  },
  {
   "cell_type": "markdown",
   "metadata": {},
   "source": [
    "<div class=\"alert alert-warning\" style=\"width:80%; margin:0 auto; padding\">\n",
    "<center><p><h3> Cuestiones</h3></p> </center> </div>"
   ]
  },
  {
   "cell_type": "markdown",
   "metadata": {},
   "source": [
    "<ul>\n",
    "    <li>Analiza la complejidad del algoritmo.</li>\n",
    "</ul>"
   ]
  },
  {
   "cell_type": "markdown",
   "metadata": {},
   "source": [
    "<div class=\"alert alert-success\" style=\"width:90%; margin:0 auto;\">\n",
    "\n",
    "  <h2><p>4 - Torres de Hanoi</p></h2>\n",
    "  \n",
    "  <p>Se plantea un escenario con 3 torres y una serie de discos de diferentes tamaños. Buscamos mover todos los discos de una torre origen a otra destino empleando la torre intermedia como soporte. Siempre deberán cumplirse las siguientes condiciones:\n",
    "<ul>\n",
    "    <li> Solo podemos mover un disco a cada vez. </li>\n",
    "    <li> Un movimiento de disco consiste en coger el disco superior de una de las torres y colocarlo en la cima de otra de las torres. </li>\n",
    "    <li> Un disco nunca podrá estar sobre otro disco de menor tamaño. </li>\n",
    "</ul>\n",
    "\n",
    "Podéis ver aquí un ejemplo animado de Hanoi con 4 discos en la que queremos mover todos los discos desde la torre izquierda a la derecha.\n",
    "<center><img src=\"img/hanoi.gif\"></center>\n",
    "\n",
    "Para más ejemplos y experimentación, tenéis disponible el juego online: https://www.mathsisfun.com/games/towerofhanoi.html\n",
    "    \n",
    "Se os pide que implementéis la solución de Programación Dinámica al problema de las torres de Hanoi para calcular el número mínimo de movimientos necesarios para mover $D$ discos de la torre $t_o$ a la torre $t_d$.\n",
    "\n",
    "Además, se os pide que devolváis una lista de tuplas con la forma $(t_i,t_j)$ que simboliza mover el disco que se encuentra más arriba de la torre $i$ a la cima de la torre $j$.\n",
    "Por ejemplo, para 3 discos, los movimientos serían:\n",
    "[(0, 2), (0, 1), (2, 1), (0, 2), (1, 0), (1, 2), (0, 2)]\n",
    "</p>\n",
    "  "
   ]
  },
  {
   "cell_type": "code",
   "execution_count": 1,
   "metadata": {},
   "outputs": [],
   "source": [
    "import numpy as np\n",
    "def exclude(a,b):\n",
    "    return 3-(a+b)\n",
    "\n",
    "def dynamic_hanoi(D,t0=0,t1=2):\n",
    "    #Create matrix\n",
    "    num_moves= np.zeros((D,3,3),dtype=np.integer)\n",
    "    movements= dict()\n",
    "    \n",
    "    for i in range(3):\n",
    "        for j in range(3):\n",
    "            num_moves[0,i,j] = 1 if i!=j else 0\n",
    "            \n",
    "    for d in range(1,D):\n",
    "        for i in range(3):\n",
    "            for j in range(3):\n",
    "                if i!=j:\n",
    "                    eTower = exclude(i,j)\n",
    "                    num_moves[d,i,j] = num_moves[d-1,i,eTower]+num_moves[0,i,j] + num_moves[d-1,eTower,j]\n",
    "                    movements[(d,i,j)] = [(d-1,i,eTower),(0,i,j),(d-1,eTower,j)]\n",
    "        \n",
    "    def get_move_ordering(move):\n",
    "        moves =[]\n",
    "        if move[0] == 1:\n",
    "            return [(m[1],m[2]) for m in movements[move]]\n",
    "        else:\n",
    "            for i in range(3):\n",
    "                next_move= movements[move][i]\n",
    "                if next_move[0] == 0:\n",
    "                    moves.append((next_move[-2],next_move[-1]))\n",
    "                else:\n",
    "                    for n in get_move_ordering(next_move):\n",
    "                        moves.append(n)\n",
    "            return moves\n",
    "\n",
    "    current_move = (D-1,t0,t1)\n",
    "    num_moves= num_moves[current_move]\n",
    "    moves = get_move_ordering(current_move)\n",
    "    \n",
    "    return num_moves ,moves"
   ]
  },
  {
   "cell_type": "code",
   "execution_count": 2,
   "metadata": {},
   "outputs": [
    {
     "name": "stdout",
     "output_type": "stream",
     "text": [
      "(7, [(0, 2), (0, 1), (2, 1), (0, 2), (1, 0), (1, 2), (0, 2)])\n",
      "(15, [(0, 1), (0, 2), (1, 2), (0, 1), (2, 0), (2, 1), (0, 1), (0, 2), (1, 2), (1, 0), (2, 0), (1, 2), (0, 1), (0, 2), (1, 2)])\n",
      "(31, [(0, 2), (0, 1), (2, 1), (0, 2), (1, 0), (1, 2), (0, 2), (0, 1), (2, 1), (2, 0), (1, 0), (2, 1), (0, 2), (0, 1), (2, 1), (0, 2), (1, 0), (1, 2), (0, 2), (1, 0), (2, 1), (2, 0), (1, 0), (1, 2), (0, 2), (0, 1), (2, 1), (0, 2), (1, 0), (1, 2), (0, 2)])\n",
      "(63, [(0, 1), (0, 2), (1, 2), (0, 1), (2, 0), (2, 1), (0, 1), (0, 2), (1, 2), (1, 0), (2, 0), (1, 2), (0, 1), (0, 2), (1, 2), (0, 1), (2, 0), (2, 1), (0, 1), (2, 0), (1, 2), (1, 0), (2, 0), (2, 1), (0, 1), (0, 2), (1, 2), (0, 1), (2, 0), (2, 1), (0, 1), (0, 2), (1, 2), (1, 0), (2, 0), (1, 2), (0, 1), (0, 2), (1, 2), (1, 0), (2, 0), (2, 1), (0, 1), (2, 0), (1, 2), (1, 0), (2, 0), (1, 2), (0, 1), (0, 2), (1, 2), (0, 1), (2, 0), (2, 1), (0, 1), (0, 2), (1, 2), (1, 0), (2, 0), (1, 2), (0, 1), (0, 2), (1, 2)])\n",
      "(127, [(0, 2), (0, 1), (2, 1), (0, 2), (1, 0), (1, 2), (0, 2), (0, 1), (2, 1), (2, 0), (1, 0), (2, 1), (0, 2), (0, 1), (2, 1), (0, 2), (1, 0), (1, 2), (0, 2), (1, 0), (2, 1), (2, 0), (1, 0), (1, 2), (0, 2), (0, 1), (2, 1), (0, 2), (1, 0), (1, 2), (0, 2), (0, 1), (2, 1), (2, 0), (1, 0), (2, 1), (0, 2), (0, 1), (2, 1), (2, 0), (1, 0), (1, 2), (0, 2), (1, 0), (2, 1), (2, 0), (1, 0), (2, 1), (0, 2), (0, 1), (2, 1), (0, 2), (1, 0), (1, 2), (0, 2), (0, 1), (2, 1), (2, 0), (1, 0), (2, 1), (0, 2), (0, 1), (2, 1), (0, 2), (1, 0), (1, 2), (0, 2), (1, 0), (2, 1), (2, 0), (1, 0), (1, 2), (0, 2), (0, 1), (2, 1), (0, 2), (1, 0), (1, 2), (0, 2), (1, 0), (2, 1), (2, 0), (1, 0), (2, 1), (0, 2), (0, 1), (2, 1), (2, 0), (1, 0), (1, 2), (0, 2), (1, 0), (2, 1), (2, 0), (1, 0), (1, 2), (0, 2), (0, 1), (2, 1), (0, 2), (1, 0), (1, 2), (0, 2), (0, 1), (2, 1), (2, 0), (1, 0), (2, 1), (0, 2), (0, 1), (2, 1), (0, 2), (1, 0), (1, 2), (0, 2), (1, 0), (2, 1), (2, 0), (1, 0), (1, 2), (0, 2), (0, 1), (2, 1), (0, 2), (1, 0), (1, 2), (0, 2)])\n"
     ]
    }
   ],
   "source": [
    "# Prueba tu algoritmo\n",
    "# Mover n discos debería resultar en (2^n -1) movimientos\n",
    "\n",
    "print(dynamic_hanoi(3))\n",
    "print(dynamic_hanoi(4))\n",
    "print(dynamic_hanoi(5))\n",
    "print(dynamic_hanoi(6))\n",
    "print(dynamic_hanoi(7))"
   ]
  },
  {
   "cell_type": "markdown",
   "metadata": {},
   "source": [
    "<div class=\"alert alert-warning\" style=\"width:80%; margin:0 auto; padding\">\n",
    "<center><p><h3> Cuestiones</h3></p> </center> </div>"
   ]
  },
  {
   "cell_type": "markdown",
   "metadata": {},
   "source": [
    "<ul>\n",
    "    <li>Analiza la complejidad del algoritmo.</li>\n",
    "</ul>"
   ]
  }
 ],
 "metadata": {
  "kernelspec": {
   "display_name": "Python 3",
   "language": "python",
   "name": "python3"
  },
  "language_info": {
   "codemirror_mode": {
    "name": "ipython",
    "version": 3
   },
   "file_extension": ".py",
   "mimetype": "text/x-python",
   "name": "python",
   "nbconvert_exporter": "python",
   "pygments_lexer": "ipython3",
   "version": "3.7.3"
  }
 },
 "nbformat": 4,
 "nbformat_minor": 2
}
