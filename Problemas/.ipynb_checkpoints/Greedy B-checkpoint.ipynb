{
 "cells": [
  {
   "cell_type": "markdown",
   "metadata": {},
   "source": [
    "<div style=\"padding:30px; color: white; background-color: #0071CD\">\n",
    "<center>\n",
    "<img src=\"img/logoub.jpeg\">\n",
    "<center>\n",
    "<p>\n",
    "<h1>Algorítmica Avanzada</h1>\n",
    "<h2>Problemas 2.B - Greedy </h2>\n",
    "</center>\n",
    "</p>\n",
    "</div>"
   ]
  },
  {
   "cell_type": "markdown",
   "metadata": {},
   "source": [
    "<div class=\"alert alert-success\" style=\"width:90%; margin:0 auto;\">\n",
    "  <h2><p>4 - El número más grande</p></h2>\n",
    "  \n",
    "  <p>\n",
    "  Dados dos números, $N$ y $S$, encuentra el número más grande posible de $N$ dígitos tal que la suma de dichos dígitos sea $S$.\n",
    "  </p>"
   ]
  },
  {
   "cell_type": "markdown",
   "metadata": {},
   "source": [
    "<div class=\"alert alert-danger\" style=\"width:80%; margin:0 auto; padding\">\n",
    "<center><p><h3> Código </h3></p> </center> \n",
    "\n",
    "<p>\n",
    "<h3>INPUT</h3>\n",
    "<ul>\n",
    "<li>__N__: Número de dígitos.</li>\n",
    "<li>__S__: Suma de los dígitos.</li>\n",
    "</ul>\n",
    "<br>\n",
    "<h3>OUTPUT</h3>\n",
    "<ul>\n",
    "<li>__T__: Número que cumple las condiciones requeridas.</li>\n",
    "<ul>\n",
    "\n",
    "</p>\n",
    "\n",
    "</div>"
   ]
  },
  {
   "cell_type": "code",
   "execution_count": 46,
   "metadata": {},
   "outputs": [],
   "source": [
    "def largest_number(N, S):\n",
    "    print(N)\n",
    "    print(S)\n",
    "    T = []\n",
    "    for i in range(N):   #Retocar con los modulos\n",
    "        if(S>9):\n",
    "            S -= 9\n",
    "            T.append(9)\n",
    "        elif(S>8):\n",
    "            S -= 8\n",
    "            T.append(8)\n",
    "        elif(S>7):\n",
    "            S -= 7\n",
    "            T.append(7)\n",
    "        elif(S>6):\n",
    "            S -= 6\n",
    "            T.append(6)\n",
    "        elif(S>5):\n",
    "            S -= 5\n",
    "            T.append(5)\n",
    "        elif(S>4):\n",
    "            S -= 4\n",
    "            T.append(4)\n",
    "        elif(S>3):\n",
    "            S -= 3\n",
    "            T.append(3)\n",
    "        elif(S>2):\n",
    "            S -= 2\n",
    "            T.append(2)\n",
    "        elif(S>1):\n",
    "            S -= 1\n",
    "            T.append(1)\n",
    "        else:\n",
    "            T.append(0)\n",
    "    total = 0\n",
    "    numeroT = \"\"\n",
    "    for i in T:\n",
    "        numeroT += str(i)\n",
    "        total+= i\n",
    "    print(total)\n",
    "    return int(numeroT)"
   ]
  },
  {
   "cell_type": "code",
   "execution_count": 47,
   "metadata": {},
   "outputs": [
    {
     "name": "stdout",
     "output_type": "stream",
     "text": [
      "15\n",
      "277\n",
      "135\n",
      "999999999999999\n"
     ]
    }
   ],
   "source": [
    "from random import randint\n",
    "\n",
    "n = randint(1, 50)\n",
    "s = randint(1, 500)\n",
    "\n",
    "print(largest_number(n, s))"
   ]
  },
  {
   "cell_type": "markdown",
   "metadata": {},
   "source": [
    "<div class=\"alert alert-success\" style=\"width:90%; margin:0 auto;\">\n",
    "  <h2><p>5 - Minimiza la suma del producto</p></h2>\n",
    "  \n",
    "  <p>\n",
    "  Dadas dos listas de números $A$ y $B$ del mismo tamaño $N$, minimiza $A[0]*B[0] + A[1]*B[1] + ... + A[N]*B[N]$ cambiando de orden los elementos de la listas.\n",
    "  </p>"
   ]
  },
  {
   "cell_type": "markdown",
   "metadata": {},
   "source": [
    "<div class=\"alert alert-danger\" style=\"width:80%; margin:0 auto; padding\">\n",
    "<center><p><h3> Código </h3></p> </center> \n",
    "\n",
    "<p>\n",
    "<h3>INPUT</h3>\n",
    "<ul>\n",
    "<li>__A__: Lista de números.</li>\n",
    "<li>__B__: Lista de números.</li>\n",
    "</ul>\n",
    "<br>\n",
    "<h3>OUTPUT</h3>\n",
    "<ul>\n",
    "<li>__S__: Suma de productos.</li>\n",
    "<ul>\n",
    "\n",
    "</p>\n",
    "\n",
    "</div>"
   ]
  },
  {
   "cell_type": "code",
   "execution_count": 48,
   "metadata": {},
   "outputs": [],
   "source": [
    "def minimize_sum_prod(A, B): #We are going to do the product with the minimun value of the list A and the maximun of the B \n",
    "    A.sort()\n",
    "    B.sort(reverse = True)\n",
    "    S = 0\n",
    "    for i in range (len(A)):\n",
    "        S += A[i]*B[i] \n",
    "    return S"
   ]
  },
  {
   "cell_type": "code",
   "execution_count": 49,
   "metadata": {},
   "outputs": [
    {
     "data": {
      "text/plain": [
       "77249"
      ]
     },
     "execution_count": 49,
     "metadata": {},
     "output_type": "execute_result"
    }
   ],
   "source": [
    "from random import randint\n",
    "\n",
    "N = 50\n",
    "A = [randint(1,100) for _ in range(N)]\n",
    "B = [randint(1,100) for _ in range(N)]\n",
    "minimize_sum_prod(A,B)"
   ]
  },
  {
   "cell_type": "markdown",
   "metadata": {},
   "source": [
    "  <div class=\"alert alert-success\" style=\"width:90%; margin:0 auto;\">\n",
    "\n",
    "  <h2><p>6- El problema de la mochila</p></h2>\n",
    "  \n",
    "  <center><img src=\"img/knapsack.png\" width=30%></center>\n",
    "  \n",
    "  <p>\n",
    "    Nos encontramos en una habitación en la que hay $N$ objetos, cada cual con un peso $w_1, w_2, w_3 ... w_N$ y un valor $v_1, v_2, v_3 ... v_N$. Disponemos de una mochila que puede soportar una carga máxima de $W$.\n",
    "    Se os pide que implementéis un algoritmo greedy Greedy para conseguir llenar la mochila maximizando el valor total de la misma. Es decir queremos encontrar la combinación de objetos $b$ tal que $\\arg_{b} \\max{\\sum_{i=0}^{N}{v_i · b_i}}$ manteniendo siempre cierto que no superamos el peso máximo de la mochila: $\\sum_{i=0}^{N}{(w_i · b_i)}\\leq W$.\n",
    "     \n",
    "</p>"
   ]
  },
  {
   "cell_type": "markdown",
   "metadata": {},
   "source": [
    "<div class=\"alert alert-danger\" style=\"width:80%; margin:0 auto; padding\">\n",
    "<center><p><h3> Código </h3></p> </center> \n",
    "\n",
    "<p>\n",
    "<h3>INPUT</h3>\n",
    "<ul>\n",
    "<li>__Items__: Lista de objetos en forma de tuplas (peso, valor).</li>\n",
    "</ul>\n",
    "<br>\n",
    "<h3>OUTPUT</h3>\n",
    "<ul>\n",
    "<li>__Packed__: Lista de objetos que nos llevaremos en la mochila.</li>\n",
    "<ul>\n",
    "\n",
    "</p>\n",
    "\n",
    "</div>"
   ]
  },
  {
   "cell_type": "code",
   "execution_count": 70,
   "metadata": {},
   "outputs": [],
   "source": [
    "def knapsack(W, items):\n",
    "    relaciones = []\n",
    "    Packed = []\n",
    "    for i in items:\n",
    "        relaciones.append([i[0]/i[1],i[0],i[1]])\n",
    "    relaciones.sort()\n",
    "    totalPeso = 0\n",
    "    totalAcumulado = 0\n",
    "    for i in relaciones:\n",
    "        if(totalPeso+i[1] < W):\n",
    "            Packed.append([i[1],i[2]])\n",
    "            totalPeso += i[1]\n",
    "            totalAcumulado += i[2]\n",
    "        else:\n",
    "            break\n",
    "    return Packed"
   ]
  },
  {
   "cell_type": "code",
   "execution_count": 71,
   "metadata": {},
   "outputs": [
    {
     "name": "stdout",
     "output_type": "stream",
     "text": [
      "[[0.22823386382493235, 86.85649983399232], [0.7185790111301805, 93.77497376583473], [0.6986754841282192, 74.4190921501876], [1.3527017497137708, 79.99435751322383], [2.002265463177934, 99.44324553667168], [3.115511382144872, 60.602457429547925], [5.267998727899195, 77.74595855323047], [4.6593978766682, 65.1361247126335], [4.198514324209894, 53.561879744096665], [6.862559996807283, 75.18737858645731], [8.001619583707722, 83.25158883377567], [2.989226840571832, 30.853298094863767], [6.762795822222595, 60.96064167835603], [9.525661299808768, 81.1365732070786], [6.067366462356071, 51.07495590387953], [8.130446799196342, 64.1983510525822], [6.38266907432783, 43.99564125294838], [6.628230340635287, 43.90981053397076], [5.242893936239127, 18.85258778449469], [7.88811976299215, 25.584548506676065]]\n",
      "96.7234678017622\n",
      "1270.539964674502\n",
      "[[0.22823386382493235, 86.85649983399232], [0.7185790111301805, 93.77497376583473], [0.6986754841282192, 74.4190921501876], [1.3527017497137708, 79.99435751322383], [2.002265463177934, 99.44324553667168], [3.115511382144872, 60.602457429547925], [5.267998727899195, 77.74595855323047], [4.6593978766682, 65.1361247126335], [4.198514324209894, 53.561879744096665], [6.862559996807283, 75.18737858645731], [8.001619583707722, 83.25158883377567], [2.989226840571832, 30.853298094863767], [6.762795822222595, 60.96064167835603], [9.525661299808768, 81.1365732070786], [6.067366462356071, 51.07495590387953], [8.130446799196342, 64.1983510525822], [6.38266907432783, 43.99564125294838], [6.628230340635287, 43.90981053397076], [5.242893936239127, 18.85258778449469], [7.88811976299215, 25.584548506676065]]\n"
     ]
    }
   ],
   "source": [
    "from random import uniform\n",
    "\n",
    "W = 100\n",
    "N_items = 25\n",
    "items = [(uniform(0.01, 10), uniform(0, 100)) for _ in range(N_items)]\n",
    "\n",
    "print(knapsack(W, items))"
   ]
  },
  {
   "cell_type": "code",
   "execution_count": null,
   "metadata": {},
   "outputs": [],
   "source": []
  }
 ],
 "metadata": {
  "kernelspec": {
   "display_name": "Python 3",
   "language": "python",
   "name": "python3"
  },
  "language_info": {
   "codemirror_mode": {
    "name": "ipython",
    "version": 3
   },
   "file_extension": ".py",
   "mimetype": "text/x-python",
   "name": "python",
   "nbconvert_exporter": "python",
   "pygments_lexer": "ipython3",
   "version": "3.7.3"
  }
 },
 "nbformat": 4,
 "nbformat_minor": 2
}
