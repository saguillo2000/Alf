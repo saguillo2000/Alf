{
 "cells": [
  {
   "cell_type": "markdown",
   "metadata": {},
   "source": [
    "<div style=\"padding:30px; color: white; background-color: #0071CD\">\n",
    "<center>\n",
    "<img src=\"img/logoub.jpeg\">\n",
    "<center>\n",
    "<p>\n",
    "<h1>Algorítmica Avanzada</h1>\n",
    "<h2>Problemas 2.A - Greedy </h2>\n",
    "</center>\n",
    "</p>\n",
    "</div>"
   ]
  },
  {
   "cell_type": "markdown",
   "metadata": {},
   "source": [
    "<div class=\"alert alert-info\">\n",
    "<center>\n",
    "  <h1>Introducción</h1>\n",
    "</center>"
   ]
  },
  {
   "cell_type": "markdown",
   "metadata": {},
   "source": [
    "<p>Un algoritmo Greedy es aquel que trata de resolver un problema con la heurística de escoger, a cada paso, la opción óptima con la intención de encontrar una solución óptima global al problema. En caso general, este tipo de algoritmos no son capaces de encontrar la solución óptima, sin embargo, sí pueden encontrar soluciones subóptimas suficientemente cercanas con una coste computacional significativamente menor.</p>\n",
    "\n",
    "<h3>Ejemplo</h3>\n",
    "<p>Supongamos que intentamos encontrar la suma más grande en este grafo en forma de árbol. Un algoritmo greedy no consiste en encontrar una estrategia óptima global al problema, sino que a cada paso, buscará entre sus siguientes opciones cuál lleva más cerca de la solución (óptimo local).</p>\n",
    "<img src=\"https://upload.wikimedia.org/wikipedia/commons/8/8c/Greedy-search-path-example.gif\">\n",
    "\n",
    "<h2>Estructura</h2>\n",
    "\n",
    "Todos los algoritmos greedy comparten ciertas características:\n",
    "<ol>\n",
    "    <li><b>Conjunto</b> de elementos a partir de los cuales formar una solución.</li>\n",
    "    <li>Criterio de <b>elección</b> del siguiente elemento candidato (Heurística).</li>\n",
    "    <li>Criterio de <b>validación</b> sobre los elementos candidatos.</li>\n",
    "    <li>Criterio de <b>terminación</b>, que indica cuando hemos alcanzado una solución completa.</li>\n",
    "    <li>Métrica de <b>evaluación</b> de una solución, total o parcial.</li>\n",
    "</ol>"
   ]
  },
  {
   "cell_type": "markdown",
   "metadata": {},
   "source": [
    "<div class=\"alert alert-info\">\n",
    "<center>\n",
    "  <h1>Contenido</h1>\n",
    "  </center><p>\n",
    "\n"
   ]
  },
  {
   "cell_type": "markdown",
   "metadata": {},
   "source": [
    "\n",
    "<div class=\"alert alert-success\" style=\"width:90%; margin:0 auto;\">\n",
    "  <h2><p>0 - Problema de selección de actividades</p></h2>\n",
    "  \n",
    "  <p>\n",
    "  El problema de selección de actividades nos plantea la tarea de escoger una combinación de actividades que no se solapen dado un intervalo de tiempo. El objetivo final es poder realizar el mayor número de actividades, asumiendo que sólo es posible realizar una actividad simultáneamente.\n",
    "  </p>\n",
    "  \n",
    "  <p>\n",
    "   Dadas N actividades, cada una de ellas representadas por un tiempo de inicio $s_i$ y un tiempo de fin $f_i$. Dos actividades no se solapan si se cumple que $s_i \\geq f_j$ o $s_j \\geq f_i$. El problema de selección de actividades consiste en encontrar el mayor conjunto de entre las posibles soluciones de actividades que no se solapen.\n",
    "  </p>\n"
   ]
  },
  {
   "cell_type": "markdown",
   "metadata": {},
   "source": [
    "<div class=\"alert alert-danger\" style=\"width:80%; margin:0 auto; padding\">\n",
    "<center><p><h3> Código </h3></p> </center> \n",
    "\n",
    "<p>\n",
    "<h3>INPUT</h3>\n",
    "<ul>\n",
    "<li>__A__: Lista de actividades en forma de tupla (_inicio_, _fin_).</li>\n",
    "</ul>\n",
    "<br>\n",
    "<h3>OUTPUT</h3>\n",
    "<ul>\n",
    "<li>__S__: Lista de actividades que forman la solución.</li>\n",
    "<ul>\n",
    "\n",
    "</p>\n",
    "\n",
    "</div>"
   ]
  },
  {
   "cell_type": "code",
   "execution_count": 47,
   "metadata": {},
   "outputs": [],
   "source": [
    "def activity_selection_problem(A):\n",
    "    seleccio = []\n",
    "    A.sort(key = lambda x: x[1])\n",
    "    seleccio.append(A[0])\n",
    "    lastAss = A[0]\n",
    "    for i in A:\n",
    "        if(lastAss[1]<=i[0]):\n",
    "            seleccio.append(i)\n",
    "            lastAss = i\n",
    "    return seleccio"
   ]
  },
  {
   "cell_type": "code",
   "execution_count": 48,
   "metadata": {},
   "outputs": [
    {
     "name": "stdout",
     "output_type": "stream",
     "text": [
      "[('09:19', '09:47'), ('10:21', '10:41'), ('10:54', '11:37'), ('11:37', '12:10'), ('13:37', '14:46'), ('18:01', '18:25'), ('18:36', '19:49')]\n"
     ]
    }
   ],
   "source": [
    "from util import randomActivities\n",
    "\n",
    "A = randomActivities(8, 20)\n",
    "print(activity_selection_problem(A))"
   ]
  },
  {
   "cell_type": "markdown",
   "metadata": {},
   "source": [
    "<div class=\"alert alert-warning\">\n",
    "<h1>Pregunta 1</h1>\n",
    "<p><strong>\n",
    "¿Las soluciones que encontremos con este algoritmo serán óptimas?\n",
    "</strong></p>\n",
    "</div>"
   ]
  },
  {
   "cell_type": "markdown",
   "metadata": {},
   "source": [
    "\n",
    "<div class=\"alert alert-success\" style=\"width:90%; margin:0 auto;\">\n",
    "  <h2><p>1 - Problema del cambio</p></h2>\n",
    "  \n",
    "  <p>\n",
    "  Dada una cantidad de dinero $V$ a devolver, cual debería ser el cambio si queremos que el número total de monedas y billetes a utilizar sea el mínimo posible. Asumimos que tenemos una cantidad ilimitada de monedas y billetes de cada tipo.\n",
    "  </p>\n"
   ]
  },
  {
   "cell_type": "markdown",
   "metadata": {},
   "source": [
    "<div class=\"alert alert-danger\" style=\"width:80%; margin:0 auto; padding\">\n",
    "<center><p><h3> Código </h3></p> </center> \n",
    "\n",
    "<p>\n",
    "<h3>INPUT</h3>\n",
    "<ul>\n",
    "<li>__V__: Cantidad de dinero a devolver.</li>\n",
    "</ul>\n",
    "<br>\n",
    "<h3>OUTPUT</h3>\n",
    "<ul>\n",
    "<li>__C__: Cambio devuelto. Debe ser una lista de tuplas de la forma (valor, cantidad)</li>\n",
    "<ul>\n",
    "\n",
    "</p>\n",
    "\n",
    "</div>"
   ]
  },
  {
   "cell_type": "code",
   "execution_count": 66,
   "metadata": {},
   "outputs": [],
   "source": [
    "def coin_change_problem(V):\n",
    "    _V = V*100\n",
    "    auxV = int(_V)\n",
    "    sistema = [0.01,0.02,0.05,0.1,0.2,0.5,1,2,5,10,20,50,100,200,500]\n",
    "    _sistema = []\n",
    "    for moneda in sistema:\n",
    "        _sistema.append(int(moneda*100))\n",
    "    _C = []\n",
    "    i = len(_sistema)-1\n",
    "    while ((_V > 0) and (i >= 0)):\n",
    "        cont = 0\n",
    "        while (_V >= _sistema[i]):\n",
    "            cont += 1\n",
    "            _V = _V - _sistema[i]\n",
    "        if (cont > 0):\n",
    "            _C.append((_sistema[i], cont))\n",
    "        i = i-1\n",
    "    C = []\n",
    "    for tupla in _C:\n",
    "        C.append(((float(tupla[0]/100)), tupla[1]))\n",
    "        \n",
    "    return C"
   ]
  },
  {
   "cell_type": "code",
   "execution_count": 67,
   "metadata": {},
   "outputs": [
    {
     "name": "stdout",
     "output_type": "stream",
     "text": [
      "40.67\n",
      "[(20.0, 2), (0.5, 1), (0.1, 1), (0.05, 1), (0.02, 1)]\n"
     ]
    }
   ],
   "source": [
    "import random\n",
    "\n",
    "sistema = [0.01,0.02,0.05,0.1,0.2,0.5,1,2,5,10,20,50,100,200,500]\n",
    "monedero = {s:random.randint(0,5) for s in sistema}\n",
    "\n",
    "V = round(random.uniform(0.01, 1000),2)\n",
    "\n",
    "print(coin_change_problem(V))"
   ]
  },
  {
   "cell_type": "markdown",
   "metadata": {},
   "source": [
    "<div class=\"alert alert-warning\">\n",
    "<h1>Pregunta 2</h1>\n",
    "<p><strong>\n",
    "¿Qué cambios habría que realizar al algoritmo si no asumimos una cantidad ilimitada de cada tipo de moneda/billete?\n",
    "</strong></p>\n",
    "</div>"
   ]
  },
  {
   "cell_type": "code",
   "execution_count": 16,
   "metadata": {},
   "outputs": [],
   "source": [
    "def coin_change_problem2(V):\n",
    "    print(V)\n",
    "    _V = V*100\n",
    "    auxV = int(_V)\n",
    "    sistema = [0.01,0.02,0.05,0.1,0.2,0.5,1,2,5,10,20,50,100,200,500]\n",
    "    limitacion = [10,10,10,10,10,10,10,10,10,10,10,10,10,10,10] #habra un maximo de 10 de cada, parametros a variar\n",
    "    _sistema = []\n",
    "    for moneda in sistema:\n",
    "        _sistema.append(int(moneda*100))\n",
    "    _C = []\n",
    "    i = len(_sistema)-1\n",
    "    while ((_V > 0) and (i >= 0)):\n",
    "        cont = 0\n",
    "        while (_V >= _sistema[i] or cont == limitacion[i]): #Aqui pondiramos la condicion de la limitacion\n",
    "            cont += 1\n",
    "            _V = _V - _sistema[i]\n",
    "        if (cont > 0):\n",
    "            _C.append((_sistema[i], cont))\n",
    "        i = i-1\n",
    "    C = []\n",
    "    for tupla in _C:\n",
    "        C.append(((float(tupla[0]/100)), tupla[1]))\n",
    "    return C"
   ]
  },
  {
   "cell_type": "code",
   "execution_count": 17,
   "metadata": {},
   "outputs": [
    {
     "name": "stdout",
     "output_type": "stream",
     "text": [
      "176.2\n",
      "[(100.0, 1), (50.0, 1), (20.0, 1), (5.0, 1), (1.0, 1), (0.2, 1)]\n"
     ]
    }
   ],
   "source": [
    "import random\n",
    "\n",
    "V = round(random.uniform(0.01, 1000),2)\n",
    "\n",
    "print(coin_change_problem2(V))"
   ]
  },
  {
   "cell_type": "markdown",
   "metadata": {},
   "source": [
    "\n",
    "<div class=\"alert alert-success\" style=\"width:90%; margin:0 auto;\">\n",
    "  <h2><p>2 - Problema del vendedor ambulante</p></h2>\n",
    "  \n",
    "  <p>\n",
    "  Dada una lista de ciudades y las distancias entre cada par de ellas, ¿cuál es la ruta más corta posible que visita cada ciudad exactamente una vez y al finalizar regresa a la ciudad origen?\n",
    "  </p>"
   ]
  },
  {
   "cell_type": "markdown",
   "metadata": {},
   "source": [
    "<div class=\"alert alert-danger\" style=\"width:80%; margin:0 auto; padding\">\n",
    "<center><p><h3> Código </h3></p> </center> \n",
    "\n",
    "<p>\n",
    "<h3>INPUT</h3>\n",
    "<ul>\n",
    "<li>__cities__: Lista de ciudades en forma de tuplas (ciudad, latitud, longitud).</li>\n",
    "</ul>\n",
    "<br>\n",
    "<h3>OUTPUT</h3>\n",
    "<ul>\n",
    "<li>__path__: Camino encontrado en forma de lista de ciudades</li>\n",
    "<ul>\n",
    "\n",
    "</p>\n",
    "\n",
    "</div>"
   ]
  },
  {
   "cell_type": "code",
   "execution_count": 1,
   "metadata": {},
   "outputs": [],
   "source": [
    "import math\n",
    "def travelling_salesman_problem(cities):\n",
    "    #Coger la distancia minima, comparar todas\n",
    "    camino = []\n",
    "    destinos = []\n",
    "    inici = cities[0] #Falta que retorne a su ciudad\n",
    "    proxima =  cities[0]\n",
    "    camino.append(inici)\n",
    "    destinos.append(inici[0])\n",
    "    while(len(camino)<len(cities)):\n",
    "        inici = proxima\n",
    "        distancia = 0.0\n",
    "        distanciaMin = 2**32-1\n",
    "        for i in cities:\n",
    "            if(i not in camino):\n",
    "                distancia = math.sqrt(pow(i[1]-inici[1],2)+pow(i[2]-inici[2],2))\n",
    "                if(distancia<distanciaMin):\n",
    "                    distanciaMin = distancia\n",
    "                    proxima = i\n",
    "        camino.append(proxima)\n",
    "        destinos.append(proxima[0])\n",
    "    destinos.append(cities[0][0])\n",
    "    #D = sqrt((lat1 - lat0)**2 + (lon1 - lon0)**2)\n",
    "    return destinos"
   ]
  },
  {
   "cell_type": "code",
   "execution_count": 2,
   "metadata": {},
   "outputs": [
    {
     "name": "stdout",
     "output_type": "stream",
     "text": [
      "[0, 431, 577, 181, 608, 624, 611, 436, 364, 762, 161, 458, 6, 182, 772, 418, 27, 165, 240, 538, 983, 640, 488, 268, 266, 766, 574, 513, 289, 145, 877, 778, 722, 996, 106, 555, 751, 540, 581, 52, 466, 898, 874, 211, 730, 798, 841, 62, 727, 910, 732, 85, 297, 472, 397, 318, 717, 152, 195, 839, 562, 908, 583, 834, 885, 498, 570, 295, 815, 718, 691, 672, 187, 920, 962, 285, 649, 620, 280, 796, 578, 648, 531, 58, 838, 255, 660, 536, 899, 966, 569, 104, 658, 998, 844, 692, 387, 999, 118, 212, 698, 39, 585, 375, 671, 892, 105, 868, 284, 788, 593, 645, 616, 961, 607, 137, 437, 625, 405, 558, 530, 680, 81, 257, 572, 421, 134, 148, 711, 801, 311, 955, 976, 371, 316, 449, 442, 110, 159, 78, 193, 191, 632, 417, 232, 884, 163, 664, 276, 135, 666, 379, 716, 951, 639, 420, 48, 547, 911, 493, 88, 475, 438, 566, 21, 875, 689, 930, 858, 380, 775, 275, 99, 324, 637, 310, 400, 253, 30, 628, 824, 988, 469, 56, 332, 35, 136, 931, 516, 968, 729, 891, 249, 460, 659, 101, 347, 789, 582, 819, 262, 646, 390, 979, 340, 721, 554, 477, 378, 954, 924, 870, 744, 948, 50, 781, 880, 235, 202, 49, 560, 912, 952, 439, 366, 799, 761, 609, 595, 4, 763, 446, 576, 291, 86, 345, 160, 19, 26, 793, 736, 854, 281, 219, 773, 615, 178, 591, 770, 273, 389, 376, 791, 700, 8, 825, 5, 60, 369, 765, 627, 742, 756, 725, 833, 16, 146, 739, 90, 373, 94, 176, 667, 909, 514, 13, 194, 462, 451, 325, 344, 244, 392, 411, 72, 45, 236, 928, 305, 995, 441, 57, 784, 401, 831, 206, 349, 633, 589, 683, 184, 384, 461, 335, 179, 992, 676, 510, 953, 693, 208, 162, 487, 515, 862, 849, 806, 463, 185, 209, 871, 234, 546, 947, 565, 173, 358, 277, 842, 415, 166, 926, 408, 43, 512, 752, 199, 393, 556, 740, 196, 497, 524, 977, 597, 63, 866, 278, 835, 738, 665, 66, 603, 286, 315, 190, 216, 321, 755, 647, 205, 454, 103, 917, 254, 939, 669, 728, 760, 764, 668, 780, 991, 586, 946, 112, 432, 661, 69, 600, 543, 55, 121, 338, 656, 754, 916, 410, 774, 82, 186, 326, 889, 77, 614, 177, 423, 709, 767, 876, 455, 299, 22, 96, 545, 557, 940, 932, 42, 901, 635, 521, 957, 29, 509, 812, 673, 816, 287, 708, 296, 811, 520, 108, 143, 25, 737, 430, 779, 735, 888, 567, 663, 76, 519, 396, 348, 714, 125, 986, 872, 938, 138, 907, 800, 84, 128, 154, 260, 897, 893, 15, 241, 153, 32, 670, 156, 20, 997, 67, 904, 905, 97, 412, 298, 218, 419, 306, 322, 750, 896, 107, 213, 38, 935, 28, 113, 507, 496, 473, 333, 282, 900, 837, 459, 140, 873, 918, 687, 71, 500, 828, 642, 843, 971, 499, 840, 964, 237, 215, 662, 694, 975, 653, 74, 149, 479, 805, 832, 188, 657, 969, 61, 821, 990, 377, 183, 115, 552, 622, 903, 210, 925, 787, 707, 334, 41, 902, 102, 207, 168, 456, 443, 433, 337, 440, 133, 959, 970, 973, 83, 504, 641, 684, 46, 256, 527, 175, 489, 695, 929, 822, 450, 467, 17, 864, 629, 792, 457, 491, 93, 685, 229, 95, 950, 248, 3, 505, 537, 413, 490, 982, 522, 150, 783, 331, 915, 886, 542, 198, 539, 594, 64, 517, 319, 733, 769, 923, 308, 592, 747, 111, 197, 18, 651, 949, 869, 123, 863, 478, 636, 523, 726, 878, 116, 73, 605, 288, 994, 353, 643, 10, 59, 312, 481, 757, 372, 771, 222, 958, 120, 53, 749, 363, 511, 130, 802, 301, 414, 374, 890, 429, 626, 906, 225, 526, 525, 588, 354, 89, 922, 678, 937, 406, 339, 541, 782, 652, 598, 933, 803, 748, 978, 109, 399, 157, 814, 238, 9, 795, 850, 293, 786, 486, 851, 327, 987, 171, 385, 352, 139, 804, 887, 631, 852, 470, 808, 679, 34, 590, 122, 743, 231, 404, 818, 98, 261, 634, 741, 914, 719, 224, 127, 368, 847, 677, 485, 974, 367, 503, 723, 638, 810, 270, 403, 943, 65, 351, 921, 428, 416, 329, 424, 164, 264, 817, 548, 535, 705, 180, 91, 402, 100, 712, 44, 502, 606, 343, 155, 350, 575, 251, 24, 360, 346, 11, 223, 465, 696, 283, 200, 482, 561, 468, 174, 245, 860, 682, 398, 355, 573, 40, 602, 612, 2, 382, 167, 395, 87, 529, 126, 290, 330, 720, 169, 117, 1, 813, 936, 230, 214, 776, 494, 549, 856, 391, 934, 553, 357, 246, 699, 435, 826, 702, 797, 201, 518, 172, 36, 746, 883, 623, 913, 807, 258, 845, 704, 386, 480, 309, 426, 217, 644, 942, 604, 532, 31, 861, 758, 785, 23, 985, 596, 551, 768, 304, 836, 980, 323, 690, 528, 894, 370, 317, 239, 853, 279, 265, 464, 621, 341, 960, 447, 587, 967, 492, 613, 865, 655, 51, 320, 533, 14, 790, 963, 33, 142, 809, 476, 313, 394, 434, 686, 619, 388, 328, 220, 879, 544, 584, 158, 881, 506, 37, 559, 383, 362, 147, 830, 882, 361, 563, 80, 129, 356, 302, 713, 272, 250, 829, 495, 981, 445, 484, 307, 734, 534, 706, 292, 7, 956, 226, 501, 867, 359, 342, 471, 271, 927, 857, 508, 189, 674, 697, 731, 701, 617, 794, 820, 550, 710, 564, 228, 984, 68, 427, 252, 233, 474, 703, 407, 47, 124, 724, 269, 919, 965, 300, 151, 144, 941, 568, 54, 409, 448, 823, 452, 119, 114, 993, 601, 131, 221, 859, 715, 848, 579, 75, 274, 243, 688, 336, 827, 895, 453, 267, 242, 630, 855, 170, 425, 259, 263, 192, 141, 132, 753, 777, 294, 444, 381, 227, 610, 571, 759, 203, 247, 599, 681, 314, 650, 745, 70, 422, 654, 79, 365, 846, 945, 303, 989, 580, 944, 92, 483, 618, 204, 972, 12, 675, 0]\n"
     ]
    }
   ],
   "source": [
    "from random import uniform\n",
    "\n",
    "cities = [(_, uniform(-50, 50), uniform(-50, 50)) for _ in range(1000)]\n",
    "\n",
    "print(travelling_salesman_problem(cities))"
   ]
  },
  {
   "cell_type": "markdown",
   "metadata": {},
   "source": [
    "<div class=\"alert alert-warning\">\n",
    "<h1>Pregunta 3</h1>\n",
    "<p><strong>\n",
    "¿Los caminos que encontremos con este algoritmo serán óptimos?\n",
    "    No ya que no elegimos la mejor para ruta sino la del momento\n",
    "</strong></p>\n",
    "</div>"
   ]
  },
  {
   "cell_type": "markdown",
   "metadata": {},
   "source": [
    "\n",
    "<div class=\"alert alert-success\" style=\"width:90%; margin:0 auto;\">\n",
    "  <h2><p>3 - Fracciones Egipcias</p></h2>\n",
    "  \n",
    "  <p>\n",
    "  Toda fracción positiva puede ser expresada como la suma de fracciones unitarias. Una fracción unitaria es aquella cuyo numerador es $1$ y el denominador es un entero positivo. \n",
    "  </p>\n",
    "  \n",
    "  <p>\n",
    "   Ejemplos:\n",
    "    <ul>\n",
    "        <li>$2/3 = 1/2 + 1/6$</li>\n",
    "        <li>$6/14 = 1/3 + 1/11 + 1/231$</li>\n",
    "        <li>$12/13 = 1/2 + 1/3 + 1/12 + 1/156$</li>\n",
    "    </ul>\n",
    "  </p>"
   ]
  },
  {
   "cell_type": "markdown",
   "metadata": {},
   "source": [
    "<div class=\"alert alert-danger\" style=\"width:80%; margin:0 auto; padding\">\n",
    "<center><p><h3> Código </h3></p> </center> \n",
    "\n",
    "<p>\n",
    "<h3>INPUT</h3>\n",
    "<ul>\n",
    "<li>__numerator__: Numerador.</li>\n",
    "<li>__denominator__: Denominador.</li>\n",
    "</ul>\n",
    "<br>\n",
    "<h3>OUTPUT</h3>\n",
    "<ul>\n",
    "<li>Sin output. Debe mostrar en pantalla la solución de esta forma: '1/2 + 1/3 + ...'</li>\n",
    "<ul>\n",
    "\n",
    "</p>\n",
    "\n",
    "</div>"
   ]
  },
  {
   "cell_type": "code",
   "execution_count": 7,
   "metadata": {},
   "outputs": [],
   "source": [
    "import math\n",
    "def egyptian_fractions(n, d):\n",
    "    print(n,\"/\",d,\" = \",end=\"\")\n",
    "    resultado = []\n",
    "    if(d<n):\n",
    "        print(\"Es mas grande que 1 no se puede\")\n",
    "        return resultado\n",
    "    else:\n",
    "        resta = math.ceil(d/n)\n",
    "        while(n != 1):\n",
    "            resta = math.ceil(d/n)\n",
    "            if(n*resta == d):\n",
    "                print(1,\"/\", resta)\n",
    "                break\n",
    "            print(1,\"/\", resta , \"+  \",end=\"\")\n",
    "            n = n*resta - d\n",
    "            d = d*resta"
   ]
  },
  {
   "cell_type": "code",
   "execution_count": 9,
   "metadata": {},
   "outputs": [
    {
     "name": "stdout",
     "output_type": "stream",
     "text": [
      "68 / 728  = 1 / 11 +  1 / 401 +  1 / 267601 +  1 / 214830618002\n"
     ]
    }
   ],
   "source": [
    "from random import randint\n",
    "\n",
    "n = randint(1, 1000)\n",
    "d = randint(1, 1000)\n",
    "\n",
    "egyptian_fractions(n, d)"
   ]
  },
  {
   "cell_type": "code",
   "execution_count": null,
   "metadata": {},
   "outputs": [],
   "source": []
  }
 ],
 "metadata": {
  "kernelspec": {
   "display_name": "Python 3",
   "language": "python",
   "name": "python3"
  },
  "language_info": {
   "codemirror_mode": {
    "name": "ipython",
    "version": 3
   },
   "file_extension": ".py",
   "mimetype": "text/x-python",
   "name": "python",
   "nbconvert_exporter": "python",
   "pygments_lexer": "ipython3",
   "version": "3.7.3"
  }
 },
 "nbformat": 4,
 "nbformat_minor": 2
}
