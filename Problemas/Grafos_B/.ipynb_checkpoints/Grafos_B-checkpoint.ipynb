{
 "cells": [
  {
   "cell_type": "markdown",
   "metadata": {},
   "source": [
    "<div style=\"padding:30px; color: white; background-color: #0071CD\">\n",
    "<center>\n",
    "<img src=\"img/logoub.jpeg\">\n",
    "<center>\n",
    "<p>\n",
    "<h1>Algorítmica Avanzada</h1>\n",
    "<h2>Problemas 1.B - Grafos </h2>\n",
    "</center>\n",
    "</p>\n",
    "</div>"
   ]
  },
  {
   "cell_type": "markdown",
   "metadata": {},
   "source": [
    "\n",
    "<div class=\"alert alert-success\" style=\"width:90%; margin:0 auto;\">\n",
    "  <h2><p>0 - Depth-First Search</p></h2>\n",
    "  \n",
    "  <p>\n",
    "  El objetivo de _Depth First Search_ (DFS) es el mismo que el de BFS, encontrar un camino entre dos puntos del grafo\n",
    "  </p>\n",
    "  \n",
    "  <p>\n",
    "  <a href=\"https://en.wikipedia.org/wiki/Depth-first_search\">Aquí</a> podeis encontrar mas detalles sobre la implementación y características de este algoritmo.\n",
    "  </p>\n"
   ]
  },
  {
   "cell_type": "markdown",
   "metadata": {},
   "source": [
    "<div class=\"alert alert-danger\" style=\"width:80%; margin:0 auto; padding\">\n",
    "<center><p><h3> Código </h3></p> </center> \n",
    "\n",
    "<p>\n",
    "<h3>INPUT</h3>\n",
    "<ul>\n",
    "<li>__G__: Grafo sobre el que buscar el camino.</li>\n",
    "<li>__origen__: Este parámetro corresponde al índice de un nodo. En este caso deberá ser un entero _(e.g. 231)_.</li>\n",
    "<li>__destino__: El índice del nodo al que queremos llegar.</li>\n",
    "</ul>\n",
    "<br>\n",
    "<h3>OUTPUT</h3>\n",
    "El output de una funcion es un diccionario que contiene los siguientes valores\n",
    "<ul>\n",
    "<li>__ _'path'_ __: Una lista de índices correspondientes al camino encontrado del nodo inicial al nodo final, __ambos nodos, inicio y final, han de estar incluidos en esta lista__.</li>\n",
    "<li>__ _'expanded'_ __: El número de nodos que se han visitado para encontrar la solución.</li>\n",
    "<ul>\n",
    "\n",
    "</p>\n",
    "\n",
    "</div>"
   ]
  },
  {
   "cell_type": "code",
   "execution_count": null,
   "metadata": {},
   "outputs": [],
   "source": [
    "def dfs(G, origen, destino):\n",
    "    \n",
    "    visitado, padres, expanded = [], [], 0\n",
    "    \n",
    "    nodo = origen\n",
    "    \n",
    "    while(nodo != destino):\n",
    "        \n",
    "        print(nodo)\n",
    "        \n",
    "        if(nodo not in visitado):\n",
    "        \n",
    "            if(nodo == origen):\n",
    "                \n",
    "                visitado.append(origen)\n",
    "                padres.append(-1)\n",
    "        \n",
    "        for neighbor in G.neighbors(nodo):\n",
    "\n",
    "            if(neighbor == destino):\n",
    "                visitado.append(neighbor)\n",
    "                padres.append(nodo)\n",
    "                path = []\n",
    "                path.append(neighbor)\n",
    "                path.append(nodo)\n",
    "                nodo = padres[visitado.index(nodo)]\n",
    "\n",
    "                while(origen not in path):\n",
    "                    path.append(nodo)\n",
    "                    nodo = padres[visitado.index(nodo)]\n",
    "\n",
    "                path.reverse()\n",
    "                \n",
    "                print(path)\n",
    "                \n",
    "                return{\n",
    "                    'path' : path,\n",
    "                    'expanded' : expanded\n",
    "                }\n",
    "\n",
    "            elif(neighbor not in visitado):\n",
    "                visitado.append(neighbor)\n",
    "                padres.append(nodo)\n",
    "                ++expanded\n",
    "                nodo = neighbor\n",
    "            else:\n",
    "                nodo = padres[visitado.index(nodo)]"
   ]
  },
  {
   "cell_type": "code",
   "execution_count": null,
   "metadata": {},
   "outputs": [],
   "source": [
    "%matplotlib inline\n",
    "import networkx as nx\n",
    "G = nx.generators.barabasi_albert_graph(10, 2)\n",
    "dfs(G, 1, 7)"
   ]
  },
  {
   "cell_type": "markdown",
   "metadata": {},
   "source": [
    "<div class=\"alert alert-success\" style=\"width:90%; margin:0 auto;\">\n",
    "  <h2><p>1 - Componentes conexos</p></h2>\n",
    "  <p>\n",
    "    Para este ejercicio deberéis implementar una función que identifique los distintos componentes conexos de un grafo. Esto es, agrupar todos los nodos que estén conectados por un camino.\n",
    "  </p>"
   ]
  },
  {
   "cell_type": "markdown",
   "metadata": {},
   "source": [
    "<div class=\"alert alert-danger\" style=\"width:80%; margin:0 auto; padding\">\n",
    "<center><p><h3> Código </h3></p> </center> \n",
    "\n",
    "<p>\n",
    "<h3>INPUT</h3>\n",
    "<ul>\n",
    "<li>__G__: Objeto de tipo grafo sobre el cual buscaremos componentes conexos.</li>\n",
    "</ul>\n",
    "<br>\n",
    "<h3>OUTPUT</h3>\n",
    "<ul>\n",
    "<li>__ _'componentes'_ __: Una lista de listas. Cada sub-lista contendrá los índices de los nodos de uno de los componentes conexos.</li>\n",
    "<ul>\n",
    "\n",
    "</p>\n",
    "\n",
    "</div>"
   ]
  },
  {
   "cell_type": "code",
   "execution_count": 31,
   "metadata": {},
   "outputs": [],
   "source": [
    "import collections\n",
    "def cnx(G):\n",
    "    visited = set()\n",
    "    BFRL = []\n",
    "    connex_graph_list = []\n",
    "    \n",
    "    for node in G: #Iteramos sobre cada nodo en el grafo\n",
    "        if node in visited:\n",
    "            continue\n",
    "            \n",
    "        if connex_graph_list:\n",
    "            BFRL.append(connex_graph_list)\n",
    "        connex_graph_list = [node] #Limpiamos a cada pasada la lista de conexos\n",
    "        \n",
    "        \n",
    "        neighbor_queue = collections.deque()\n",
    "        neighbor_list_init = [n for n in G.neighbors(node)]\n",
    "        for i in neighbor_list_init: #Añadimos los nodos a la lista de nodos a visitar\n",
    "            neighbor_queue.append(i)\n",
    "        \n",
    "        while neighbor_queue:\n",
    "            neighbor_node = neighbor_queue.popleft()\n",
    "            visited.add(neighbor_node)\n",
    "            \n",
    "            if neighbor_node not in connex_graph_list:\n",
    "                connex_graph_list.append(neighbor_node)\n",
    "                \n",
    "            aux = [n for n in G.neighbors(neighbor_node)]\n",
    "            for i in aux:\n",
    "                if i not in visited:\n",
    "                    neighbor_queue.append(i)\n",
    "        BFRL.append(connex_graph_list)\n",
    "    return BFRL\n",
    "    \n",
    "    "
   ]
  },
  {
   "cell_type": "code",
   "execution_count": 32,
   "metadata": {
    "scrolled": true
   },
   "outputs": [
    {
     "name": "stdout",
     "output_type": "stream",
     "text": [
      "[[0, 8, 2, 9, 3, 7, 5, 1, 6, 4], [0, 8, 2, 9, 3, 7, 5, 1, 6, 4], [10, 11, 12, 13, 14, 15, 16, 17, 18], [10, 11, 12, 13, 14, 15, 16, 17, 18], [19], [19], [20, 21, 22, 23], [20, 21, 22, 23], [24, 25, 26, 27, 28, 29]]\n",
      "9\n"
     ]
    },
    {
     "data": {
      "image/png": "[encoded data removed]",
      "text/plain": [
       "<Figure size 504x504 with 1 Axes>"
      ]
     },
     "metadata": {},
     "output_type": "display_data"
    }
   ],
   "source": [
    "%matplotlib inline\n",
    "from utils import draw, random_multiple_component_graph\n",
    "G = random_multiple_component_graph(c=4)\n",
    "print(cnx(G))\n",
    "draw(G)"
   ]
  },
  {
   "cell_type": "code",
   "execution_count": null,
   "metadata": {},
   "outputs": [],
   "source": []
  }
 ],
 "metadata": {
  "kernelspec": {
   "display_name": "Python 3",
   "language": "python",
   "name": "python3"
  }
 },
 "nbformat": 4,
 "nbformat_minor": 2
}
