{
 "cells": [
  {
   "cell_type": "markdown",
   "metadata": {},
   "source": [
    "<div style=\"padding:30px; color: white; background-color: #0071CD\">\n",
    "<center>\n",
    "<img src=\"img/logoub.jpeg\">\n",
    "<center>\n",
    "<p>\n",
    "<h1>Algorítmica Avanzada</h1>\n",
    "<h2>Problemas 2.B - Greedy </h2>\n",
    "</center>\n",
    "</p>\n",
    "</div>"
   ]
  },
  {
   "cell_type": "markdown",
   "metadata": {},
   "source": [
    "<div class=\"alert alert-success\" style=\"width:90%; margin:0 auto;\">\n",
    "  <h2><p>4 - El número más grande</p></h2>\n",
    "  \n",
    "  <p>\n",
    "  Dados dos números, $N$ y $S$, encuentra el número más grande posible de $N$ dígitos tal que la suma de dichos dígitos sea $S$.\n",
    "  </p>"
   ]
  },
  {
   "cell_type": "markdown",
   "metadata": {},
   "source": [
    "<div class=\"alert alert-danger\" style=\"width:80%; margin:0 auto; padding\">\n",
    "<center><p><h3> Código </h3></p> </center> \n",
    "\n",
    "<p>\n",
    "<h3>INPUT</h3>\n",
    "<ul>\n",
    "<li>__N__: Número de dígitos.</li>\n",
    "<li>__S__: Suma de los dígitos.</li>\n",
    "</ul>\n",
    "<br>\n",
    "<h3>OUTPUT</h3>\n",
    "<ul>\n",
    "<li>__T__: Número que cumple las condiciones requeridas.</li>\n",
    "<ul>\n",
    "\n",
    "</p>\n",
    "\n",
    "</div>"
   ]
  },
  {
   "cell_type": "code",
   "execution_count": 3,
   "metadata": {},
   "outputs": [],
   "source": [
    "def largest_number(N, S):\n",
    "    print(N)\n",
    "    print(S)\n",
    "    T = []\n",
    "    for i in range(N):   #Retocar con los modulos\n",
    "        if(S>9):\n",
    "            S -= 9\n",
    "            T.append(9)\n",
    "        elif(S>8):\n",
    "            S -= 8\n",
    "            T.append(8)\n",
    "        elif(S>7):\n",
    "            S -= 7\n",
    "            T.append(7)\n",
    "        elif(S>6):\n",
    "            S -= 6\n",
    "            T.append(6)\n",
    "        elif(S>5):\n",
    "            S -= 5\n",
    "            T.append(5)\n",
    "        elif(S>4):\n",
    "            S -= 4\n",
    "            T.append(4)\n",
    "        elif(S>3):\n",
    "            S -= 3\n",
    "            T.append(3)\n",
    "        elif(S>2):\n",
    "            S -= 2\n",
    "            T.append(2)\n",
    "        elif(S>1):\n",
    "            S -= 1\n",
    "            T.append(1)\n",
    "        else:\n",
    "            T.append(0)\n",
    "    total = 0\n",
    "    numeroT = \"\"\n",
    "    for i in T:\n",
    "        numeroT += str(i)\n",
    "        total+= i\n",
    "    print(total)\n",
    "    return int(numeroT)"
   ]
  },
  {
   "cell_type": "code",
   "execution_count": 9,
   "metadata": {},
   "outputs": [
    {
     "name": "stdout",
     "output_type": "stream",
     "text": [
      "47\n",
      "238\n",
      "237\n",
      "99999999999999999999999999300000000000000000000\n"
     ]
    }
   ],
   "source": [
    "from random import randint\n",
    "\n",
    "n = randint(1, 50)\n",
    "s = randint(1, 500)\n",
    "\n",
    "print(largest_number(n, s))"
   ]
  },
  {
   "cell_type": "markdown",
   "metadata": {},
   "source": [
    "<div class=\"alert alert-success\" style=\"width:90%; margin:0 auto;\">\n",
    "  <h2><p>5 - Minimiza la suma del producto</p></h2>\n",
    "  \n",
    "  <p>\n",
    "  Dadas dos listas de números $A$ y $B$ del mismo tamaño $N$, minimiza $A[0]*B[0] + A[1]*B[1] + ... + A[N]*B[N]$ cambiando de orden los elementos de la listas.\n",
    "  </p>"
   ]
  },
  {
   "cell_type": "markdown",
   "metadata": {},
   "source": [
    "<div class=\"alert alert-danger\" style=\"width:80%; margin:0 auto; padding\">\n",
    "<center><p><h3> Código </h3></p> </center> \n",
    "\n",
    "<p>\n",
    "<h3>INPUT</h3>\n",
    "<ul>\n",
    "<li>__A__: Lista de números.</li>\n",
    "<li>__B__: Lista de números.</li>\n",
    "</ul>\n",
    "<br>\n",
    "<h3>OUTPUT</h3>\n",
    "<ul>\n",
    "<li>__S__: Suma de productos.</li>\n",
    "<ul>\n",
    "\n",
    "</p>\n",
    "\n",
    "</div>"
   ]
  },
  {
   "cell_type": "code",
   "execution_count": 48,
   "metadata": {},
   "outputs": [],
   "source": [
    "def minimize_sum_prod(A, B): #We are going to do the product with the minimun value of the list A and the maximun of the B \n",
    "    A.sort()\n",
    "    B.sort(reverse = True)\n",
    "    S = 0\n",
    "    for i in range (len(A)):\n",
    "        S += A[i]*B[i] \n",
    "    return S"
   ]
  },
  {
   "cell_type": "code",
   "execution_count": 49,
   "metadata": {},
   "outputs": [
    {
     "data": {
      "text/plain": [
       "77249"
      ]
     },
     "execution_count": 49,
     "metadata": {},
     "output_type": "execute_result"
    }
   ],
   "source": [
    "from random import randint\n",
    "\n",
    "N = 50\n",
    "A = [randint(1,100) for _ in range(N)]\n",
    "B = [randint(1,100) for _ in range(N)]\n",
    "minimize_sum_prod(A,B)"
   ]
  },
  {
   "cell_type": "markdown",
   "metadata": {},
   "source": [
    "  <div class=\"alert alert-success\" style=\"width:90%; margin:0 auto;\">\n",
    "\n",
    "  <h2><p>6- El problema de la mochila</p></h2>\n",
    "  \n",
    "  <center><img src=\"img/knapsack.png\" width=30%></center>\n",
    "  \n",
    "  <p>\n",
    "    Nos encontramos en una habitación en la que hay $N$ objetos, cada cual con un peso $w_1, w_2, w_3 ... w_N$ y un valor $v_1, v_2, v_3 ... v_N$. Disponemos de una mochila que puede soportar una carga máxima de $W$.\n",
    "    Se os pide que implementéis un algoritmo greedy Greedy para conseguir llenar la mochila maximizando el valor total de la misma. Es decir queremos encontrar la combinación de objetos $b$ tal que $\\arg_{b} \\max{\\sum_{i=0}^{N}{v_i · b_i}}$ manteniendo siempre cierto que no superamos el peso máximo de la mochila: $\\sum_{i=0}^{N}{(w_i · b_i)}\\leq W$.\n",
    "     \n",
    "</p>"
   ]
  },
  {
   "cell_type": "markdown",
   "metadata": {},
   "source": [
    "<div class=\"alert alert-danger\" style=\"width:80%; margin:0 auto; padding\">\n",
    "<center><p><h3> Código </h3></p> </center> \n",
    "\n",
    "<p>\n",
    "<h3>INPUT</h3>\n",
    "<ul>\n",
    "<li>__Items__: Lista de objetos en forma de tuplas (peso, valor).</li>\n",
    "</ul>\n",
    "<br>\n",
    "<h3>OUTPUT</h3>\n",
    "<ul>\n",
    "<li>__Packed__: Lista de objetos que nos llevaremos en la mochila.</li>\n",
    "<ul>\n",
    "\n",
    "</p>\n",
    "\n",
    "</div>"
   ]
  },
  {
   "cell_type": "code",
   "execution_count": 1,
   "metadata": {},
   "outputs": [],
   "source": [
    "def knapsack(W, items):\n",
    "    relaciones = []\n",
    "    Packed = []\n",
    "    for i in items:\n",
    "        relaciones.append([i[0]/i[1],i[0],i[1]])\n",
    "    relaciones.sort()\n",
    "    totalPeso = 0\n",
    "    totalAcumulado = 0\n",
    "    for i in relaciones:\n",
    "        if(totalPeso+i[1] < W):\n",
    "            Packed.append([i[1],i[2]])\n",
    "            totalPeso += i[1]\n",
    "            totalAcumulado += i[2]\n",
    "        else:\n",
    "            break\n",
    "    return Packed"
   ]
  },
  {
   "cell_type": "code",
   "execution_count": 2,
   "metadata": {},
   "outputs": [
    {
     "name": "stdout",
     "output_type": "stream",
     "text": [
      "[[0.1603089865600211, 33.82772426043066], [0.7842956405622499, 81.01512660546241], [0.6227392623608404, 28.80084962712255], [1.064376593635161, 44.444762992070395], [2.157568243997245, 43.169986501547555], [2.4260510842578324, 46.15641873893047], [1.4427013862019171, 25.859307228176366], [4.267979200223358, 65.78391311173031], [6.519644649530317, 93.56013297930326], [5.923602809275828, 84.18896437948553], [6.224526138540819, 83.46184279287174], [5.445308036316372, 59.027150670565476], [8.946762370686015, 91.68034829978195], [9.821162753147428, 87.74736389307776], [6.954581363952106, 51.52677320110834], [8.082351522235749, 58.770164298931135], [3.53729898634102, 21.472764336353865], [7.6408772135134555, 43.33563774208663], [6.90225245396811, 27.825019117978655], [3.0796456452936933, 10.573102974440918]]\n"
     ]
    }
   ],
   "source": [
    "from random import uniform\n",
    "\n",
    "W = 100\n",
    "N_items = 25\n",
    "items = [(uniform(0.01, 10), uniform(0, 100)) for _ in range(N_items)]\n",
    "\n",
    "print(knapsack(W, items))"
   ]
  },
  {
   "cell_type": "code",
   "execution_count": null,
   "metadata": {},
   "outputs": [],
   "source": []
  }
 ],
 "metadata": {
  "kernelspec": {
   "display_name": "Python 3",
   "language": "python",
   "name": "python3"
  },
  "language_info": {
   "codemirror_mode": {
    "name": "ipython",
    "version": 3
   },
   "file_extension": ".py",
   "mimetype": "text/x-python",
   "name": "python",
   "nbconvert_exporter": "python",
   "pygments_lexer": "ipython3",
   "version": "3.7.3"
  }
 },
 "nbformat": 4,
 "nbformat_minor": 2
}
