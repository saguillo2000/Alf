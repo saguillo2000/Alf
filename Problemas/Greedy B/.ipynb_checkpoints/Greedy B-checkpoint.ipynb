{
 "cells": [
  {
   "cell_type": "markdown",
   "metadata": {},
   "source": [
    "<div style=\"padding:30px; color: white; background-color: #0071CD\">\n",
    "<center>\n",
    "<img src=\"img/logoub.jpeg\">\n",
    "<center>\n",
    "<p>\n",
    "<h1>Algorítmica Avanzada</h1>\n",
    "<h2>Problemas 2.B - Greedy </h2>\n",
    "</center>\n",
    "</p>\n",
    "</div>"
   ]
  },
  {
   "cell_type": "markdown",
   "metadata": {},
   "source": [
    "<div class=\"alert alert-success\" style=\"width:90%; margin:0 auto;\">\n",
    "  <h2><p>4 - El número más grande</p></h2>\n",
    "  \n",
    "  <p>\n",
    "  Dados dos números, $N$ y $S$, encuentra el número más grande posible de $N$ dígitos tal que la suma de dichos dígitos sea $S$.\n",
    "  </p>"
   ]
  },
  {
   "cell_type": "markdown",
   "metadata": {},
   "source": [
    "<div class=\"alert alert-danger\" style=\"width:80%; margin:0 auto; padding\">\n",
    "<center><p><h3> Código </h3></p> </center> \n",
    "\n",
    "<p>\n",
    "<h3>INPUT</h3>\n",
    "<ul>\n",
    "<li>__N__: Número de dígitos.</li>\n",
    "<li>__S__: Suma de los dígitos.</li>\n",
    "</ul>\n",
    "<br>\n",
    "<h3>OUTPUT</h3>\n",
    "<ul>\n",
    "<li>__T__: Número que cumple las condiciones requeridas.</li>\n",
    "<ul>\n",
    "\n",
    "</p>\n",
    "\n",
    "</div>"
   ]
  },
  {
   "cell_type": "code",
   "execution_count": 46,
   "metadata": {},
   "outputs": [],
   "source": [
    "def largest_number(N, S):\n",
    "    print(N)\n",
    "    print(S)\n",
    "    T = []\n",
    "    for i in range(N):   #Retocar con los modulos\n",
    "        if(S>9):\n",
    "            S -= 9\n",
    "            T.append(9)\n",
    "        elif(S>8):\n",
    "            S -= 8\n",
    "            T.append(8)\n",
    "        elif(S>7):\n",
    "            S -= 7\n",
    "            T.append(7)\n",
    "        elif(S>6):\n",
    "            S -= 6\n",
    "            T.append(6)\n",
    "        elif(S>5):\n",
    "            S -= 5\n",
    "            T.append(5)\n",
    "        elif(S>4):\n",
    "            S -= 4\n",
    "            T.append(4)\n",
    "        elif(S>3):\n",
    "            S -= 3\n",
    "            T.append(3)\n",
    "        elif(S>2):\n",
    "            S -= 2\n",
    "            T.append(2)\n",
    "        elif(S>1):\n",
    "            S -= 1\n",
    "            T.append(1)\n",
    "        else:\n",
    "            T.append(0)\n",
    "    total = 0\n",
    "    numeroT = \"\"\n",
    "    for i in T:\n",
    "        numeroT += str(i)\n",
    "        total+= i\n",
    "    print(total)\n",
    "    return int(numeroT)"
   ]
  },
  {
   "cell_type": "code",
   "execution_count": 47,
   "metadata": {},
   "outputs": [
    {
     "name": "stdout",
     "output_type": "stream",
     "text": [
      "15\n",
      "277\n",
      "135\n",
      "999999999999999\n"
     ]
    }
   ],
   "source": [
    "from random import randint\n",
    "\n",
    "n = randint(1, 50)\n",
    "s = randint(1, 500)\n",
    "\n",
    "print(largest_number(n, s))"
   ]
  },
  {
   "cell_type": "markdown",
   "metadata": {},
   "source": [
    "<div class=\"alert alert-success\" style=\"width:90%; margin:0 auto;\">\n",
    "  <h2><p>5 - Minimiza la suma del producto</p></h2>\n",
    "  \n",
    "  <p>\n",
    "  Dadas dos listas de números $A$ y $B$ del mismo tamaño $N$, minimiza $A[0]*B[0] + A[1]*B[1] + ... + A[N]*B[N]$ cambiando de orden los elementos de la listas.\n",
    "  </p>"
   ]
  },
  {
   "cell_type": "markdown",
   "metadata": {},
   "source": [
    "<div class=\"alert alert-danger\" style=\"width:80%; margin:0 auto; padding\">\n",
    "<center><p><h3> Código </h3></p> </center> \n",
    "\n",
    "<p>\n",
    "<h3>INPUT</h3>\n",
    "<ul>\n",
    "<li>__A__: Lista de números.</li>\n",
    "<li>__B__: Lista de números.</li>\n",
    "</ul>\n",
    "<br>\n",
    "<h3>OUTPUT</h3>\n",
    "<ul>\n",
    "<li>__S__: Suma de productos.</li>\n",
    "<ul>\n",
    "\n",
    "</p>\n",
    "\n",
    "</div>"
   ]
  },
  {
   "cell_type": "code",
   "execution_count": 48,
   "metadata": {},
   "outputs": [],
   "source": [
    "def minimize_sum_prod(A, B): #We are going to do the product with the minimun value of the list A and the maximun of the B \n",
    "    A.sort()\n",
    "    B.sort(reverse = True)\n",
    "    S = 0\n",
    "    for i in range (len(A)):\n",
    "        S += A[i]*B[i] \n",
    "    return S"
   ]
  },
  {
   "cell_type": "code",
   "execution_count": 49,
   "metadata": {},
   "outputs": [
    {
     "data": {
      "text/plain": [
       "77249"
      ]
     },
     "execution_count": 49,
     "metadata": {},
     "output_type": "execute_result"
    }
   ],
   "source": [
    "from random import randint\n",
    "\n",
    "N = 50\n",
    "A = [randint(1,100) for _ in range(N)]\n",
    "B = [randint(1,100) for _ in range(N)]\n",
    "minimize_sum_prod(A,B)"
   ]
  },
  {
   "cell_type": "markdown",
   "metadata": {},
   "source": [
    "  <div class=\"alert alert-success\" style=\"width:90%; margin:0 auto;\">\n",
    "\n",
    "  <h2><p>6- El problema de la mochila</p></h2>\n",
    "  \n",
    "  <center><img src=\"img/knapsack.png\" width=30%></center>\n",
    "  \n",
    "  <p>\n",
    "    Nos encontramos en una habitación en la que hay $N$ objetos, cada cual con un peso $w_1, w_2, w_3 ... w_N$ y un valor $v_1, v_2, v_3 ... v_N$. Disponemos de una mochila que puede soportar una carga máxima de $W$.\n",
    "    Se os pide que implementéis un algoritmo greedy Greedy para conseguir llenar la mochila maximizando el valor total de la misma. Es decir queremos encontrar la combinación de objetos $b$ tal que $\\arg_{b} \\max{\\sum_{i=0}^{N}{v_i · b_i}}$ manteniendo siempre cierto que no superamos el peso máximo de la mochila: $\\sum_{i=0}^{N}{(w_i · b_i)}\\leq W$.\n",
    "     \n",
    "</p>"
   ]
  },
  {
   "cell_type": "markdown",
   "metadata": {},
   "source": [
    "<div class=\"alert alert-danger\" style=\"width:80%; margin:0 auto; padding\">\n",
    "<center><p><h3> Código </h3></p> </center> \n",
    "\n",
    "<p>\n",
    "<h3>INPUT</h3>\n",
    "<ul>\n",
    "<li>__Items__: Lista de objetos en forma de tuplas (peso, valor).</li>\n",
    "</ul>\n",
    "<br>\n",
    "<h3>OUTPUT</h3>\n",
    "<ul>\n",
    "<li>__Packed__: Lista de objetos que nos llevaremos en la mochila.</li>\n",
    "<ul>\n",
    "\n",
    "</p>\n",
    "\n",
    "</div>"
   ]
  },
  {
   "cell_type": "code",
   "execution_count": 3,
   "metadata": {},
   "outputs": [],
   "source": [
    "def knapsack(W, items):\n",
    "    relaciones = []\n",
    "    Packed = []\n",
    "    for i in items:\n",
    "        relaciones.append([i[0]/i[1],i[0],i[1]])\n",
    "    relaciones.sort()\n",
    "    totalPeso = 0\n",
    "    totalAcumulado = 0\n",
    "    for i in relaciones:\n",
    "        if(totalPeso+i[1] < W):\n",
    "            Packed.append([i[1],i[2]])\n",
    "            totalPeso += i[1]\n",
    "            totalAcumulado += i[2]\n",
    "        else:\n",
    "            break\n",
    "    return Packed"
   ]
  },
  {
   "cell_type": "code",
   "execution_count": 4,
   "metadata": {},
   "outputs": [
    {
     "name": "stdout",
     "output_type": "stream",
     "text": [
      "[[2.0380684831930047, 96.5261264994028], [2.071487850351361, 83.92076481320088], [2.5314631425809067, 88.11021629750701], [2.8582064569561942, 94.51370607137768], [2.0094996567036314, 50.14203532194007], [3.316821840599254, 51.72679365193362], [6.483281739823111, 88.47517822939479], [5.320660656309414, 69.95886678397255], [2.711766485282478, 33.89033364679821], [6.195987999355208, 72.93941455337865], [4.374189797423367, 49.87111788320212], [5.891688531910464, 62.72626569996176], [9.24888855171408, 95.11142893008581], [8.576561223578905, 75.02057404362282], [4.278651082083531, 36.380341481157274], [5.3889564704719595, 37.618202357962495], [2.710290825601794, 18.113299194070365], [7.2812319860405195, 34.52080105921169], [6.136359166830235, 27.80574032644949], [4.796521250369119, 19.25359596677766], [3.7656315820850526, 13.636166350455447]]\n"
     ]
    }
   ],
   "source": [
    "from random import uniform\n",
    "\n",
    "W = 100\n",
    "N_items = 25\n",
    "items = [(uniform(0.01, 10), uniform(0, 100)) for _ in range(N_items)]\n",
    "\n",
    "print(knapsack(W, items))"
   ]
  }
 ],
 "metadata": {
  "kernelspec": {
   "display_name": "Python 3",
   "language": "python",
   "name": "python3"
  },
  "language_info": {
   "codemirror_mode": {
    "name": "ipython",
    "version": 3
   },
   "file_extension": ".py",
   "mimetype": "text/x-python",
   "name": "python",
   "nbconvert_exporter": "python",
   "pygments_lexer": "ipython3",
   "version": "3.7.3"
  }
 },
 "nbformat": 4,
 "nbformat_minor": 2
}
